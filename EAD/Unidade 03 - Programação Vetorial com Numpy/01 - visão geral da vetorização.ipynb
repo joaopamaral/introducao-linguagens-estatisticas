{
 "cells": [
  {
   "cell_type": "markdown",
   "metadata": {},
   "source": [
    "# Vetorização\n",
    "\n",
    "\n",
    "Muitas vezes em computação cientifíca, aprendizado de máquinas e análise de dados, nós temos de executar operações em listas, vetores ou matrizes.\n",
    "\n",
    "Por exemplo o somatório a seguir:\n",
    "\n",
    "$\\sum_{i=1}^N x_i$ "
   ]
  },
  {
   "cell_type": "code",
   "execution_count": 9,
   "metadata": {
    "collapsed": true
   },
   "outputs": [],
   "source": [
    "X = [1, 4, 6]"
   ]
  },
  {
   "cell_type": "code",
   "execution_count": 11,
   "metadata": {
    "collapsed": true
   },
   "outputs": [
    {
     "data": {
      "text/plain": [
       "11"
      ]
     },
     "execution_count": 11,
     "metadata": {},
     "output_type": "execute_result"
    }
   ],
   "source": [
    "# TODO: Fazer a versão iterative (não vetorizada)\n",
    "def soma_interativa(X):\n",
    "    soma = 0\n",
    "    for x_i in X:\n",
    "        soma += x_i\n",
    "\n",
    "    return soma\n",
    "\n",
    "soma_interativa(X)"
   ]
  },
  {
   "cell_type": "code",
   "execution_count": 12,
   "metadata": {
    "collapsed": true
   },
   "outputs": [
    {
     "data": {
      "text/plain": [
       "11"
      ]
     },
     "execution_count": 12,
     "metadata": {},
     "output_type": "execute_result"
    }
   ],
   "source": [
    "# TODO: versão vetorizada utilizando função sum do python\n",
    "sum(X)"
   ]
  },
  {
   "cell_type": "code",
   "execution_count": 13,
   "metadata": {
    "collapsed": true
   },
   "outputs": [
    {
     "data": {
      "text/plain": [
       "11"
      ]
     },
     "execution_count": 13,
     "metadata": {},
     "output_type": "execute_result"
    }
   ],
   "source": [
    "# TODO: versão vetorizada com numpy\n",
    "import numpy as np\n",
    "\n",
    "np.sum(X)"
   ]
  },
  {
   "cell_type": "code",
   "execution_count": 14,
   "metadata": {
    "collapsed": true
   },
   "outputs": [
    {
     "name": "stderr",
     "output_type": "stream",
     "text": [
      "C:\\Users\\Joao\\Anaconda3\\lib\\site-packages\\ipykernel_launcher.py:5: RuntimeWarning: overflow encountered in long_scalars\n",
      "  \"\"\"\n"
     ]
    },
    {
     "name": "stdout",
     "output_type": "stream",
     "text": [
      "1.49 s ± 56.8 ms per loop (mean ± std. dev. of 7 runs, 1 loop each)\n"
     ]
    },
    {
     "name": "stderr",
     "output_type": "stream",
     "text": [
      "C:\\Users\\Joao\\Anaconda3\\lib\\site-packages\\ipykernel_launcher.py:1: RuntimeWarning: overflow encountered in long_scalars\n",
      "  \"\"\"Entry point for launching an IPython kernel.\n"
     ]
    },
    {
     "name": "stdout",
     "output_type": "stream",
     "text": [
      "1.18 s ± 2.79 ms per loop (mean ± std. dev. of 7 runs, 1 loop each)\n",
      "5.78 ms ± 48.3 µs per loop (mean ± std. dev. of 7 runs, 100 loops each)\n"
     ]
    }
   ],
   "source": [
    "X = np.random.randint(0, 1000, 10000000)\n",
    "\n",
    "# TODO: Exibir o tempo de execução\n",
    "\n",
    "%timeit soma_interativa(X)\n",
    "%timeit sum(X)\n",
    "%timeit np.sum(X)"
   ]
  },
  {
   "cell_type": "markdown",
   "metadata": {},
   "source": [
    "Além do somatório, nós poderíamos querer elevar todos o números ao quadrado ou tirar o log deles.\n",
    "Na simbologia matemática seria assim, supondo que $X = \\{x_1, ..., x_N\\}$ seja um vetor com $N$ elementos.\n",
    "Queremos que $X^2 = \\{x_1^2, x_2^2, x_3^2, ..., x_N^2\\}$ e $\\log(X) = \\{\\log(x_1), \\log(x_2), \\log(x_3), ..., \\log(x_N)\\}$. \n",
    "\n",
    "Vamos ver como ficaria vetorizado."
   ]
  },
  {
   "cell_type": "code",
   "execution_count": 1,
   "metadata": {
    "collapsed": true
   },
   "outputs": [],
   "source": [
    "X = [1, 4, 6]"
   ]
  },
  {
   "cell_type": "code",
   "execution_count": 2,
   "metadata": {
    "collapsed": true
   },
   "outputs": [
    {
     "name": "stdout",
     "output_type": "stream",
     "text": [
      "[1, 16, 36]\n",
      "[0.0, 1.3862943611198906, 1.791759469228055]\n"
     ]
    }
   ],
   "source": [
    "# TODO: Fazer a versão iterative (não vetorizada)\n",
    "import math\n",
    "\n",
    "print([x_i**2 for x_i in X])\n",
    "print([math.log(x_i) for x_i in X])"
   ]
  },
  {
   "cell_type": "code",
   "execution_count": 3,
   "metadata": {
    "collapsed": true
   },
   "outputs": [
    {
     "data": {
      "text/plain": [
       "array([0.        , 1.38629436, 1.79175947])"
      ]
     },
     "execution_count": 3,
     "metadata": {},
     "output_type": "execute_result"
    }
   ],
   "source": [
    "# TODO: versão vetorizada com numpy\n",
    "import numpy as np\n",
    "\n",
    "np.log(X)"
   ]
  }
 ],
 "metadata": {
  "kernelspec": {
   "display_name": "Python 3",
   "language": "python",
   "name": "python3"
  },
  "language_info": {
   "codemirror_mode": {
    "name": "ipython",
    "version": 3
   },
   "file_extension": ".py",
   "mimetype": "text/x-python",
   "name": "python",
   "nbconvert_exporter": "python",
   "pygments_lexer": "ipython3",
   "version": "3.6.4"
  }
 },
 "nbformat": 4,
 "nbformat_minor": 2
}
