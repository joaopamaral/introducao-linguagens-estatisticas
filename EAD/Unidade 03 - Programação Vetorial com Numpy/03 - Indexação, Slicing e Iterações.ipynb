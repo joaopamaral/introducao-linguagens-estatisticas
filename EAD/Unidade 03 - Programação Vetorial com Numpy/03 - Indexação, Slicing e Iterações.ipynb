{
 "cells": [
  {
   "cell_type": "markdown",
   "metadata": {},
   "source": [
    "# Indexação, Slicing e Iteração\n",
    "\n",
    "Array uni-dimensional podem ser idenxados, repartidos e iterados muito similarmente a lista e outras sequências do Python."
   ]
  },
  {
   "cell_type": "code",
   "execution_count": 1,
   "metadata": {},
   "outputs": [
    {
     "name": "stdout",
     "output_type": "stream",
     "text": [
      "[ 0  1  4  9 16 25 36 49 64 81]\n",
      "16\n",
      "[25 36 49 64 81]\n",
      "[ 0  4 16 36 64]\n",
      "[81 64 49 36 25 16  9  4  1  0]\n"
     ]
    }
   ],
   "source": [
    "import numpy as np\n",
    "\n",
    "a = np.arange(10)**2\n",
    "\n",
    "print(a)\n",
    "\n",
    "print(a[4])\n",
    "\n",
    "print(a[5:])\n",
    "\n",
    "print(a[::2]) # de 2 em dois\n",
    "\n",
    "print(a[::-1]) # invertendo"
   ]
  },
  {
   "cell_type": "markdown",
   "metadata": {},
   "source": [
    "Array multidimensional tem um indice por eixo."
   ]
  },
  {
   "cell_type": "code",
   "execution_count": 2,
   "metadata": {},
   "outputs": [
    {
     "name": "stdout",
     "output_type": "stream",
     "text": [
      "[[  0   1   4   9]\n",
      " [ 16  25  36  49]\n",
      " [ 64  81 100 121]\n",
      " [144 169 196 225]]\n",
      "1\n",
      "[ 0 16 64]\n",
      "[  0  16  64 144]\n",
      "[144 169 196 225]\n"
     ]
    }
   ],
   "source": [
    "a = (np.arange(16)**2).reshape((4, 4))\n",
    "\n",
    "print(a)\n",
    "\n",
    "# elemento da linha 0 e coluna 1\n",
    "print(a[0, 1])\n",
    "\n",
    "print(a[:3, 0]) # elementos da linha 0 a 2 da coluna 0\n",
    "\n",
    "print(a[:, 0]) # todos elementos da coluna 0\n",
    "\n",
    "print(a[-1]) # equivalente a a[-1, :]"
   ]
  },
  {
   "cell_type": "code",
   "execution_count": 3,
   "metadata": {},
   "outputs": [
    {
     "name": "stdout",
     "output_type": "stream",
     "text": [
      "[0 1 4 9]\n",
      "[16 25 36 49]\n",
      "[ 64  81 100 121]\n",
      "[144 169 196 225]\n"
     ]
    }
   ],
   "source": [
    "for linha in a:\n",
    "    print(linha)"
   ]
  },
  {
   "cell_type": "markdown",
   "metadata": {},
   "source": [
    "## Manipulação do Shape"
   ]
  },
  {
   "cell_type": "code",
   "execution_count": 4,
   "metadata": {},
   "outputs": [
    {
     "name": "stdout",
     "output_type": "stream",
     "text": [
      "[[  0   1   4   9]\n",
      " [ 16  25  36  49]\n",
      " [ 64  81 100 121]\n",
      " [144 169 196 225]]\n",
      "[  0   1   4   9  16  25  36  49  64  81 100 121 144 169 196 225]\n",
      "[[  0   1]\n",
      " [  4   9]\n",
      " [ 16  25]\n",
      " [ 36  49]\n",
      " [ 64  81]\n",
      " [100 121]\n",
      " [144 169]\n",
      " [196 225]]\n",
      "[[  0  16  64 144]\n",
      " [  1  25  81 169]\n",
      " [  4  36 100 196]\n",
      " [  9  49 121 225]]\n"
     ]
    }
   ],
   "source": [
    "a = (np.arange(16)**2).reshape((4, 4))\n",
    "\n",
    "print(a)\n",
    "\n",
    "# flattened array\n",
    "print(a.ravel())\n",
    "\n",
    "# retorna array com novo formato\n",
    "print(a.reshape(8,2))\n",
    "\n",
    "# transposta\n",
    "print(a.T)"
   ]
  },
  {
   "cell_type": "markdown",
   "metadata": {},
   "source": [
    "## Truques de Indexação\n",
    "\n",
    "NumPy oferece mais opções de indexação do que Python. Além da indexação por inteiros e slices, como vimos anteriormente, arrays podem ser indexados por outros arrays de inteiros e booleanos."
   ]
  },
  {
   "cell_type": "code",
   "execution_count": 5,
   "metadata": {},
   "outputs": [
    {
     "name": "stdout",
     "output_type": "stream",
     "text": [
      "[ 1  1 36  9 25]\n",
      "[[ 1 36]\n",
      " [ 9 25]]\n"
     ]
    }
   ],
   "source": [
    "a = np.arange(12)**2                      \n",
    "indices = np.array([1, 1, 6, 3, 5])\n",
    "\n",
    "print(a[indices])\n",
    "\n",
    "bidim_indices = np.array([[1, 6], [3, 5]])\n",
    "\n",
    "print(a[bidim_indices])"
   ]
  },
  {
   "cell_type": "markdown",
   "metadata": {},
   "source": [
    "Quando estamos indexando um array multimensional, um único array de indices refere-se a primeira dimensão de **a**."
   ]
  },
  {
   "cell_type": "code",
   "execution_count": 6,
   "metadata": {},
   "outputs": [
    {
     "name": "stdout",
     "output_type": "stream",
     "text": [
      "[[  0   1   4]\n",
      " [  9  16  25]\n",
      " [ 36  49  64]\n",
      " [ 81 100 121]\n",
      " [144 169 196]\n",
      " [225 256 289]\n",
      " [324 361 400]]\n"
     ]
    },
    {
     "data": {
      "text/plain": [
       "array([[[  9,  16,  25],\n",
       "        [  0,   1,   4]],\n",
       "\n",
       "       [[ 36,  49,  64],\n",
       "        [324, 361, 400]]], dtype=int32)"
      ]
     },
     "execution_count": 6,
     "metadata": {},
     "output_type": "execute_result"
    }
   ],
   "source": [
    "a = (np.arange(21)**2).reshape((7, 3))\n",
    "\n",
    "print(a)\n",
    "\n",
    "bidim_indices = np.array([[1, 0], [2, 6]])\n",
    "\n",
    "a[bidim_indices] "
   ]
  },
  {
   "cell_type": "code",
   "execution_count": 7,
   "metadata": {},
   "outputs": [
    {
     "name": "stdout",
     "output_type": "stream",
     "text": [
      "[  4  16 256]\n",
      "[[  0   4]\n",
      " [  9  25]\n",
      " [ 36  64]\n",
      " [ 81 121]\n",
      " [144 196]\n",
      " [225 289]\n",
      " [324 400]]\n"
     ]
    }
   ],
   "source": [
    "# tem de ter o mesmo tamanho\n",
    "id_linhas = np.array([0, 1, 5])\n",
    "id_colunas = np.array([2, 1, 1])\n",
    "\n",
    "print(a[id_linhas, id_colunas])\n",
    "\n",
    "print(a[:, [0,2]])"
   ]
  },
  {
   "cell_type": "markdown",
   "metadata": {},
   "source": [
    "### Indexando com booleanos"
   ]
  },
  {
   "cell_type": "code",
   "execution_count": 8,
   "metadata": {},
   "outputs": [
    {
     "name": "stdout",
     "output_type": "stream",
     "text": [
      "[[False False False]\n",
      " [False False False]\n",
      " [False False False]\n",
      " [False False False]\n",
      " [False False False]\n",
      " [ True  True  True]\n",
      " [ True  True  True]]\n"
     ]
    },
    {
     "data": {
      "text/plain": [
       "array([225, 256, 289, 324, 361, 400], dtype=int32)"
      ]
     },
     "execution_count": 8,
     "metadata": {},
     "output_type": "execute_result"
    }
   ],
   "source": [
    "b = a > 200\n",
    "\n",
    "print(b)\n",
    "\n",
    "a[b]"
   ]
  },
  {
   "cell_type": "code",
   "execution_count": 9,
   "metadata": {},
   "outputs": [
    {
     "data": {
      "text/plain": [
       "array([[  0,   1,   4],\n",
       "       [  9,  16,  25],\n",
       "       [ 36,  49,  64],\n",
       "       [ 81, 100, 121],\n",
       "       [144, 169, 196],\n",
       "       [  0,   0,   0],\n",
       "       [  0,   0,   0]], dtype=int32)"
      ]
     },
     "execution_count": 9,
     "metadata": {},
     "output_type": "execute_result"
    }
   ],
   "source": [
    "# pode ser util para atribuição de valores\n",
    "a[b] = 0\n",
    "a"
   ]
  },
  {
   "cell_type": "code",
   "execution_count": null,
   "metadata": {},
   "outputs": [],
   "source": []
  }
 ],
 "metadata": {
  "kernelspec": {
   "display_name": "Python 3",
   "language": "python",
   "name": "python3"
  },
  "language_info": {
   "codemirror_mode": {
    "name": "ipython",
    "version": 3
   },
   "file_extension": ".py",
   "mimetype": "text/x-python",
   "name": "python",
   "nbconvert_exporter": "python",
   "pygments_lexer": "ipython3",
   "version": "3.6.4"
  }
 },
 "nbformat": 4,
 "nbformat_minor": 2
}
