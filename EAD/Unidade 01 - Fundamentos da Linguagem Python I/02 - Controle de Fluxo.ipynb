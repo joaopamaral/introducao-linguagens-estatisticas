{
 "cells": [
  {
   "cell_type": "markdown",
   "metadata": {},
   "source": [
    "# Controle de Fluxo\n",
    "\n",
    "Nesse jupyter notebook, vamos visitar os comandos (instruções) de controle de fluxo em python. São eles:\n",
    "\n",
    "- if..else\n",
    "- laços de repetição:\n",
    " - for\n",
    " - while\n",
    " \n",
    " \n",
    " \n",
    "## if...else\n",
    "\n",
    "O comando *if* é útilizado quando queremos bifurcações nas decisões em nosso código, ou seja, quando queremos executar um trecho do código apenas se uma determinada condição for satisfeita.\n",
    "\n",
    "Vamos escrever um código que imprime na tela se um dado número é positivo ou não."
   ]
  },
  {
   "cell_type": "code",
   "execution_count": 1,
   "metadata": {},
   "outputs": [
    {
     "name": "stdout",
     "output_type": "stream",
     "text": [
      "(3, '\\xc3\\xa9 positivo!')\n",
      "(3, '\\xc3\\xa9 negativo!')\n"
     ]
    }
   ],
   "source": [
    "num = 3\n",
    "if num >= 0:\n",
    "    print(num, \"é positivo!\")\n",
    "# é sempre impresso\n",
    "print(num, \"é negativo!\")"
   ]
  },
  {
   "cell_type": "markdown",
   "metadata": {},
   "source": [
    "No exemplo, acima queríamo imprimir na tela se o número é positivo ou não, porém é sempre impresso que o número negativo.\n",
    "\n",
    "Daí temos a expressão ```else```, que significa: *caso a condição anterior [da cláusula ```if```] não seja satisfeita execute o comando*. Rescrevendo o código acima:"
   ]
  },
  {
   "cell_type": "code",
   "execution_count": 3,
   "metadata": {},
   "outputs": [
    {
     "name": "stdout",
     "output_type": "stream",
     "text": [
      "(3, 'eh positivo!')\n",
      "(-1, 'eh negativo!')\n"
     ]
    }
   ],
   "source": [
    "num = 3\n",
    "if num >= 0:\n",
    "    print(num, \"eh positivo!\")\n",
    "else:\n",
    "    print(num, \"eh negativo!\")\n",
    "    \n",
    "num = -1\n",
    "if num >= 0:\n",
    "    print(num, \"eh positivo!\")\n",
    "else:\n",
    "    print(num, \"eh negativo!\")"
   ]
  },
  {
   "cell_type": "markdown",
   "metadata": {},
   "source": [
    "Caso quiséssemos que o ```else``` fosse executado apenas para condições especificas? Para isso existe o comando ```elif``` (em outras linguagens *else if*). Com ele conseguimos especificar varias outras condições. Voltando ao exemplo anterior, suponhamos que além de saber se um número é positivo e negativo, queremos também saber se ele é zero."
   ]
  },
  {
   "cell_type": "code",
   "execution_count": 4,
   "metadata": {},
   "outputs": [
    {
     "name": "stdout",
     "output_type": "stream",
     "text": [
      "(3.4, '\\xc3\\xa9 positivo!')\n"
     ]
    }
   ],
   "source": [
    "num = 3.4\n",
    "if num > 0:\n",
    "    print(num, \"é positivo!\")\n",
    "elif num < 0:\n",
    "    print(num, \"é negativo!\")\n",
    "else:\n",
    "    print(num, \"é zero!\")"
   ]
  },
  {
   "cell_type": "markdown",
   "metadata": {},
   "source": [
    "Podemos adicionar quantas cláusualas ```elif``` quisermos, porém elas devem ser precedidas pela cláusula ```if```.\n",
    "\n",
    "### Exercícios\n",
    "\n",
    "Para exercitar um pouco a sintaxe do python e o que foi passado, peço para que você faça os seguintes exercícios:\n",
    "\n",
    "#### Exercício 1\n",
    "\n",
    "Escreva uma código que verifique se um número é par ou ímpar."
   ]
  },
  {
   "cell_type": "code",
   "execution_count": 2,
   "metadata": {
    "collapsed": true
   },
   "outputs": [
    {
     "name": "stdout",
     "output_type": "stream",
     "text": [
      "False\n",
      "True\n"
     ]
    }
   ],
   "source": [
    "def isEven(x):\n",
    "    if x%2 == 0:\n",
    "        return True\n",
    "    return False\n",
    "\n",
    "print(isEven(3))\n",
    "print(isEven(6))"
   ]
  },
  {
   "cell_type": "markdown",
   "metadata": {},
   "source": [
    "#### Exercício 2\n",
    "\n",
    "Escreva uma código que imprima o maior entre 3 números."
   ]
  },
  {
   "cell_type": "code",
   "execution_count": 3,
   "metadata": {
    "collapsed": true
   },
   "outputs": [
    {
     "name": "stdout",
     "output_type": "stream",
     "text": [
      "20\n"
     ]
    }
   ],
   "source": [
    "a = 1\n",
    "b = 20\n",
    "c = -10\n",
    "\n",
    "# escreva seu código aqui\n",
    "def imprimeMaior(*numeros):\n",
    "    print(max(numeros))\n",
    "# sáida esperada: 20\n",
    "imprimeMaior(a,b,c)"
   ]
  },
  {
   "cell_type": "markdown",
   "metadata": {},
   "source": [
    "## Laços de Repetição\n",
    "\n",
    "Laços são comandos com os quais podemos executar um bloco de código mais de uma vez. Geralmente, é utilizado para iterar sobre uma sequência (i.e., lista, tupla, string).\n",
    "\n",
    "### Comando for\n",
    "\n",
    "A sintaxe do comando for é basicamente o descrito abaixo:\n",
    "\n",
    "```python\n",
    "for val in sequencia:\n",
    "    # trecho de código\n",
    "```\n",
    "\n",
    "```val``` corresponde a valor corrente da sequência que está sendo avaliado. O laço itera sobre todos os valores da sequência até que seu último item.\n",
    "\n",
    "#### Range\n",
    "\n",
    "O laço for em python é um distinto dos comandos visto em outra linguagens. Aqui, precisamos de uma sequência para que possamos executar o laço, para isso o python no fornece a função ```range```. Abaixo descrevo a sintaxe e exemplos de uso dessa função.\n",
    "\n",
    "```python\n",
    "# cria uma sequência de 0 até fim - 1\n",
    "range(fim)\n",
    "\n",
    "# cria uma sequência de inicio até fim - 1\n",
    "range(inicio, fim)\n",
    "\n",
    "# cria uma sequência de inicio até fim - 1 incrementando passos\n",
    "range(inicio, fim, passos)\n",
    "```"
   ]
  },
  {
   "cell_type": "code",
   "execution_count": 4,
   "metadata": {},
   "outputs": [
    {
     "name": "stdout",
     "output_type": "stream",
     "text": [
      "[0, 1, 2, 3, 4, 5, 6, 7, 8]\n",
      "[2, 3, 4, 5, 6, 7, 8]\n",
      "[0, 3, 6]\n"
     ]
    }
   ],
   "source": [
    "print(list(range(9)))\n",
    "\n",
    "print(list(range(2, 9)))\n",
    "\n",
    "print(list(range(0, 9, 3)))"
   ]
  },
  {
   "cell_type": "markdown",
   "metadata": {},
   "source": [
    "Vamos então ver um exemplo do laço for"
   ]
  },
  {
   "cell_type": "code",
   "execution_count": 9,
   "metadata": {},
   "outputs": [
    {
     "name": "stdout",
     "output_type": "stream",
     "text": [
      "45 = 45\n"
     ]
    }
   ],
   "source": [
    "soma = 0\n",
    "n = 10\n",
    "for val in range(1, n):\n",
    "    soma += val\n",
    "soma\n",
    "\n",
    "print(\"%d = %d\" % (soma, (n * (n - 1)) // 2))"
   ]
  },
  {
   "cell_type": "markdown",
   "metadata": {},
   "source": [
    "### Comando while\n",
    "\n",
    "O laço while é utilizado para iterar sobre um bloco de código até que uma condição de parada seja alcançada, como mostrado no exemplo de sintacxe a seguir:\n",
    "\n",
    "```python\n",
    "while condicao:\n",
    "    # trecho de código\n",
    "```\n",
    "\n",
    "No laço while, a condição é verificado antes. O corpo do while é executado se e somente se a condição for verdadeira.\n",
    "\n",
    "Em python, a corpo do while é determindado pela identação.\n",
    "\n",
    "Em python, qualquer valor diferente de zero é interpretado como ```True```. None e 0 são interpredatos como ```False```.\n",
    "\n",
    "Vamos reescrever o exemplo anterior para utilizarmos o comando while."
   ]
  },
  {
   "cell_type": "code",
   "execution_count": 10,
   "metadata": {},
   "outputs": [
    {
     "name": "stdout",
     "output_type": "stream",
     "text": [
      "45 = 45\n"
     ]
    }
   ],
   "source": [
    "soma = 0\n",
    "n = 10\n",
    "i = 1\n",
    "while i < n:\n",
    "    soma += i\n",
    "    i += 1\n",
    "\n",
    "print(\"%d = %d\" % (soma, (n * (n - 1)) // 2))"
   ]
  },
  {
   "cell_type": "markdown",
   "metadata": {},
   "source": [
    "Na trecho de código acima, a condição ```ì < n``` será verdadeira até que i seja menor que n (9 no nosso caso).\n",
    "\n",
    "A cada iteração, o valor de i é incrementado em uma unidade. Isso é muito importante (causa de muitos bugs), pois esquecendo disso pode-se causar loop infinito (laço nunca para de iterar).\n",
    "\n",
    "### Exercícios\n",
    "\n",
    "Para exercitar um pouco a sintaxe do python e o que foi passado, peço para que você faça os seguintes exercícios:\n",
    "\n",
    "#### Exercício 3\n",
    "\n",
    "Escreva um código para calcular e imprimr o n-ésimo termo da sequência [Fibonacci](https://pt.wikipedia.org/wiki/Sequ%C3%AAncia_de_Fibonacci) utilizando ambos os laços while e for. A sequência fibonacci é uma sequência de números inteiros, que inicia com 0 e 1 e os restantes dos termos é definida pela soma dos dois anteriores a ele, ou seja, $F_n = F_{n-1} + F_{n-2}$.\n",
    "\n",
    "Segue o exemplo dos 10 primeiros termos da sequência:\n",
    "\n",
    "0, 1, 1, 2, 3, 5, 8, 13, 21, 34, ..."
   ]
  },
  {
   "cell_type": "code",
   "execution_count": 14,
   "metadata": {},
   "outputs": [
    {
     "name": "stdout",
     "output_type": "stream",
     "text": [
      "10\n",
      "34\n"
     ]
    }
   ],
   "source": [
    "import math\n",
    "\n",
    "n = input() - 1\n",
    "F1 = 0\n",
    "F2 = 1\n",
    "for i in range(2, n):\n",
    "    temp = F1 + F2\n",
    "    F1 = F2\n",
    "    F2 = temp\n",
    "    \n",
    "if n <= 0:\n",
    "    print(0)\n",
    "elif n == 1:\n",
    "    print(1)\n",
    "else:\n",
    "    print(F1 + F2)"
   ]
  }
 ],
 "metadata": {
  "kernelspec": {
   "display_name": "Python 3",
   "language": "python",
   "name": "python3"
  },
  "language_info": {
   "codemirror_mode": {
    "name": "ipython",
    "version": 3
   },
   "file_extension": ".py",
   "mimetype": "text/x-python",
   "name": "python",
   "nbconvert_exporter": "python",
   "pygments_lexer": "ipython3",
   "version": "3.6.4"
  }
 },
 "nbformat": 4,
 "nbformat_minor": 2
}
