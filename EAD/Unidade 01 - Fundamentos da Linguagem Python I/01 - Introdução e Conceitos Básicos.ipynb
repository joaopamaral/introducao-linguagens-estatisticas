{
 "cells": [
  {
   "cell_type": "markdown",
   "metadata": {},
   "source": [
    "## Indentificadores\n",
    "\n",
    "* Identificadores podem ser uma combinação de letras maiúscula (A - Z) ou minúsculas (a - z) ou digitos (0 a 9) ou underscore (\\_). Exemplos validos são: variable1, meuContatodor, dia\\_da\\_semana\\_.\n",
    "\n",
    "* Um identificador não pode começar com dígitos. No campo abaixo crie um identificador iniciando com digito, aperte crtl + enter e veja o que ocorre."
   ]
  },
  {
   "cell_type": "code",
   "execution_count": 1,
   "metadata": {
    "collapsed": true
   },
   "outputs": [
    {
     "ename": "SyntaxError",
     "evalue": "invalid syntax (<ipython-input-1-ce145bcc5639>, line 1)",
     "output_type": "error",
     "traceback": [
      "\u001b[1;36m  File \u001b[1;32m\"<ipython-input-1-ce145bcc5639>\"\u001b[1;36m, line \u001b[1;32m1\u001b[0m\n\u001b[1;33m    1variavel\u001b[0m\n\u001b[1;37m            ^\u001b[0m\n\u001b[1;31mSyntaxError\u001b[0m\u001b[1;31m:\u001b[0m invalid syntax\n"
     ]
    }
   ],
   "source": [
    "1variavel"
   ]
  },
  {
   "cell_type": "markdown",
   "metadata": {},
   "source": [
    "* Palavras-chave não podem ser usadas como identificadores."
   ]
  },
  {
   "cell_type": "code",
   "execution_count": 2,
   "metadata": {
    "collapsed": true
   },
   "outputs": [
    {
     "ename": "SyntaxError",
     "evalue": "invalid syntax (<ipython-input-2-b26be1b49601>, line 1)",
     "output_type": "error",
     "traceback": [
      "\u001b[1;36m  File \u001b[1;32m\"<ipython-input-2-b26be1b49601>\"\u001b[1;36m, line \u001b[1;32m1\u001b[0m\n\u001b[1;33m    for = 1\u001b[0m\n\u001b[1;37m        ^\u001b[0m\n\u001b[1;31mSyntaxError\u001b[0m\u001b[1;31m:\u001b[0m invalid syntax\n"
     ]
    }
   ],
   "source": [
    "for = 1"
   ]
  },
  {
   "cell_type": "markdown",
   "metadata": {},
   "source": [
    "* Caracteres especiais, como !, @, \\$,% etc, não são permitidos no identificador."
   ]
  },
  {
   "cell_type": "code",
   "execution_count": 3,
   "metadata": {
    "collapsed": true
   },
   "outputs": [
    {
     "ename": "SyntaxError",
     "evalue": "invalid syntax (<ipython-input-3-8e6b93f7f68f>, line 1)",
     "output_type": "error",
     "traceback": [
      "\u001b[1;36m  File \u001b[1;32m\"<ipython-input-3-8e6b93f7f68f>\"\u001b[1;36m, line \u001b[1;32m1\u001b[0m\n\u001b[1;33m    var!\u001b[0m\n\u001b[1;37m       ^\u001b[0m\n\u001b[1;31mSyntaxError\u001b[0m\u001b[1;31m:\u001b[0m invalid syntax\n"
     ]
    }
   ],
   "source": [
    "var!"
   ]
  },
  {
   "cell_type": "markdown",
   "metadata": {},
   "source": [
    "* Podem ser de qualquer tamanho\n",
    "\n",
    "Brique um pouco com os identificadores."
   ]
  },
  {
   "cell_type": "code",
   "execution_count": 4,
   "metadata": {
    "collapsed": true
   },
   "outputs": [],
   "source": [
    "# cria alguns identificadores levando em conta as regras descritas acima.\n",
    "_teste = 1\n",
    "teste12313123123123 = 2"
   ]
  },
  {
   "cell_type": "markdown",
   "metadata": {},
   "source": [
    "## Considerações Importantes\n",
    "\n",
    "* Python é **case-sensitive**\n",
    "* Sempre crie identificadores com nomes que façam sentido\n",
    "\n",
    "\n",
    "## Instruções\n",
    "\n",
    "Em python, o fim de uma instrução é marcada por um caracter de quebra de linha (i.e., \\n). Porém, uma instrução pode ser estendida a multiplas linhas com o caracter (\\). Por exemplo:"
   ]
  },
  {
   "cell_type": "code",
   "execution_count": 5,
   "metadata": {
    "collapsed": true
   },
   "outputs": [
    {
     "data": {
      "text/plain": [
       "45"
      ]
     },
     "execution_count": 5,
     "metadata": {},
     "output_type": "execute_result"
    }
   ],
   "source": [
    "a = 9 + 8 + 7 + \\\n",
    "    6 + 5 + 4 + \\\n",
    "    3 + 2 + 1\n",
    "a"
   ]
  },
  {
   "cell_type": "code",
   "execution_count": 6,
   "metadata": {
    "collapsed": true
   },
   "outputs": [
    {
     "data": {
      "text/plain": [
       "45"
      ]
     },
     "execution_count": 6,
     "metadata": {},
     "output_type": "execute_result"
    }
   ],
   "source": [
    "a = (9 + 8 + 7 +\n",
    "    6 + 5 + 4 +\n",
    "    3 + 2 + 1)\n",
    "a"
   ]
  },
  {
   "cell_type": "markdown",
   "metadata": {},
   "source": [
    "Também é possível colocar mais de uma instrução em uma mesma linha usando ponto e vírgula como separador."
   ]
  },
  {
   "cell_type": "code",
   "execution_count": 7,
   "metadata": {
    "collapsed": true
   },
   "outputs": [],
   "source": [
    "a = 1; b = 2; c = 3"
   ]
  },
  {
   "cell_type": "markdown",
   "metadata": {},
   "source": [
    "## Indentação\n",
    "\n",
    "Em python, indentação é obrigatória para definir blocos de código. Forçando o programador a boa prática de indentar, por consequência deixando o código mais legível:\n",
    "\n",
    "O trecho de código abaixo precisa ser identado para que funcione. Favor, consertá-lo e executá-lo:"
   ]
  },
  {
   "cell_type": "code",
   "execution_count": 8,
   "metadata": {
    "collapsed": true
   },
   "outputs": [
    {
     "ename": "IndentationError",
     "evalue": "expected an indented block (<ipython-input-8-5060de2e3bf4>, line 2)",
     "output_type": "error",
     "traceback": [
      "\u001b[1;36m  File \u001b[1;32m\"<ipython-input-8-5060de2e3bf4>\"\u001b[1;36m, line \u001b[1;32m2\u001b[0m\n\u001b[1;33m    print(\"Indentado!!!\")\u001b[0m\n\u001b[1;37m        ^\u001b[0m\n\u001b[1;31mIndentationError\u001b[0m\u001b[1;31m:\u001b[0m expected an indented block\n"
     ]
    }
   ],
   "source": [
    "if True:\n",
    "print(\"Indentado!!!\")"
   ]
  },
  {
   "cell_type": "markdown",
   "metadata": {},
   "source": [
    "## Comentários\n",
    "\n",
    "Comentários são muito importantes enquanto escrevemos programas. Descrevem o que está acontecendo no programa de modo que fique fácil o entendimento do código por um terceiro. Além disso, te ajuda a relembrar o funciomento do algoritmo que você escreveu há um bom tempo.\n",
    "\n",
    "Em python, nós utilizamos o símbolo cerquilha (a.k.a., jogo da velhar, sustenido, #) para demarcar a linha como sendo um comentário, vide o exemplo:"
   ]
  },
  {
   "cell_type": "code",
   "execution_count": 9,
   "metadata": {
    "collapsed": true
   },
   "outputs": [
    {
     "name": "stdout",
     "output_type": "stream",
     "text": [
      "Oi\n"
     ]
    }
   ],
   "source": [
    "# Isso é um comentário de uma linha\n",
    "print(\"Oi\")"
   ]
  },
  {
   "cell_type": "markdown",
   "metadata": {},
   "source": [
    "Todo comentário é ignorado pelo interpretador do python. Comentar seu código é uma boa prática de programação.\n",
    "\n",
    "Podemos também comentar mais de uma linha por vez, como nos exemplos a seguir.\n",
    "\n",
    "### Comentários em mais de uma linha"
   ]
  },
  {
   "cell_type": "code",
   "execution_count": 10,
   "metadata": {
    "collapsed": true
   },
   "outputs": [
    {
     "data": {
      "text/plain": [
       "'Isso é um comentário\\nmais longo que o\\nanterior'"
      ]
     },
     "execution_count": 10,
     "metadata": {},
     "output_type": "execute_result"
    }
   ],
   "source": [
    "# Isso é um comentário\n",
    "# mais longo que o\n",
    "# anterior\n",
    "\n",
    "\n",
    "\"\"\"Isso é um comentário\n",
    "mais longo que o\n",
    "anterior\"\"\""
   ]
  },
  {
   "cell_type": "markdown",
   "metadata": {},
   "source": [
    "# Variáveis e Tipos de Dados\n",
    "\n",
    "## Variáveis\n",
    "\n",
    "Uma variável é espaço de memória usado para armazenar algum dado (valor).\n",
    "\n",
    "Os nomes de variáveis seguem o mesmo padrão dos identificadores.\n",
    "\n",
    "Como python é uma liguagem de tipagem dinamica, não é preciso declara a variavel antes de usá-la, nem mesmo seu tipo. É claro que é preciso atribuir um valor para variável antes!\n",
    "\n",
    "### Atribuíção de valor"
   ]
  },
  {
   "cell_type": "code",
   "execution_count": 11,
   "metadata": {
    "collapsed": true
   },
   "outputs": [],
   "source": [
    "a = 10\n",
    "b = 0.5\n",
    "c = \"Legal!\""
   ]
  },
  {
   "cell_type": "markdown",
   "metadata": {},
   "source": [
    "Temos três atribuições distintas, sendo que cada uma das variáveis vão ter um tipo diferente. Por exemplo, *a* será um inteiro, *b* floating e *c* uma *string* (sequência de caracteres).\n",
    "\n",
    "#### Multiplas atribuições"
   ]
  },
  {
   "cell_type": "code",
   "execution_count": 12,
   "metadata": {
    "collapsed": true
   },
   "outputs": [],
   "source": [
    "a, b, c = 10,  0.5, \"Legal!\"\n",
    "\n",
    "a = b = c = \"Mesmo Valor\""
   ]
  },
  {
   "cell_type": "markdown",
   "metadata": {},
   "source": [
    "## Tipos\n",
    "\n",
    "### Numerais\n",
    "\n",
    "Python suporta inteiros, ponto flutuante e números complexos. Eles são definidos como ```int```, ```float``` e ```complex``` em Python.\n",
    "\n",
    "Nós podemos verificar a qual classe um valor pertence utilizando ```type``` ou então com o ```isinstance```. Veja o exemplo a seguir:"
   ]
  },
  {
   "cell_type": "code",
   "execution_count": 14,
   "metadata": {},
   "outputs": [
    {
     "name": "stdout",
     "output_type": "stream",
     "text": [
      "<class 'int'> True\n",
      "<class 'float'> True\n",
      "<class 'complex'> False\n"
     ]
    }
   ],
   "source": [
    "valor = 5\n",
    "print(type(valor), isinstance(valor, int))\n",
    "\n",
    "# somente python 2 existe long\n",
    "valor = 5555555555555555555555555555555555555555555\n",
    "#print(type(valor), isinstance(valor, long))\n",
    "\n",
    "valor = 5.0\n",
    "print(type(valor), isinstance(valor, float))\n",
    "\n",
    "valor  = 5.0 + 4j\n",
    "print(type(5.0 + 4j), isinstance(valor, float))"
   ]
  },
  {
   "cell_type": "markdown",
   "metadata": {},
   "source": [
    "Podemos converter valores para outros tipos. Por exemplo:"
   ]
  },
  {
   "cell_type": "code",
   "execution_count": 4,
   "metadata": {},
   "outputs": [
    {
     "name": "stdout",
     "output_type": "stream",
     "text": [
      "(<type 'int'>, <type 'float'>, <type 'long'>)\n"
     ]
    }
   ],
   "source": [
    "valor = 5\n",
    "print(type(valor), type(float(valor)), type(long(valor)))"
   ]
  },
  {
   "cell_type": "code",
   "execution_count": 5,
   "metadata": {},
   "outputs": [
    {
     "name": "stdout",
     "output_type": "stream",
     "text": [
      "(<type 'long'>, <type 'float'>, <type 'long'>)\n"
     ]
    }
   ],
   "source": [
    "valor = 5555555555555555555555555555555555555555555555555555555555555\n",
    "print(type(valor), type(float(valor)), type(int(valor)))"
   ]
  },
  {
   "cell_type": "markdown",
   "metadata": {},
   "source": [
    "### Booleanos\n",
    "\n",
    "Os tipos boleanos são utilizados para representar valores binários (0 ou 1). Para isso é utilizado as palavras-chave *True* e *False*."
   ]
  },
  {
   "cell_type": "code",
   "execution_count": 7,
   "metadata": {},
   "outputs": [
    {
     "data": {
      "text/plain": [
       "bool"
      ]
     },
     "execution_count": 7,
     "metadata": {},
     "output_type": "execute_result"
    }
   ],
   "source": [
    "type(True)"
   ]
  },
  {
   "cell_type": "code",
   "execution_count": 8,
   "metadata": {},
   "outputs": [
    {
     "data": {
      "text/plain": [
       "bool"
      ]
     },
     "execution_count": 8,
     "metadata": {},
     "output_type": "execute_result"
    }
   ],
   "source": [
    "type(False)"
   ]
  },
  {
   "cell_type": "markdown",
   "metadata": {},
   "source": [
    "### Strings\n",
    "\n",
    "São sequências de caracteres, utilizadas para representar dados textuais. Podem ser definido de vários modos:"
   ]
  },
  {
   "cell_type": "code",
   "execution_count": 9,
   "metadata": {},
   "outputs": [
    {
     "data": {
      "text/plain": [
       "'Essa uma string com aspas simples'"
      ]
     },
     "execution_count": 9,
     "metadata": {},
     "output_type": "execute_result"
    }
   ],
   "source": [
    "'Essa uma string com aspas simples'"
   ]
  },
  {
   "cell_type": "code",
   "execution_count": 10,
   "metadata": {},
   "outputs": [
    {
     "data": {
      "text/plain": [
       "'Essa uma string com aspas duplas'"
      ]
     },
     "execution_count": 10,
     "metadata": {},
     "output_type": "execute_result"
    }
   ],
   "source": [
    "\"Essa uma string com aspas duplas\""
   ]
  },
  {
   "cell_type": "code",
   "execution_count": 12,
   "metadata": {},
   "outputs": [
    {
     "data": {
      "text/plain": [
       "'String com \\n    m\\xc3\\xbaltiplas linhas'"
      ]
     },
     "execution_count": 12,
     "metadata": {},
     "output_type": "execute_result"
    }
   ],
   "source": [
    "\"\"\"String com \n",
    "    múltiplas linhas\"\"\""
   ]
  },
  {
   "cell_type": "markdown",
   "metadata": {},
   "source": [
    "### None\n",
    "\n",
    "Tipo nulo. Utilizalido para representar \"nada\"."
   ]
  },
  {
   "cell_type": "code",
   "execution_count": 13,
   "metadata": {},
   "outputs": [],
   "source": [
    "None"
   ]
  },
  {
   "cell_type": "code",
   "execution_count": 14,
   "metadata": {},
   "outputs": [
    {
     "data": {
      "text/plain": [
       "NoneType"
      ]
     },
     "execution_count": 14,
     "metadata": {},
     "output_type": "execute_result"
    }
   ],
   "source": [
    "type(None)"
   ]
  },
  {
   "cell_type": "markdown",
   "metadata": {},
   "source": [
    "## Conversão entre Tipos\n",
    "\n",
    "| Conversão            \t| Descrição                                 \t|\n",
    "|----------------------\t|-------------------------------------------\t|\n",
    "| int(x [,base])       \t| Converte a variável x em inteiro.         \t|\n",
    "| complex(real[,imag]) \t| Cria um número complexo.                  \t|\n",
    "| float(x)             \t| Converte a variável x em ponto flutuante. \t|\n",
    "| str(x)               \t| Convertea variável x em string.           \t|\n",
    "| bool(x)              \t| Convertea variável x em booleana.         \t|\n"
   ]
  },
  {
   "cell_type": "code",
   "execution_count": 15,
   "metadata": {
    "collapsed": true
   },
   "outputs": [],
   "source": [
    "# convertendo float para inteiro\n",
    "float_to_int = int(5.3)\n",
    "\n",
    "# convertendo str na base 10 para inteiro\n",
    "str_to_int = int(\"10\")\n",
    "\n",
    "# convertendo str na base 2 para inteiro\n",
    "str2_to_int = int(\"10\", 2)\n",
    "\n",
    "# convertendo inteiro para booleano\n",
    "int_to_true = bool(2)\n",
    "int_to_false = bool(0)\n",
    "\n",
    "# convertendo float para booleano\n",
    "float_to_true = bool(2.0)\n",
    "float_to_false = bool(0.0)\n",
    "\n",
    "# convertendo str para booleano\n",
    "str_to_true = bool(\"true\")\n",
    "str_to_false = bool(\"false\")\n",
    "\n",
    "# convertendo None para booleano\n",
    "none_to_false = bool(None)"
   ]
  },
  {
   "cell_type": "markdown",
   "metadata": {},
   "source": [
    "## Entrada e Saída"
   ]
  },
  {
   "cell_type": "code",
   "execution_count": 16,
   "metadata": {},
   "outputs": [
    {
     "data": {
      "text/plain": [
       "str"
      ]
     },
     "execution_count": 16,
     "metadata": {},
     "output_type": "execute_result"
    }
   ],
   "source": [
    "# Comando para manipulação da entrada\n",
    "x = input(\"Entre com valor da variável x : \")\n",
    "type(x)"
   ]
  },
  {
   "cell_type": "code",
   "execution_count": 17,
   "metadata": {},
   "outputs": [
    {
     "name": "stdout",
     "output_type": "stream",
     "text": [
      "Resultado 13\n"
     ]
    }
   ],
   "source": [
    "# convertendo para o tipo desejado\n",
    "x = int(input(\"Entre com valor da variável x : \"))\n",
    "\n",
    "# Comando para manipulação da saída\n",
    "print(\"Resultado\", x + 10)"
   ]
  },
  {
   "cell_type": "code",
   "execution_count": null,
   "metadata": {},
   "outputs": [],
   "source": []
  }
 ],
 "metadata": {
  "kernelspec": {
   "display_name": "Python 3",
   "language": "python",
   "name": "python3"
  },
  "language_info": {
   "codemirror_mode": {
    "name": "ipython",
    "version": 3
   },
   "file_extension": ".py",
   "mimetype": "text/x-python",
   "name": "python",
   "nbconvert_exporter": "python",
   "pygments_lexer": "ipython3",
   "version": "3.6.4"
  }
 },
 "nbformat": 4,
 "nbformat_minor": 2
}
