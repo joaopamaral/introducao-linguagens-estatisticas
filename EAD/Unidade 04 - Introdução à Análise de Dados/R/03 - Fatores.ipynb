{
 "cells": [
  {
   "cell_type": "markdown",
   "metadata": {},
   "source": [
    "## Factors\n",
    "\n",
    "Fatores são utilizados para representar valores categóricos, onde as opções são finitas. Por exemplo, estado civil, genêro, entre outros."
   ]
  },
  {
   "cell_type": "code",
   "execution_count": 3,
   "metadata": {},
   "outputs": [
    {
     "data": {
      "text/html": [
       "<ol class=list-inline>\n",
       "\t<li>solteiro</li>\n",
       "\t<li>viúvo</li>\n",
       "\t<li>casado</li>\n",
       "\t<li>solteiro</li>\n",
       "\t<li>viúvo</li>\n",
       "\t<li>casado</li>\n",
       "\t<li>solteiro</li>\n",
       "\t<li>viúvo</li>\n",
       "\t<li>casado</li>\n",
       "</ol>\n",
       "\n",
       "<details>\n",
       "\t<summary style=display:list-item;cursor:pointer>\n",
       "\t\t<strong>Levels</strong>:\n",
       "\t</summary>\n",
       "\t<ol class=list-inline>\n",
       "\t\t<li>'casado'</li>\n",
       "\t\t<li>'solteiro'</li>\n",
       "\t\t<li>'viúvo'</li>\n",
       "\t</ol>\n",
       "</details>"
      ],
      "text/latex": [
       "\\begin{enumerate*}\n",
       "\\item solteiro\n",
       "\\item viúvo\n",
       "\\item casado\n",
       "\\item solteiro\n",
       "\\item viúvo\n",
       "\\item casado\n",
       "\\item solteiro\n",
       "\\item viúvo\n",
       "\\item casado\n",
       "\\end{enumerate*}\n",
       "\n",
       "\\emph{Levels}: \\begin{enumerate*}\n",
       "\\item 'casado'\n",
       "\\item 'solteiro'\n",
       "\\item 'viúvo'\n",
       "\\end{enumerate*}\n"
      ],
      "text/markdown": [
       "1. solteiro\n",
       "2. viúvo\n",
       "3. casado\n",
       "4. solteiro\n",
       "5. viúvo\n",
       "6. casado\n",
       "7. solteiro\n",
       "8. viúvo\n",
       "9. casado\n",
       "\n",
       "\n",
       "\n",
       "**Levels**: 1. 'casado'\n",
       "2. 'solteiro'\n",
       "3. 'viúvo'\n",
       "\n",
       "\n"
      ],
      "text/plain": [
       "[1] solteiro viúvo    casado   solteiro viúvo    casado   solteiro viúvo   \n",
       "[9] casado  \n",
       "Levels: casado solteiro viúvo"
      ]
     },
     "metadata": {},
     "output_type": "display_data"
    }
   ],
   "source": [
    "estado.civil = factor(c(\"solteiro\", \"viúvo\", \"casado\", \"solteiro\", \"viúvo\", \"casado\", \"solteiro\", \"viúvo\", \"casado\"))\n",
    "estado.civil"
   ]
  },
  {
   "cell_type": "code",
   "execution_count": 4,
   "metadata": {},
   "outputs": [
    {
     "data": {
      "text/html": [
       "'factor'"
      ],
      "text/latex": [
       "'factor'"
      ],
      "text/markdown": [
       "'factor'"
      ],
      "text/plain": [
       "[1] \"factor\""
      ]
     },
     "metadata": {},
     "output_type": "display_data"
    },
    {
     "data": {
      "text/html": [
       "<ol class=list-inline>\n",
       "\t<li>'casado'</li>\n",
       "\t<li>'solteiro'</li>\n",
       "\t<li>'viúvo'</li>\n",
       "</ol>\n"
      ],
      "text/latex": [
       "\\begin{enumerate*}\n",
       "\\item 'casado'\n",
       "\\item 'solteiro'\n",
       "\\item 'viúvo'\n",
       "\\end{enumerate*}\n"
      ],
      "text/markdown": [
       "1. 'casado'\n",
       "2. 'solteiro'\n",
       "3. 'viúvo'\n",
       "\n",
       "\n"
      ],
      "text/plain": [
       "[1] \"casado\"   \"solteiro\" \"viúvo\"   "
      ]
     },
     "metadata": {},
     "output_type": "display_data"
    }
   ],
   "source": [
    "class(estado.civil)\n",
    "\n",
    "levels(estado.civil)"
   ]
  },
  {
   "cell_type": "markdown",
   "metadata": {},
   "source": [
    "## Criando Fatores"
   ]
  },
  {
   "cell_type": "code",
   "execution_count": 5,
   "metadata": {},
   "outputs": [
    {
     "name": "stdout",
     "output_type": "stream",
     "text": [
      " Factor w/ 3 levels \"casado\",\"solteiro\",..: 2 3 1 2 3 1 2 3 1\n"
     ]
    }
   ],
   "source": [
    "estado.civil = factor(c(\"solteiro\", \"viúvo\", \"casado\", \"solteiro\", \"viúvo\", \"casado\", \"solteiro\", \"viúvo\", \"casado\"))\n",
    "\n",
    "str(estado.civil)"
   ]
  },
  {
   "cell_type": "markdown",
   "metadata": {},
   "source": [
    "### Indexação"
   ]
  },
  {
   "cell_type": "code",
   "execution_count": 6,
   "metadata": {},
   "outputs": [
    {
     "data": {
      "text/html": [
       "casado\n",
       "<details>\n",
       "\t<summary style=display:list-item;cursor:pointer>\n",
       "\t\t<strong>Levels</strong>:\n",
       "\t</summary>\n",
       "\t<ol class=list-inline>\n",
       "\t\t<li>'casado'</li>\n",
       "\t\t<li>'solteiro'</li>\n",
       "\t\t<li>'viúvo'</li>\n",
       "\t</ol>\n",
       "</details>"
      ],
      "text/latex": [
       "casado\n",
       "\\emph{Levels}: \\begin{enumerate*}\n",
       "\\item 'casado'\n",
       "\\item 'solteiro'\n",
       "\\item 'viúvo'\n",
       "\\end{enumerate*}\n"
      ],
      "text/markdown": [
       "casado\n",
       "**Levels**: 1. 'casado'\n",
       "2. 'solteiro'\n",
       "3. 'viúvo'\n",
       "\n",
       "\n"
      ],
      "text/plain": [
       "[1] casado\n",
       "Levels: casado solteiro viúvo"
      ]
     },
     "metadata": {},
     "output_type": "display_data"
    }
   ],
   "source": [
    "estado.civil[3]"
   ]
  },
  {
   "cell_type": "code",
   "execution_count": 7,
   "metadata": {},
   "outputs": [
    {
     "data": {
      "text/html": [
       "<ol class=list-inline>\n",
       "\t<li>solteiro</li>\n",
       "\t<li>viúvo</li>\n",
       "</ol>\n",
       "\n",
       "<details>\n",
       "\t<summary style=display:list-item;cursor:pointer>\n",
       "\t\t<strong>Levels</strong>:\n",
       "\t</summary>\n",
       "\t<ol class=list-inline>\n",
       "\t\t<li>'casado'</li>\n",
       "\t\t<li>'solteiro'</li>\n",
       "\t\t<li>'viúvo'</li>\n",
       "\t</ol>\n",
       "</details>"
      ],
      "text/latex": [
       "\\begin{enumerate*}\n",
       "\\item solteiro\n",
       "\\item viúvo\n",
       "\\end{enumerate*}\n",
       "\n",
       "\\emph{Levels}: \\begin{enumerate*}\n",
       "\\item 'casado'\n",
       "\\item 'solteiro'\n",
       "\\item 'viúvo'\n",
       "\\end{enumerate*}\n"
      ],
      "text/markdown": [
       "1. solteiro\n",
       "2. viúvo\n",
       "\n",
       "\n",
       "\n",
       "**Levels**: 1. 'casado'\n",
       "2. 'solteiro'\n",
       "3. 'viúvo'\n",
       "\n",
       "\n"
      ],
      "text/plain": [
       "[1] solteiro viúvo   \n",
       "Levels: casado solteiro viúvo"
      ]
     },
     "metadata": {},
     "output_type": "display_data"
    }
   ],
   "source": [
    "estado.civil[c(1,2)]"
   ]
  },
  {
   "cell_type": "code",
   "execution_count": 8,
   "metadata": {},
   "outputs": [
    {
     "data": {
      "text/html": [
       "<ol class=list-inline>\n",
       "\t<li>viúvo</li>\n",
       "\t<li>casado</li>\n",
       "\t<li>solteiro</li>\n",
       "\t<li>viúvo</li>\n",
       "\t<li>casado</li>\n",
       "\t<li>solteiro</li>\n",
       "\t<li>viúvo</li>\n",
       "\t<li>casado</li>\n",
       "</ol>\n",
       "\n",
       "<details>\n",
       "\t<summary style=display:list-item;cursor:pointer>\n",
       "\t\t<strong>Levels</strong>:\n",
       "\t</summary>\n",
       "\t<ol class=list-inline>\n",
       "\t\t<li>'casado'</li>\n",
       "\t\t<li>'solteiro'</li>\n",
       "\t\t<li>'viúvo'</li>\n",
       "\t</ol>\n",
       "</details>"
      ],
      "text/latex": [
       "\\begin{enumerate*}\n",
       "\\item viúvo\n",
       "\\item casado\n",
       "\\item solteiro\n",
       "\\item viúvo\n",
       "\\item casado\n",
       "\\item solteiro\n",
       "\\item viúvo\n",
       "\\item casado\n",
       "\\end{enumerate*}\n",
       "\n",
       "\\emph{Levels}: \\begin{enumerate*}\n",
       "\\item 'casado'\n",
       "\\item 'solteiro'\n",
       "\\item 'viúvo'\n",
       "\\end{enumerate*}\n"
      ],
      "text/markdown": [
       "1. viúvo\n",
       "2. casado\n",
       "3. solteiro\n",
       "4. viúvo\n",
       "5. casado\n",
       "6. solteiro\n",
       "7. viúvo\n",
       "8. casado\n",
       "\n",
       "\n",
       "\n",
       "**Levels**: 1. 'casado'\n",
       "2. 'solteiro'\n",
       "3. 'viúvo'\n",
       "\n",
       "\n"
      ],
      "text/plain": [
       "[1] viúvo    casado   solteiro viúvo    casado   solteiro viúvo    casado  \n",
       "Levels: casado solteiro viúvo"
      ]
     },
     "metadata": {},
     "output_type": "display_data"
    }
   ],
   "source": [
    "estado.civil[-1]"
   ]
  },
  {
   "cell_type": "code",
   "execution_count": 9,
   "metadata": {},
   "outputs": [
    {
     "data": {
      "text/html": [
       "<ol class=list-inline>\n",
       "\t<li>solteiro</li>\n",
       "\t<li>solteiro</li>\n",
       "\t<li>viúvo</li>\n",
       "\t<li>viúvo</li>\n",
       "\t<li>casado</li>\n",
       "</ol>\n",
       "\n",
       "<details>\n",
       "\t<summary style=display:list-item;cursor:pointer>\n",
       "\t\t<strong>Levels</strong>:\n",
       "\t</summary>\n",
       "\t<ol class=list-inline>\n",
       "\t\t<li>'casado'</li>\n",
       "\t\t<li>'solteiro'</li>\n",
       "\t\t<li>'viúvo'</li>\n",
       "\t</ol>\n",
       "</details>"
      ],
      "text/latex": [
       "\\begin{enumerate*}\n",
       "\\item solteiro\n",
       "\\item solteiro\n",
       "\\item viúvo\n",
       "\\item viúvo\n",
       "\\item casado\n",
       "\\end{enumerate*}\n",
       "\n",
       "\\emph{Levels}: \\begin{enumerate*}\n",
       "\\item 'casado'\n",
       "\\item 'solteiro'\n",
       "\\item 'viúvo'\n",
       "\\end{enumerate*}\n"
      ],
      "text/markdown": [
       "1. solteiro\n",
       "2. solteiro\n",
       "3. viúvo\n",
       "4. viúvo\n",
       "5. casado\n",
       "\n",
       "\n",
       "\n",
       "**Levels**: 1. 'casado'\n",
       "2. 'solteiro'\n",
       "3. 'viúvo'\n",
       "\n",
       "\n"
      ],
      "text/plain": [
       "[1] solteiro solteiro viúvo    viúvo    casado  \n",
       "Levels: casado solteiro viúvo"
      ]
     },
     "metadata": {},
     "output_type": "display_data"
    }
   ],
   "source": [
    "estado.civil[c(TRUE, FALSE, FALSE, TRUE)]"
   ]
  },
  {
   "cell_type": "markdown",
   "metadata": {},
   "source": [
    "### Modificando um Factor"
   ]
  },
  {
   "cell_type": "code",
   "execution_count": 10,
   "metadata": {},
   "outputs": [
    {
     "data": {
      "text/html": [
       "<ol class=list-inline>\n",
       "\t<li>solteiro</li>\n",
       "\t<li>solteiro</li>\n",
       "\t<li>casado</li>\n",
       "\t<li>solteiro</li>\n",
       "\t<li>viúvo</li>\n",
       "\t<li>casado</li>\n",
       "\t<li>solteiro</li>\n",
       "\t<li>viúvo</li>\n",
       "\t<li>casado</li>\n",
       "</ol>\n",
       "\n",
       "<details>\n",
       "\t<summary style=display:list-item;cursor:pointer>\n",
       "\t\t<strong>Levels</strong>:\n",
       "\t</summary>\n",
       "\t<ol class=list-inline>\n",
       "\t\t<li>'casado'</li>\n",
       "\t\t<li>'solteiro'</li>\n",
       "\t\t<li>'viúvo'</li>\n",
       "\t</ol>\n",
       "</details>"
      ],
      "text/latex": [
       "\\begin{enumerate*}\n",
       "\\item solteiro\n",
       "\\item solteiro\n",
       "\\item casado\n",
       "\\item solteiro\n",
       "\\item viúvo\n",
       "\\item casado\n",
       "\\item solteiro\n",
       "\\item viúvo\n",
       "\\item casado\n",
       "\\end{enumerate*}\n",
       "\n",
       "\\emph{Levels}: \\begin{enumerate*}\n",
       "\\item 'casado'\n",
       "\\item 'solteiro'\n",
       "\\item 'viúvo'\n",
       "\\end{enumerate*}\n"
      ],
      "text/markdown": [
       "1. solteiro\n",
       "2. solteiro\n",
       "3. casado\n",
       "4. solteiro\n",
       "5. viúvo\n",
       "6. casado\n",
       "7. solteiro\n",
       "8. viúvo\n",
       "9. casado\n",
       "\n",
       "\n",
       "\n",
       "**Levels**: 1. 'casado'\n",
       "2. 'solteiro'\n",
       "3. 'viúvo'\n",
       "\n",
       "\n"
      ],
      "text/plain": [
       "[1] solteiro solteiro casado   solteiro viúvo    casado   solteiro viúvo   \n",
       "[9] casado  \n",
       "Levels: casado solteiro viúvo"
      ]
     },
     "metadata": {},
     "output_type": "display_data"
    }
   ],
   "source": [
    "estado.civil[2] = \"solteiro\"; estado.civil"
   ]
  },
  {
   "cell_type": "code",
   "execution_count": 11,
   "metadata": {},
   "outputs": [
    {
     "name": "stderr",
     "output_type": "stream",
     "text": [
      "Warning message in `[<-.factor`(`*tmp*`, 2, value = \"divorciado\"):\n",
      "“invalid factor level, NA generated”"
     ]
    },
    {
     "data": {
      "text/html": [
       "<ol class=list-inline>\n",
       "\t<li>solteiro</li>\n",
       "\t<li>&lt;NA&gt;</li>\n",
       "\t<li>casado</li>\n",
       "\t<li>solteiro</li>\n",
       "\t<li>viúvo</li>\n",
       "\t<li>casado</li>\n",
       "\t<li>solteiro</li>\n",
       "\t<li>viúvo</li>\n",
       "\t<li>casado</li>\n",
       "</ol>\n",
       "\n",
       "<details>\n",
       "\t<summary style=display:list-item;cursor:pointer>\n",
       "\t\t<strong>Levels</strong>:\n",
       "\t</summary>\n",
       "\t<ol class=list-inline>\n",
       "\t\t<li>'casado'</li>\n",
       "\t\t<li>'solteiro'</li>\n",
       "\t\t<li>'viúvo'</li>\n",
       "\t</ol>\n",
       "</details>"
      ],
      "text/latex": [
       "\\begin{enumerate*}\n",
       "\\item solteiro\n",
       "\\item <NA>\n",
       "\\item casado\n",
       "\\item solteiro\n",
       "\\item viúvo\n",
       "\\item casado\n",
       "\\item solteiro\n",
       "\\item viúvo\n",
       "\\item casado\n",
       "\\end{enumerate*}\n",
       "\n",
       "\\emph{Levels}: \\begin{enumerate*}\n",
       "\\item 'casado'\n",
       "\\item 'solteiro'\n",
       "\\item 'viúvo'\n",
       "\\end{enumerate*}\n"
      ],
      "text/markdown": [
       "1. solteiro\n",
       "2. &lt;NA&gt;\n",
       "3. casado\n",
       "4. solteiro\n",
       "5. viúvo\n",
       "6. casado\n",
       "7. solteiro\n",
       "8. viúvo\n",
       "9. casado\n",
       "\n",
       "\n",
       "\n",
       "**Levels**: 1. 'casado'\n",
       "2. 'solteiro'\n",
       "3. 'viúvo'\n",
       "\n",
       "\n"
      ],
      "text/plain": [
       "[1] solteiro <NA>     casado   solteiro viúvo    casado   solteiro viúvo   \n",
       "[9] casado  \n",
       "Levels: casado solteiro viúvo"
      ]
     },
     "metadata": {},
     "output_type": "display_data"
    }
   ],
   "source": [
    "estado.civil[2] = \"divorciado\"; estado.civil"
   ]
  },
  {
   "cell_type": "code",
   "execution_count": 13,
   "metadata": {},
   "outputs": [
    {
     "data": {
      "text/html": [
       "<ol class=list-inline>\n",
       "\t<li>'casado'</li>\n",
       "\t<li>'solteiro'</li>\n",
       "\t<li>'viúvo'</li>\n",
       "</ol>\n"
      ],
      "text/latex": [
       "\\begin{enumerate*}\n",
       "\\item 'casado'\n",
       "\\item 'solteiro'\n",
       "\\item 'viúvo'\n",
       "\\end{enumerate*}\n"
      ],
      "text/markdown": [
       "1. 'casado'\n",
       "2. 'solteiro'\n",
       "3. 'viúvo'\n",
       "\n",
       "\n"
      ],
      "text/plain": [
       "[1] \"casado\"   \"solteiro\" \"viúvo\"   "
      ]
     },
     "metadata": {},
     "output_type": "display_data"
    }
   ],
   "source": [
    "levels(estado.civil)"
   ]
  },
  {
   "cell_type": "code",
   "execution_count": 12,
   "metadata": {
    "collapsed": true
   },
   "outputs": [],
   "source": [
    "# levels(estado.civil) = c('solteiro', 'casado', 'viúvo', 'divorciado')"
   ]
  },
  {
   "cell_type": "code",
   "execution_count": 14,
   "metadata": {
    "collapsed": true
   },
   "outputs": [],
   "source": [
    "levels(estado.civil) = c(levels(estado.civil), 'divorciado')"
   ]
  },
  {
   "cell_type": "code",
   "execution_count": 15,
   "metadata": {},
   "outputs": [
    {
     "data": {
      "text/html": [
       "<ol class=list-inline>\n",
       "\t<li>'casado'</li>\n",
       "\t<li>'solteiro'</li>\n",
       "\t<li>'viúvo'</li>\n",
       "\t<li>'divorciado'</li>\n",
       "</ol>\n"
      ],
      "text/latex": [
       "\\begin{enumerate*}\n",
       "\\item 'casado'\n",
       "\\item 'solteiro'\n",
       "\\item 'viúvo'\n",
       "\\item 'divorciado'\n",
       "\\end{enumerate*}\n"
      ],
      "text/markdown": [
       "1. 'casado'\n",
       "2. 'solteiro'\n",
       "3. 'viúvo'\n",
       "4. 'divorciado'\n",
       "\n",
       "\n"
      ],
      "text/plain": [
       "[1] \"casado\"     \"solteiro\"   \"viúvo\"      \"divorciado\""
      ]
     },
     "metadata": {},
     "output_type": "display_data"
    }
   ],
   "source": [
    "levels(estado.civil)"
   ]
  },
  {
   "cell_type": "code",
   "execution_count": 18,
   "metadata": {},
   "outputs": [],
   "source": [
    "estado.civil[2] = 'divorciado'"
   ]
  },
  {
   "cell_type": "code",
   "execution_count": 19,
   "metadata": {},
   "outputs": [
    {
     "name": "stdout",
     "output_type": "stream",
     "text": [
      " Factor w/ 4 levels \"casado\",\"solteiro\",..: 2 4 1 2 3 1 2 3 1\n"
     ]
    }
   ],
   "source": [
    "str(estado.civil)"
   ]
  },
  {
   "cell_type": "code",
   "execution_count": null,
   "metadata": {
    "collapsed": true
   },
   "outputs": [],
   "source": []
  }
 ],
 "metadata": {
  "kernelspec": {
   "display_name": "R",
   "language": "R",
   "name": "ir"
  },
  "language_info": {
   "codemirror_mode": "r",
   "file_extension": ".r",
   "mimetype": "text/x-r-source",
   "name": "R",
   "pygments_lexer": "r",
   "version": "3.2.3"
  }
 },
 "nbformat": 4,
 "nbformat_minor": 2
}
