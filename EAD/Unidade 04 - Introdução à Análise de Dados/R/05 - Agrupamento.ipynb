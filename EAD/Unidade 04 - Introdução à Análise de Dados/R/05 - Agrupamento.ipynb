{
 "cells": [
  {
   "cell_type": "markdown",
   "metadata": {},
   "source": [
    "# Agrupamento"
   ]
  },
  {
   "cell_type": "code",
   "execution_count": 1,
   "metadata": {},
   "outputs": [
    {
     "data": {
      "text/html": [
       "<table>\n",
       "<thead><tr><th scope=col>sepal_length</th><th scope=col>sepal_width</th><th scope=col>petal_length</th><th scope=col>sepal_width</th><th scope=col>species</th></tr></thead>\n",
       "<tbody>\n",
       "\t<tr><td>5.1        </td><td>3.5        </td><td>1.4        </td><td>0.2        </td><td>Iris-setosa</td></tr>\n",
       "\t<tr><td>4.9        </td><td>3.0        </td><td>1.4        </td><td>0.2        </td><td>Iris-setosa</td></tr>\n",
       "\t<tr><td>4.7        </td><td>3.2        </td><td>1.3        </td><td>0.2        </td><td>Iris-setosa</td></tr>\n",
       "\t<tr><td>4.6        </td><td>3.1        </td><td>1.5        </td><td>0.2        </td><td>Iris-setosa</td></tr>\n",
       "\t<tr><td>5.0        </td><td>3.6        </td><td>1.4        </td><td>0.2        </td><td>Iris-setosa</td></tr>\n",
       "\t<tr><td>5.4        </td><td>3.9        </td><td>1.7        </td><td>0.4        </td><td>Iris-setosa</td></tr>\n",
       "</tbody>\n",
       "</table>\n"
      ],
      "text/latex": [
       "\\begin{tabular}{r|lllll}\n",
       " sepal\\_length & sepal\\_width & petal\\_length & sepal\\_width & species\\\\\n",
       "\\hline\n",
       "\t 5.1         & 3.5         & 1.4         & 0.2         & Iris-setosa\\\\\n",
       "\t 4.9         & 3.0         & 1.4         & 0.2         & Iris-setosa\\\\\n",
       "\t 4.7         & 3.2         & 1.3         & 0.2         & Iris-setosa\\\\\n",
       "\t 4.6         & 3.1         & 1.5         & 0.2         & Iris-setosa\\\\\n",
       "\t 5.0         & 3.6         & 1.4         & 0.2         & Iris-setosa\\\\\n",
       "\t 5.4         & 3.9         & 1.7         & 0.4         & Iris-setosa\\\\\n",
       "\\end{tabular}\n"
      ],
      "text/markdown": [
       "\n",
       "sepal_length | sepal_width | petal_length | sepal_width | species | \n",
       "|---|---|---|---|---|---|\n",
       "| 5.1         | 3.5         | 1.4         | 0.2         | Iris-setosa | \n",
       "| 4.9         | 3.0         | 1.4         | 0.2         | Iris-setosa | \n",
       "| 4.7         | 3.2         | 1.3         | 0.2         | Iris-setosa | \n",
       "| 4.6         | 3.1         | 1.5         | 0.2         | Iris-setosa | \n",
       "| 5.0         | 3.6         | 1.4         | 0.2         | Iris-setosa | \n",
       "| 5.4         | 3.9         | 1.7         | 0.4         | Iris-setosa | \n",
       "\n",
       "\n"
      ],
      "text/plain": [
       "  sepal_length sepal_width petal_length sepal_width species    \n",
       "1 5.1          3.5         1.4          0.2         Iris-setosa\n",
       "2 4.9          3.0         1.4          0.2         Iris-setosa\n",
       "3 4.7          3.2         1.3          0.2         Iris-setosa\n",
       "4 4.6          3.1         1.5          0.2         Iris-setosa\n",
       "5 5.0          3.6         1.4          0.2         Iris-setosa\n",
       "6 5.4          3.9         1.7          0.4         Iris-setosa"
      ]
     },
     "metadata": {},
     "output_type": "display_data"
    }
   ],
   "source": [
    "df = read.csv(\"../dados/iris-dataset.csv\", header=FALSE)\n",
    "colnames(df) = c(\"sepal_length\", \"sepal_width\", \"petal_length\", \"sepal_width\", \"species\")\n",
    "\n",
    "head(df)"
   ]
  },
  {
   "cell_type": "code",
   "execution_count": 6,
   "metadata": {},
   "outputs": [
    {
     "data": {
      "text/html": [
       "<table>\n",
       "<thead><tr><th scope=col>species</th><th scope=col>x</th></tr></thead>\n",
       "<tbody>\n",
       "\t<tr><td>Iris-setosa    </td><td>5.8            </td></tr>\n",
       "\t<tr><td>Iris-versicolor</td><td>7.0            </td></tr>\n",
       "\t<tr><td>Iris-virginica </td><td>7.9            </td></tr>\n",
       "</tbody>\n",
       "</table>\n"
      ],
      "text/latex": [
       "\\begin{tabular}{r|ll}\n",
       " species & x\\\\\n",
       "\\hline\n",
       "\t Iris-setosa     & 5.8            \\\\\n",
       "\t Iris-versicolor & 7.0            \\\\\n",
       "\t Iris-virginica  & 7.9            \\\\\n",
       "\\end{tabular}\n"
      ],
      "text/markdown": [
       "\n",
       "species | x | \n",
       "|---|---|---|\n",
       "| Iris-setosa     | 5.8             | \n",
       "| Iris-versicolor | 7.0             | \n",
       "| Iris-virginica  | 7.9             | \n",
       "\n",
       "\n"
      ],
      "text/plain": [
       "  species         x  \n",
       "1 Iris-setosa     5.8\n",
       "2 Iris-versicolor 7.0\n",
       "3 Iris-virginica  7.9"
      ]
     },
     "metadata": {},
     "output_type": "display_data"
    }
   ],
   "source": [
    "aggregate(df$sepal_length, by=list(species=df$species), max)"
   ]
  },
  {
   "cell_type": "code",
   "execution_count": 4,
   "metadata": {},
   "outputs": [
    {
     "data": {
      "text/html": [
       "<table>\n",
       "<thead><tr><th scope=col>species</th><th scope=col>x</th></tr></thead>\n",
       "<tbody>\n",
       "\t<tr><td>Iris-setosa    </td><td>5.8            </td></tr>\n",
       "\t<tr><td>Iris-versicolor</td><td>7.0            </td></tr>\n",
       "\t<tr><td>Iris-virginica </td><td>7.9            </td></tr>\n",
       "</tbody>\n",
       "</table>\n"
      ],
      "text/latex": [
       "\\begin{tabular}{r|ll}\n",
       " species & x\\\\\n",
       "\\hline\n",
       "\t Iris-setosa     & 5.8            \\\\\n",
       "\t Iris-versicolor & 7.0            \\\\\n",
       "\t Iris-virginica  & 7.9            \\\\\n",
       "\\end{tabular}\n"
      ],
      "text/markdown": [
       "\n",
       "species | x | \n",
       "|---|---|---|\n",
       "| Iris-setosa     | 5.8             | \n",
       "| Iris-versicolor | 7.0             | \n",
       "| Iris-virginica  | 7.9             | \n",
       "\n",
       "\n"
      ],
      "text/plain": [
       "  species         x  \n",
       "1 Iris-setosa     5.8\n",
       "2 Iris-versicolor 7.0\n",
       "3 Iris-virginica  7.9"
      ]
     },
     "metadata": {},
     "output_type": "display_data"
    }
   ],
   "source": [
    "aggregate(df$sepal_length, by=list(species=df$species), function(x) {max(x)})"
   ]
  },
  {
   "cell_type": "code",
   "execution_count": 5,
   "metadata": {},
   "outputs": [
    {
     "data": {
      "text/html": [
       "<table>\n",
       "<thead><tr><th scope=col>species</th><th scope=col>x</th></tr></thead>\n",
       "<tbody>\n",
       "\t<tr><td>Iris-setosa    </td><td>4.3            </td></tr>\n",
       "\t<tr><td>Iris-versicolor</td><td>4.9            </td></tr>\n",
       "\t<tr><td>Iris-virginica </td><td>4.9            </td></tr>\n",
       "</tbody>\n",
       "</table>\n"
      ],
      "text/latex": [
       "\\begin{tabular}{r|ll}\n",
       " species & x\\\\\n",
       "\\hline\n",
       "\t Iris-setosa     & 4.3            \\\\\n",
       "\t Iris-versicolor & 4.9            \\\\\n",
       "\t Iris-virginica  & 4.9            \\\\\n",
       "\\end{tabular}\n"
      ],
      "text/markdown": [
       "\n",
       "species | x | \n",
       "|---|---|---|\n",
       "| Iris-setosa     | 4.3             | \n",
       "| Iris-versicolor | 4.9             | \n",
       "| Iris-virginica  | 4.9             | \n",
       "\n",
       "\n"
      ],
      "text/plain": [
       "  species         x  \n",
       "1 Iris-setosa     4.3\n",
       "2 Iris-versicolor 4.9\n",
       "3 Iris-virginica  4.9"
      ]
     },
     "metadata": {},
     "output_type": "display_data"
    }
   ],
   "source": [
    "aggregate(df$sepal_length, by=list(species=df$species), function(x) {min(x)})"
   ]
  },
  {
   "cell_type": "code",
   "execution_count": 8,
   "metadata": {},
   "outputs": [
    {
     "data": {
      "text/html": [
       "<table>\n",
       "<thead><tr><th scope=col>species</th><th scope=col>sepal_width</th><th scope=col>sepal_length</th></tr></thead>\n",
       "<tbody>\n",
       "\t<tr><td>Iris-setosa    </td><td>3.418          </td><td>5.006          </td></tr>\n",
       "\t<tr><td>Iris-versicolor</td><td>2.770          </td><td>5.936          </td></tr>\n",
       "\t<tr><td>Iris-virginica </td><td>2.974          </td><td>6.588          </td></tr>\n",
       "</tbody>\n",
       "</table>\n"
      ],
      "text/latex": [
       "\\begin{tabular}{r|lll}\n",
       " species & sepal\\_width & sepal\\_length\\\\\n",
       "\\hline\n",
       "\t Iris-setosa     & 3.418           & 5.006          \\\\\n",
       "\t Iris-versicolor & 2.770           & 5.936          \\\\\n",
       "\t Iris-virginica  & 2.974           & 6.588          \\\\\n",
       "\\end{tabular}\n"
      ],
      "text/markdown": [
       "\n",
       "species | sepal_width | sepal_length | \n",
       "|---|---|---|\n",
       "| Iris-setosa     | 3.418           | 5.006           | \n",
       "| Iris-versicolor | 2.770           | 5.936           | \n",
       "| Iris-virginica  | 2.974           | 6.588           | \n",
       "\n",
       "\n"
      ],
      "text/plain": [
       "  species         sepal_width sepal_length\n",
       "1 Iris-setosa     3.418       5.006       \n",
       "2 Iris-versicolor 2.770       5.936       \n",
       "3 Iris-virginica  2.974       6.588       "
      ]
     },
     "metadata": {},
     "output_type": "display_data"
    }
   ],
   "source": [
    "aggregate(cbind(sepal_width, sepal_length) ~ species, df, mean)"
   ]
  },
  {
   "cell_type": "code",
   "execution_count": 11,
   "metadata": {},
   "outputs": [
    {
     "data": {
      "text/html": [
       "<table>\n",
       "<thead><tr><th scope=col>species</th><th scope=col>sepal_length</th><th scope=col>sepal_width</th><th scope=col>petal_length</th></tr></thead>\n",
       "<tbody>\n",
       "\t<tr><td>Iris-setosa    </td><td>5.006          </td><td>3.418          </td><td>1.464          </td></tr>\n",
       "\t<tr><td>Iris-versicolor</td><td>5.936          </td><td>2.770          </td><td>4.260          </td></tr>\n",
       "\t<tr><td>Iris-virginica </td><td>6.588          </td><td>2.974          </td><td>5.552          </td></tr>\n",
       "</tbody>\n",
       "</table>\n"
      ],
      "text/latex": [
       "\\begin{tabular}{r|llll}\n",
       " species & sepal\\_length & sepal\\_width & petal\\_length\\\\\n",
       "\\hline\n",
       "\t Iris-setosa     & 5.006           & 3.418           & 1.464          \\\\\n",
       "\t Iris-versicolor & 5.936           & 2.770           & 4.260          \\\\\n",
       "\t Iris-virginica  & 6.588           & 2.974           & 5.552          \\\\\n",
       "\\end{tabular}\n"
      ],
      "text/markdown": [
       "\n",
       "species | sepal_length | sepal_width | petal_length | \n",
       "|---|---|---|\n",
       "| Iris-setosa     | 5.006           | 3.418           | 1.464           | \n",
       "| Iris-versicolor | 5.936           | 2.770           | 4.260           | \n",
       "| Iris-virginica  | 6.588           | 2.974           | 5.552           | \n",
       "\n",
       "\n"
      ],
      "text/plain": [
       "  species         sepal_length sepal_width petal_length\n",
       "1 Iris-setosa     5.006        3.418       1.464       \n",
       "2 Iris-versicolor 5.936        2.770       4.260       \n",
       "3 Iris-virginica  6.588        2.974       5.552       "
      ]
     },
     "metadata": {},
     "output_type": "display_data"
    }
   ],
   "source": [
    "aggregate(. ~ species, df, mean)"
   ]
  },
  {
   "cell_type": "code",
   "execution_count": 17,
   "metadata": {},
   "outputs": [
    {
     "data": {
      "text/html": [
       "<table>\n",
       "<thead><tr><th scope=col>valores</th><th scope=col>v</th><th scope=col>g1</th><th scope=col>g2</th></tr></thead>\n",
       "<tbody>\n",
       "\t<tr><td>1</td><td>5</td><td>A</td><td>C</td></tr>\n",
       "\t<tr><td>2</td><td>4</td><td>B</td><td>D</td></tr>\n",
       "\t<tr><td>3</td><td>3</td><td>B</td><td>D</td></tr>\n",
       "\t<tr><td>4</td><td>2</td><td>A</td><td>D</td></tr>\n",
       "\t<tr><td>5</td><td>1</td><td>A</td><td>C</td></tr>\n",
       "</tbody>\n",
       "</table>\n"
      ],
      "text/latex": [
       "\\begin{tabular}{r|llll}\n",
       " valores & v & g1 & g2\\\\\n",
       "\\hline\n",
       "\t 1 & 5 & A & C\\\\\n",
       "\t 2 & 4 & B & D\\\\\n",
       "\t 3 & 3 & B & D\\\\\n",
       "\t 4 & 2 & A & D\\\\\n",
       "\t 5 & 1 & A & C\\\\\n",
       "\\end{tabular}\n"
      ],
      "text/markdown": [
       "\n",
       "valores | v | g1 | g2 | \n",
       "|---|---|---|---|---|\n",
       "| 1 | 5 | A | C | \n",
       "| 2 | 4 | B | D | \n",
       "| 3 | 3 | B | D | \n",
       "| 4 | 2 | A | D | \n",
       "| 5 | 1 | A | C | \n",
       "\n",
       "\n"
      ],
      "text/plain": [
       "  valores v g1 g2\n",
       "1 1       5 A  C \n",
       "2 2       4 B  D \n",
       "3 3       3 B  D \n",
       "4 4       2 A  D \n",
       "5 5       1 A  C "
      ]
     },
     "metadata": {},
     "output_type": "display_data"
    }
   ],
   "source": [
    "df_ex = data.frame(valores=1:5, v=5:1, g1=c(\"A\", \"B\", \"B\", \"A\", \"A\"), g2=c(\"C\", \"D\", \"D\", \"D\", \"C\"))\n",
    "df_ex"
   ]
  },
  {
   "cell_type": "code",
   "execution_count": 19,
   "metadata": {},
   "outputs": [
    {
     "data": {
      "text/html": [
       "<table>\n",
       "<thead><tr><th scope=col>g1</th><th scope=col>g2</th><th scope=col>valores</th><th scope=col>v</th></tr></thead>\n",
       "<tbody>\n",
       "\t<tr><td>A  </td><td>C  </td><td>3.0</td><td>3.0</td></tr>\n",
       "\t<tr><td>A  </td><td>D  </td><td>4.0</td><td>2.0</td></tr>\n",
       "\t<tr><td>B  </td><td>D  </td><td>2.5</td><td>3.5</td></tr>\n",
       "</tbody>\n",
       "</table>\n"
      ],
      "text/latex": [
       "\\begin{tabular}{r|llll}\n",
       " g1 & g2 & valores & v\\\\\n",
       "\\hline\n",
       "\t A   & C   & 3.0 & 3.0\\\\\n",
       "\t A   & D   & 4.0 & 2.0\\\\\n",
       "\t B   & D   & 2.5 & 3.5\\\\\n",
       "\\end{tabular}\n"
      ],
      "text/markdown": [
       "\n",
       "g1 | g2 | valores | v | \n",
       "|---|---|---|\n",
       "| A   | C   | 3.0 | 3.0 | \n",
       "| A   | D   | 4.0 | 2.0 | \n",
       "| B   | D   | 2.5 | 3.5 | \n",
       "\n",
       "\n"
      ],
      "text/plain": [
       "  g1 g2 valores v  \n",
       "1 A  C  3.0     3.0\n",
       "2 A  D  4.0     2.0\n",
       "3 B  D  2.5     3.5"
      ]
     },
     "metadata": {},
     "output_type": "display_data"
    }
   ],
   "source": [
    "aggregate(. ~ g1 + g2, df_ex, mean)"
   ]
  },
  {
   "cell_type": "code",
   "execution_count": 10,
   "metadata": {},
   "outputs": [
    {
     "data": {
      "text/html": [
       "<table>\n",
       "<thead><tr><th scope=col>species</th><th scope=col>sepal_length</th></tr></thead>\n",
       "<tbody>\n",
       "\t<tr><td>Iris-setosa    </td><td>5.006          </td></tr>\n",
       "\t<tr><td>Iris-versicolor</td><td>5.936          </td></tr>\n",
       "\t<tr><td>Iris-virginica </td><td>6.588          </td></tr>\n",
       "</tbody>\n",
       "</table>\n"
      ],
      "text/latex": [
       "\\begin{tabular}{r|ll}\n",
       " species & sepal\\_length\\\\\n",
       "\\hline\n",
       "\t Iris-setosa     & 5.006          \\\\\n",
       "\t Iris-versicolor & 5.936          \\\\\n",
       "\t Iris-virginica  & 6.588          \\\\\n",
       "\\end{tabular}\n"
      ],
      "text/markdown": [
       "\n",
       "species | sepal_length | \n",
       "|---|---|---|\n",
       "| Iris-setosa     | 5.006           | \n",
       "| Iris-versicolor | 5.936           | \n",
       "| Iris-virginica  | 6.588           | \n",
       "\n",
       "\n"
      ],
      "text/plain": [
       "  species         sepal_length\n",
       "1 Iris-setosa     5.006       \n",
       "2 Iris-versicolor 5.936       \n",
       "3 Iris-virginica  6.588       "
      ]
     },
     "metadata": {},
     "output_type": "display_data"
    }
   ],
   "source": [
    "aggregate(sepal_length ~ species, df, mean)"
   ]
  },
  {
   "cell_type": "code",
   "execution_count": 30,
   "metadata": {},
   "outputs": [
    {
     "data": {
      "text/html": [
       "<table>\n",
       "<thead><tr><th scope=col>species</th><th scope=col>sepal_length</th><th scope=col>sepal_width</th></tr></thead>\n",
       "<tbody>\n",
       "\t<tr><td>Iris-setosa    </td><td>5.006          </td><td>3.418          </td></tr>\n",
       "\t<tr><td>Iris-versicolor</td><td>5.936          </td><td>2.770          </td></tr>\n",
       "\t<tr><td>Iris-virginica </td><td>6.588          </td><td>2.974          </td></tr>\n",
       "</tbody>\n",
       "</table>\n"
      ],
      "text/latex": [
       "\\begin{tabular}{r|lll}\n",
       " species & sepal\\_length & sepal\\_width\\\\\n",
       "\\hline\n",
       "\t Iris-setosa     & 5.006           & 3.418          \\\\\n",
       "\t Iris-versicolor & 5.936           & 2.770          \\\\\n",
       "\t Iris-virginica  & 6.588           & 2.974          \\\\\n",
       "\\end{tabular}\n"
      ],
      "text/markdown": [
       "\n",
       "species | sepal_length | sepal_width | \n",
       "|---|---|---|\n",
       "| Iris-setosa     | 5.006           | 3.418           | \n",
       "| Iris-versicolor | 5.936           | 2.770           | \n",
       "| Iris-virginica  | 6.588           | 2.974           | \n",
       "\n",
       "\n"
      ],
      "text/plain": [
       "  species         sepal_length sepal_width\n",
       "1 Iris-setosa     5.006        3.418      \n",
       "2 Iris-versicolor 5.936        2.770      \n",
       "3 Iris-virginica  6.588        2.974      "
      ]
     },
     "metadata": {},
     "output_type": "display_data"
    }
   ],
   "source": [
    "aggregate(cbind(sepal_length, sepal_width) ~ species, df, mean)"
   ]
  }
 ],
 "metadata": {
  "kernelspec": {
   "display_name": "R",
   "language": "R",
   "name": "ir"
  },
  "language_info": {
   "codemirror_mode": "r",
   "file_extension": ".r",
   "mimetype": "text/x-r-source",
   "name": "R",
   "pygments_lexer": "r",
   "version": "3.2.3"
  }
 },
 "nbformat": 4,
 "nbformat_minor": 2
}
