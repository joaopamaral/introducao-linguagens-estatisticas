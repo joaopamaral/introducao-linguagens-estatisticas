{
 "cells": [
  {
   "cell_type": "markdown",
   "metadata": {},
   "source": [
    "# Estrutura de Dados\n",
    "\n",
    "\n",
    "## Vetores\n",
    "\n",
    "Vetor (vector) é a estrutura de dados básica em R. Ele contém elementos de um mesmo tipo. O tipo dos dados pode ser lógico (booleano), inteiro, douvle, character, complex ou raw.\n",
    "\n",
    "Em R um vetor é criada utilizando a função ```c()```."
   ]
  },
  {
   "cell_type": "code",
   "execution_count": 1,
   "metadata": {},
   "outputs": [
    {
     "data": {
      "text/html": [
       "<ol class=list-inline>\n",
       "\t<li>1</li>\n",
       "\t<li>2</li>\n",
       "\t<li>5</li>\n",
       "\t<li>0</li>\n",
       "\t<li>10</li>\n",
       "</ol>\n"
      ],
      "text/latex": [
       "\\begin{enumerate*}\n",
       "\\item 1\n",
       "\\item 2\n",
       "\\item 5\n",
       "\\item 0\n",
       "\\item 10\n",
       "\\end{enumerate*}\n"
      ],
      "text/markdown": [
       "1. 1\n",
       "2. 2\n",
       "3. 5\n",
       "4. 0\n",
       "5. 10\n",
       "\n",
       "\n"
      ],
      "text/plain": [
       "[1]  1  2  5  0 10"
      ]
     },
     "metadata": {},
     "output_type": "display_data"
    }
   ],
   "source": [
    "x = c(1,2,5,0,10)\n",
    "x"
   ]
  },
  {
   "cell_type": "code",
   "execution_count": 2,
   "metadata": {},
   "outputs": [
    {
     "data": {
      "text/html": [
       "'double'"
      ],
      "text/latex": [
       "'double'"
      ],
      "text/markdown": [
       "'double'"
      ],
      "text/plain": [
       "[1] \"double\""
      ]
     },
     "metadata": {},
     "output_type": "display_data"
    }
   ],
   "source": [
    "typeof(x)"
   ]
  },
  {
   "cell_type": "code",
   "execution_count": 3,
   "metadata": {},
   "outputs": [
    {
     "data": {
      "text/html": [
       "5"
      ],
      "text/latex": [
       "5"
      ],
      "text/markdown": [
       "5"
      ],
      "text/plain": [
       "[1] 5"
      ]
     },
     "metadata": {},
     "output_type": "display_data"
    }
   ],
   "source": [
    "length(x) # len "
   ]
  },
  {
   "cell_type": "code",
   "execution_count": 5,
   "metadata": {},
   "outputs": [
    {
     "data": {
      "text/html": [
       "<ol class=list-inline>\n",
       "\t<li>'1'</li>\n",
       "\t<li>'5.4'</li>\n",
       "\t<li>'TRUE'</li>\n",
       "\t<li>'hello'</li>\n",
       "</ol>\n"
      ],
      "text/latex": [
       "\\begin{enumerate*}\n",
       "\\item '1'\n",
       "\\item '5.4'\n",
       "\\item 'TRUE'\n",
       "\\item 'hello'\n",
       "\\end{enumerate*}\n"
      ],
      "text/markdown": [
       "1. '1'\n",
       "2. '5.4'\n",
       "3. 'TRUE'\n",
       "4. 'hello'\n",
       "\n",
       "\n"
      ],
      "text/plain": [
       "[1] \"1\"     \"5.4\"   \"TRUE\"  \"hello\""
      ]
     },
     "metadata": {},
     "output_type": "display_data"
    }
   ],
   "source": [
    "x = c(1, 5.4, TRUE, \"hello\")\n",
    "x"
   ]
  },
  {
   "cell_type": "code",
   "execution_count": 18,
   "metadata": {},
   "outputs": [],
   "source": [
    "# string > float > int > bool \n",
    "x = c(TRUE, TRUE, FALSE, 1L)"
   ]
  },
  {
   "cell_type": "code",
   "execution_count": 19,
   "metadata": {},
   "outputs": [
    {
     "data": {
      "text/html": [
       "'integer'"
      ],
      "text/latex": [
       "'integer'"
      ],
      "text/markdown": [
       "'integer'"
      ],
      "text/plain": [
       "[1] \"integer\""
      ]
     },
     "metadata": {},
     "output_type": "display_data"
    }
   ],
   "source": [
    "typeof(x)"
   ]
  },
  {
   "cell_type": "markdown",
   "metadata": {},
   "source": [
    "para criar um vetor de numeros consecutivo, o operador ```:``` é muito útil. "
   ]
  },
  {
   "cell_type": "code",
   "execution_count": 20,
   "metadata": {},
   "outputs": [
    {
     "data": {
      "text/html": [
       "<ol class=list-inline>\n",
       "\t<li>1</li>\n",
       "\t<li>2</li>\n",
       "\t<li>3</li>\n",
       "\t<li>4</li>\n",
       "</ol>\n"
      ],
      "text/latex": [
       "\\begin{enumerate*}\n",
       "\\item 1\n",
       "\\item 2\n",
       "\\item 3\n",
       "\\item 4\n",
       "\\end{enumerate*}\n"
      ],
      "text/markdown": [
       "1. 1\n",
       "2. 2\n",
       "3. 3\n",
       "4. 4\n",
       "\n",
       "\n"
      ],
      "text/plain": [
       "[1] 1 2 3 4"
      ]
     },
     "metadata": {},
     "output_type": "display_data"
    }
   ],
   "source": [
    "x = 1:4\n",
    "x"
   ]
  },
  {
   "cell_type": "code",
   "execution_count": 21,
   "metadata": {},
   "outputs": [
    {
     "data": {
      "text/html": [
       "<ol class=list-inline>\n",
       "\t<li>2</li>\n",
       "\t<li>1</li>\n",
       "\t<li>0</li>\n",
       "\t<li>-1</li>\n",
       "\t<li>-2</li>\n",
       "\t<li>-3</li>\n",
       "\t<li>-4</li>\n",
       "\t<li>-5</li>\n",
       "</ol>\n"
      ],
      "text/latex": [
       "\\begin{enumerate*}\n",
       "\\item 2\n",
       "\\item 1\n",
       "\\item 0\n",
       "\\item -1\n",
       "\\item -2\n",
       "\\item -3\n",
       "\\item -4\n",
       "\\item -5\n",
       "\\end{enumerate*}\n"
      ],
      "text/markdown": [
       "1. 2\n",
       "2. 1\n",
       "3. 0\n",
       "4. -1\n",
       "5. -2\n",
       "6. -3\n",
       "7. -4\n",
       "8. -5\n",
       "\n",
       "\n"
      ],
      "text/plain": [
       "[1]  2  1  0 -1 -2 -3 -4 -5"
      ]
     },
     "metadata": {},
     "output_type": "display_data"
    }
   ],
   "source": [
    "2:-5"
   ]
  },
  {
   "cell_type": "markdown",
   "metadata": {},
   "source": [
    "sequências mais complexas pode ser criada utilizando a função ```seq```."
   ]
  },
  {
   "cell_type": "code",
   "execution_count": 24,
   "metadata": {},
   "outputs": [],
   "source": [
    "?seq"
   ]
  },
  {
   "cell_type": "code",
   "execution_count": 27,
   "metadata": {},
   "outputs": [
    {
     "data": {
      "text/html": [
       "<ol class=list-inline>\n",
       "\t<li>1</li>\n",
       "\t<li>1.5</li>\n",
       "\t<li>2</li>\n",
       "\t<li>2.5</li>\n",
       "\t<li>3</li>\n",
       "</ol>\n"
      ],
      "text/latex": [
       "\\begin{enumerate*}\n",
       "\\item 1\n",
       "\\item 1.5\n",
       "\\item 2\n",
       "\\item 2.5\n",
       "\\item 3\n",
       "\\end{enumerate*}\n"
      ],
      "text/markdown": [
       "1. 1\n",
       "2. 1.5\n",
       "3. 2\n",
       "4. 2.5\n",
       "5. 3\n",
       "\n",
       "\n"
      ],
      "text/plain": [
       "[1] 1.0 1.5 2.0 2.5 3.0"
      ]
     },
     "metadata": {},
     "output_type": "display_data"
    },
    {
     "data": {
      "text/html": [
       "<ol class=list-inline>\n",
       "\t<li>1</li>\n",
       "\t<li>2</li>\n",
       "\t<li>3</li>\n",
       "</ol>\n"
      ],
      "text/latex": [
       "\\begin{enumerate*}\n",
       "\\item 1\n",
       "\\item 2\n",
       "\\item 3\n",
       "\\end{enumerate*}\n"
      ],
      "text/markdown": [
       "1. 1\n",
       "2. 2\n",
       "3. 3\n",
       "\n",
       "\n"
      ],
      "text/plain": [
       "[1] 1 2 3"
      ]
     },
     "metadata": {},
     "output_type": "display_data"
    }
   ],
   "source": [
    "seq(1, 3, by=0.5) # 1:3\n",
    "1:3"
   ]
  },
  {
   "cell_type": "code",
   "execution_count": 29,
   "metadata": {},
   "outputs": [
    {
     "data": {
      "text/html": [
       "<ol class=list-inline>\n",
       "\t<li>1</li>\n",
       "\t<li>1.02020202020202</li>\n",
       "\t<li>1.04040404040404</li>\n",
       "\t<li>1.06060606060606</li>\n",
       "\t<li>1.08080808080808</li>\n",
       "\t<li>1.1010101010101</li>\n",
       "\t<li>1.12121212121212</li>\n",
       "\t<li>1.14141414141414</li>\n",
       "\t<li>1.16161616161616</li>\n",
       "\t<li>1.18181818181818</li>\n",
       "\t<li>1.2020202020202</li>\n",
       "\t<li>1.22222222222222</li>\n",
       "\t<li>1.24242424242424</li>\n",
       "\t<li>1.26262626262626</li>\n",
       "\t<li>1.28282828282828</li>\n",
       "\t<li>1.3030303030303</li>\n",
       "\t<li>1.32323232323232</li>\n",
       "\t<li>1.34343434343434</li>\n",
       "\t<li>1.36363636363636</li>\n",
       "\t<li>1.38383838383838</li>\n",
       "\t<li>1.4040404040404</li>\n",
       "\t<li>1.42424242424242</li>\n",
       "\t<li>1.44444444444444</li>\n",
       "\t<li>1.46464646464646</li>\n",
       "\t<li>1.48484848484848</li>\n",
       "\t<li>1.50505050505051</li>\n",
       "\t<li>1.52525252525253</li>\n",
       "\t<li>1.54545454545455</li>\n",
       "\t<li>1.56565656565657</li>\n",
       "\t<li>1.58585858585859</li>\n",
       "\t<li>1.60606060606061</li>\n",
       "\t<li>1.62626262626263</li>\n",
       "\t<li>1.64646464646465</li>\n",
       "\t<li>1.66666666666667</li>\n",
       "\t<li>1.68686868686869</li>\n",
       "\t<li>1.70707070707071</li>\n",
       "\t<li>1.72727272727273</li>\n",
       "\t<li>1.74747474747475</li>\n",
       "\t<li>1.76767676767677</li>\n",
       "\t<li>1.78787878787879</li>\n",
       "\t<li>1.80808080808081</li>\n",
       "\t<li>1.82828282828283</li>\n",
       "\t<li>1.84848484848485</li>\n",
       "\t<li>1.86868686868687</li>\n",
       "\t<li>1.88888888888889</li>\n",
       "\t<li>1.90909090909091</li>\n",
       "\t<li>1.92929292929293</li>\n",
       "\t<li>1.94949494949495</li>\n",
       "\t<li>1.96969696969697</li>\n",
       "\t<li>1.98989898989899</li>\n",
       "\t<li>2.01010101010101</li>\n",
       "\t<li>2.03030303030303</li>\n",
       "\t<li>2.05050505050505</li>\n",
       "\t<li>2.07070707070707</li>\n",
       "\t<li>2.09090909090909</li>\n",
       "\t<li>2.11111111111111</li>\n",
       "\t<li>2.13131313131313</li>\n",
       "\t<li>2.15151515151515</li>\n",
       "\t<li>2.17171717171717</li>\n",
       "\t<li>2.19191919191919</li>\n",
       "\t<li>2.21212121212121</li>\n",
       "\t<li>2.23232323232323</li>\n",
       "\t<li>2.25252525252525</li>\n",
       "\t<li>2.27272727272727</li>\n",
       "\t<li>2.29292929292929</li>\n",
       "\t<li>2.31313131313131</li>\n",
       "\t<li>2.33333333333333</li>\n",
       "\t<li>2.35353535353535</li>\n",
       "\t<li>2.37373737373737</li>\n",
       "\t<li>2.39393939393939</li>\n",
       "\t<li>2.41414141414141</li>\n",
       "\t<li>2.43434343434343</li>\n",
       "\t<li>2.45454545454545</li>\n",
       "\t<li>2.47474747474747</li>\n",
       "\t<li>2.49494949494949</li>\n",
       "\t<li>2.51515151515152</li>\n",
       "\t<li>2.53535353535354</li>\n",
       "\t<li>2.55555555555556</li>\n",
       "\t<li>2.57575757575758</li>\n",
       "\t<li>2.5959595959596</li>\n",
       "\t<li>2.61616161616162</li>\n",
       "\t<li>2.63636363636364</li>\n",
       "\t<li>2.65656565656566</li>\n",
       "\t<li>2.67676767676768</li>\n",
       "\t<li>2.6969696969697</li>\n",
       "\t<li>2.71717171717172</li>\n",
       "\t<li>2.73737373737374</li>\n",
       "\t<li>2.75757575757576</li>\n",
       "\t<li>2.77777777777778</li>\n",
       "\t<li>2.7979797979798</li>\n",
       "\t<li>2.81818181818182</li>\n",
       "\t<li>2.83838383838384</li>\n",
       "\t<li>2.85858585858586</li>\n",
       "\t<li>2.87878787878788</li>\n",
       "\t<li>2.8989898989899</li>\n",
       "\t<li>2.91919191919192</li>\n",
       "\t<li>2.93939393939394</li>\n",
       "\t<li>2.95959595959596</li>\n",
       "\t<li>2.97979797979798</li>\n",
       "\t<li>3</li>\n",
       "</ol>\n"
      ],
      "text/latex": [
       "\\begin{enumerate*}\n",
       "\\item 1\n",
       "\\item 1.02020202020202\n",
       "\\item 1.04040404040404\n",
       "\\item 1.06060606060606\n",
       "\\item 1.08080808080808\n",
       "\\item 1.1010101010101\n",
       "\\item 1.12121212121212\n",
       "\\item 1.14141414141414\n",
       "\\item 1.16161616161616\n",
       "\\item 1.18181818181818\n",
       "\\item 1.2020202020202\n",
       "\\item 1.22222222222222\n",
       "\\item 1.24242424242424\n",
       "\\item 1.26262626262626\n",
       "\\item 1.28282828282828\n",
       "\\item 1.3030303030303\n",
       "\\item 1.32323232323232\n",
       "\\item 1.34343434343434\n",
       "\\item 1.36363636363636\n",
       "\\item 1.38383838383838\n",
       "\\item 1.4040404040404\n",
       "\\item 1.42424242424242\n",
       "\\item 1.44444444444444\n",
       "\\item 1.46464646464646\n",
       "\\item 1.48484848484848\n",
       "\\item 1.50505050505051\n",
       "\\item 1.52525252525253\n",
       "\\item 1.54545454545455\n",
       "\\item 1.56565656565657\n",
       "\\item 1.58585858585859\n",
       "\\item 1.60606060606061\n",
       "\\item 1.62626262626263\n",
       "\\item 1.64646464646465\n",
       "\\item 1.66666666666667\n",
       "\\item 1.68686868686869\n",
       "\\item 1.70707070707071\n",
       "\\item 1.72727272727273\n",
       "\\item 1.74747474747475\n",
       "\\item 1.76767676767677\n",
       "\\item 1.78787878787879\n",
       "\\item 1.80808080808081\n",
       "\\item 1.82828282828283\n",
       "\\item 1.84848484848485\n",
       "\\item 1.86868686868687\n",
       "\\item 1.88888888888889\n",
       "\\item 1.90909090909091\n",
       "\\item 1.92929292929293\n",
       "\\item 1.94949494949495\n",
       "\\item 1.96969696969697\n",
       "\\item 1.98989898989899\n",
       "\\item 2.01010101010101\n",
       "\\item 2.03030303030303\n",
       "\\item 2.05050505050505\n",
       "\\item 2.07070707070707\n",
       "\\item 2.09090909090909\n",
       "\\item 2.11111111111111\n",
       "\\item 2.13131313131313\n",
       "\\item 2.15151515151515\n",
       "\\item 2.17171717171717\n",
       "\\item 2.19191919191919\n",
       "\\item 2.21212121212121\n",
       "\\item 2.23232323232323\n",
       "\\item 2.25252525252525\n",
       "\\item 2.27272727272727\n",
       "\\item 2.29292929292929\n",
       "\\item 2.31313131313131\n",
       "\\item 2.33333333333333\n",
       "\\item 2.35353535353535\n",
       "\\item 2.37373737373737\n",
       "\\item 2.39393939393939\n",
       "\\item 2.41414141414141\n",
       "\\item 2.43434343434343\n",
       "\\item 2.45454545454545\n",
       "\\item 2.47474747474747\n",
       "\\item 2.49494949494949\n",
       "\\item 2.51515151515152\n",
       "\\item 2.53535353535354\n",
       "\\item 2.55555555555556\n",
       "\\item 2.57575757575758\n",
       "\\item 2.5959595959596\n",
       "\\item 2.61616161616162\n",
       "\\item 2.63636363636364\n",
       "\\item 2.65656565656566\n",
       "\\item 2.67676767676768\n",
       "\\item 2.6969696969697\n",
       "\\item 2.71717171717172\n",
       "\\item 2.73737373737374\n",
       "\\item 2.75757575757576\n",
       "\\item 2.77777777777778\n",
       "\\item 2.7979797979798\n",
       "\\item 2.81818181818182\n",
       "\\item 2.83838383838384\n",
       "\\item 2.85858585858586\n",
       "\\item 2.87878787878788\n",
       "\\item 2.8989898989899\n",
       "\\item 2.91919191919192\n",
       "\\item 2.93939393939394\n",
       "\\item 2.95959595959596\n",
       "\\item 2.97979797979798\n",
       "\\item 3\n",
       "\\end{enumerate*}\n"
      ],
      "text/markdown": [
       "1. 1\n",
       "2. 1.02020202020202\n",
       "3. 1.04040404040404\n",
       "4. 1.06060606060606\n",
       "5. 1.08080808080808\n",
       "6. 1.1010101010101\n",
       "7. 1.12121212121212\n",
       "8. 1.14141414141414\n",
       "9. 1.16161616161616\n",
       "10. 1.18181818181818\n",
       "11. 1.2020202020202\n",
       "12. 1.22222222222222\n",
       "13. 1.24242424242424\n",
       "14. 1.26262626262626\n",
       "15. 1.28282828282828\n",
       "16. 1.3030303030303\n",
       "17. 1.32323232323232\n",
       "18. 1.34343434343434\n",
       "19. 1.36363636363636\n",
       "20. 1.38383838383838\n",
       "21. 1.4040404040404\n",
       "22. 1.42424242424242\n",
       "23. 1.44444444444444\n",
       "24. 1.46464646464646\n",
       "25. 1.48484848484848\n",
       "26. 1.50505050505051\n",
       "27. 1.52525252525253\n",
       "28. 1.54545454545455\n",
       "29. 1.56565656565657\n",
       "30. 1.58585858585859\n",
       "31. 1.60606060606061\n",
       "32. 1.62626262626263\n",
       "33. 1.64646464646465\n",
       "34. 1.66666666666667\n",
       "35. 1.68686868686869\n",
       "36. 1.70707070707071\n",
       "37. 1.72727272727273\n",
       "38. 1.74747474747475\n",
       "39. 1.76767676767677\n",
       "40. 1.78787878787879\n",
       "41. 1.80808080808081\n",
       "42. 1.82828282828283\n",
       "43. 1.84848484848485\n",
       "44. 1.86868686868687\n",
       "45. 1.88888888888889\n",
       "46. 1.90909090909091\n",
       "47. 1.92929292929293\n",
       "48. 1.94949494949495\n",
       "49. 1.96969696969697\n",
       "50. 1.98989898989899\n",
       "51. 2.01010101010101\n",
       "52. 2.03030303030303\n",
       "53. 2.05050505050505\n",
       "54. 2.07070707070707\n",
       "55. 2.09090909090909\n",
       "56. 2.11111111111111\n",
       "57. 2.13131313131313\n",
       "58. 2.15151515151515\n",
       "59. 2.17171717171717\n",
       "60. 2.19191919191919\n",
       "61. 2.21212121212121\n",
       "62. 2.23232323232323\n",
       "63. 2.25252525252525\n",
       "64. 2.27272727272727\n",
       "65. 2.29292929292929\n",
       "66. 2.31313131313131\n",
       "67. 2.33333333333333\n",
       "68. 2.35353535353535\n",
       "69. 2.37373737373737\n",
       "70. 2.39393939393939\n",
       "71. 2.41414141414141\n",
       "72. 2.43434343434343\n",
       "73. 2.45454545454545\n",
       "74. 2.47474747474747\n",
       "75. 2.49494949494949\n",
       "76. 2.51515151515152\n",
       "77. 2.53535353535354\n",
       "78. 2.55555555555556\n",
       "79. 2.57575757575758\n",
       "80. 2.5959595959596\n",
       "81. 2.61616161616162\n",
       "82. 2.63636363636364\n",
       "83. 2.65656565656566\n",
       "84. 2.67676767676768\n",
       "85. 2.6969696969697\n",
       "86. 2.71717171717172\n",
       "87. 2.73737373737374\n",
       "88. 2.75757575757576\n",
       "89. 2.77777777777778\n",
       "90. 2.7979797979798\n",
       "91. 2.81818181818182\n",
       "92. 2.83838383838384\n",
       "93. 2.85858585858586\n",
       "94. 2.87878787878788\n",
       "95. 2.8989898989899\n",
       "96. 2.91919191919192\n",
       "97. 2.93939393939394\n",
       "98. 2.95959595959596\n",
       "99. 2.97979797979798\n",
       "100. 3\n",
       "\n",
       "\n"
      ],
      "text/plain": [
       "  [1] 1.000000 1.020202 1.040404 1.060606 1.080808 1.101010 1.121212 1.141414\n",
       "  [9] 1.161616 1.181818 1.202020 1.222222 1.242424 1.262626 1.282828 1.303030\n",
       " [17] 1.323232 1.343434 1.363636 1.383838 1.404040 1.424242 1.444444 1.464646\n",
       " [25] 1.484848 1.505051 1.525253 1.545455 1.565657 1.585859 1.606061 1.626263\n",
       " [33] 1.646465 1.666667 1.686869 1.707071 1.727273 1.747475 1.767677 1.787879\n",
       " [41] 1.808081 1.828283 1.848485 1.868687 1.888889 1.909091 1.929293 1.949495\n",
       " [49] 1.969697 1.989899 2.010101 2.030303 2.050505 2.070707 2.090909 2.111111\n",
       " [57] 2.131313 2.151515 2.171717 2.191919 2.212121 2.232323 2.252525 2.272727\n",
       " [65] 2.292929 2.313131 2.333333 2.353535 2.373737 2.393939 2.414141 2.434343\n",
       " [73] 2.454545 2.474747 2.494949 2.515152 2.535354 2.555556 2.575758 2.595960\n",
       " [81] 2.616162 2.636364 2.656566 2.676768 2.696970 2.717172 2.737374 2.757576\n",
       " [89] 2.777778 2.797980 2.818182 2.838384 2.858586 2.878788 2.898990 2.919192\n",
       " [97] 2.939394 2.959596 2.979798 3.000000"
      ]
     },
     "metadata": {},
     "output_type": "display_data"
    }
   ],
   "source": [
    "seq(1, 3, length.out=100) # linspace"
   ]
  },
  {
   "cell_type": "markdown",
   "metadata": {},
   "source": [
    "## Indexação"
   ]
  },
  {
   "cell_type": "code",
   "execution_count": 31,
   "metadata": {},
   "outputs": [
    {
     "data": {
      "text/html": [
       "<ol class=list-inline>\n",
       "\t<li>1</li>\n",
       "\t<li>2</li>\n",
       "\t<li>3</li>\n",
       "\t<li>4</li>\n",
       "</ol>\n"
      ],
      "text/latex": [
       "\\begin{enumerate*}\n",
       "\\item 1\n",
       "\\item 2\n",
       "\\item 3\n",
       "\\item 4\n",
       "\\end{enumerate*}\n"
      ],
      "text/markdown": [
       "1. 1\n",
       "2. 2\n",
       "3. 3\n",
       "4. 4\n",
       "\n",
       "\n"
      ],
      "text/plain": [
       "[1] 1 2 3 4"
      ]
     },
     "metadata": {},
     "output_type": "display_data"
    }
   ],
   "source": [
    "x"
   ]
  },
  {
   "cell_type": "code",
   "execution_count": 34,
   "metadata": {},
   "outputs": [
    {
     "data": {
      "text/html": [
       "&lt;NA&gt;"
      ],
      "text/latex": [
       "<NA>"
      ],
      "text/markdown": [
       "&lt;NA&gt;"
      ],
      "text/plain": [
       "[1] NA"
      ]
     },
     "metadata": {},
     "output_type": "display_data"
    }
   ],
   "source": [
    "x[]"
   ]
  },
  {
   "cell_type": "code",
   "execution_count": 35,
   "metadata": {},
   "outputs": [
    {
     "data": {
      "text/html": [
       "<ol class=list-inline>\n",
       "\t<li>1</li>\n",
       "\t<li>2</li>\n",
       "\t<li>3</li>\n",
       "</ol>\n"
      ],
      "text/latex": [
       "\\begin{enumerate*}\n",
       "\\item 1\n",
       "\\item 2\n",
       "\\item 3\n",
       "\\end{enumerate*}\n"
      ],
      "text/markdown": [
       "1. 1\n",
       "2. 2\n",
       "3. 3\n",
       "\n",
       "\n"
      ],
      "text/plain": [
       "[1] 1 2 3"
      ]
     },
     "metadata": {},
     "output_type": "display_data"
    }
   ],
   "source": [
    "x[1:3] "
   ]
  },
  {
   "cell_type": "code",
   "execution_count": 36,
   "metadata": {},
   "outputs": [
    {
     "data": {
      "text/html": [
       "<ol class=list-inline>\n",
       "\t<li>1</li>\n",
       "\t<li>4</li>\n",
       "</ol>\n"
      ],
      "text/latex": [
       "\\begin{enumerate*}\n",
       "\\item 1\n",
       "\\item 4\n",
       "\\end{enumerate*}\n"
      ],
      "text/markdown": [
       "1. 1\n",
       "2. 4\n",
       "\n",
       "\n"
      ],
      "text/plain": [
       "[1] 1 4"
      ]
     },
     "metadata": {},
     "output_type": "display_data"
    }
   ],
   "source": [
    "x[c(1, 4)]"
   ]
  },
  {
   "cell_type": "code",
   "execution_count": 38,
   "metadata": {},
   "outputs": [
    {
     "data": {
      "text/html": [
       "4"
      ],
      "text/latex": [
       "4"
      ],
      "text/markdown": [
       "4"
      ],
      "text/plain": [
       "[1] 4"
      ]
     },
     "metadata": {},
     "output_type": "display_data"
    }
   ],
   "source": [
    "x[-1:-3]"
   ]
  },
  {
   "cell_type": "markdown",
   "metadata": {},
   "source": [
    "### Usando vetor lógico (booleano) com indice"
   ]
  },
  {
   "cell_type": "code",
   "execution_count": 39,
   "metadata": {},
   "outputs": [
    {
     "data": {
      "text/html": [
       "<ol class=list-inline>\n",
       "\t<li>1</li>\n",
       "\t<li>4</li>\n",
       "</ol>\n"
      ],
      "text/latex": [
       "\\begin{enumerate*}\n",
       "\\item 1\n",
       "\\item 4\n",
       "\\end{enumerate*}\n"
      ],
      "text/markdown": [
       "1. 1\n",
       "2. 4\n",
       "\n",
       "\n"
      ],
      "text/plain": [
       "[1] 1 4"
      ]
     },
     "metadata": {},
     "output_type": "display_data"
    }
   ],
   "source": [
    "x[c(TRUE, FALSE, FALSE, TRUE)]"
   ]
  },
  {
   "cell_type": "code",
   "execution_count": 42,
   "metadata": {},
   "outputs": [
    {
     "data": {
      "text/html": [
       "<ol class=list-inline>\n",
       "\t<li>TRUE</li>\n",
       "\t<li>TRUE</li>\n",
       "\t<li>FALSE</li>\n",
       "\t<li>FALSE</li>\n",
       "</ol>\n"
      ],
      "text/latex": [
       "\\begin{enumerate*}\n",
       "\\item TRUE\n",
       "\\item TRUE\n",
       "\\item FALSE\n",
       "\\item FALSE\n",
       "\\end{enumerate*}\n"
      ],
      "text/markdown": [
       "1. TRUE\n",
       "2. TRUE\n",
       "3. FALSE\n",
       "4. FALSE\n",
       "\n",
       "\n"
      ],
      "text/plain": [
       "[1]  TRUE  TRUE FALSE FALSE"
      ]
     },
     "metadata": {},
     "output_type": "display_data"
    }
   ],
   "source": [
    "x <= 2"
   ]
  },
  {
   "cell_type": "code",
   "execution_count": 43,
   "metadata": {},
   "outputs": [
    {
     "data": {
      "text/html": [
       "<ol class=list-inline>\n",
       "\t<li>1</li>\n",
       "\t<li>2</li>\n",
       "</ol>\n"
      ],
      "text/latex": [
       "\\begin{enumerate*}\n",
       "\\item 1\n",
       "\\item 2\n",
       "\\end{enumerate*}\n"
      ],
      "text/markdown": [
       "1. 1\n",
       "2. 2\n",
       "\n",
       "\n"
      ],
      "text/plain": [
       "[1] 1 2"
      ]
     },
     "metadata": {},
     "output_type": "display_data"
    }
   ],
   "source": [
    "x[x <= 2]"
   ]
  },
  {
   "cell_type": "code",
   "execution_count": 44,
   "metadata": {},
   "outputs": [
    {
     "data": {
      "text/html": [
       "<ol class=list-inline>\n",
       "\t<li>3</li>\n",
       "\t<li>4</li>\n",
       "</ol>\n"
      ],
      "text/latex": [
       "\\begin{enumerate*}\n",
       "\\item 3\n",
       "\\item 4\n",
       "\\end{enumerate*}\n"
      ],
      "text/markdown": [
       "1. 3\n",
       "2. 4\n",
       "\n",
       "\n"
      ],
      "text/plain": [
       "[1] 3 4"
      ]
     },
     "metadata": {},
     "output_type": "display_data"
    }
   ],
   "source": [
    "x[x > 2]"
   ]
  },
  {
   "cell_type": "markdown",
   "metadata": {},
   "source": [
    "### Usando caracteres como indice "
   ]
  },
  {
   "cell_type": "code",
   "execution_count": 45,
   "metadata": {},
   "outputs": [
    {
     "data": {
      "text/html": [
       "<ol class=list-inline>\n",
       "\t<li>'primeiro'</li>\n",
       "\t<li>'segundo'</li>\n",
       "\t<li>'terceiro'</li>\n",
       "</ol>\n"
      ],
      "text/latex": [
       "\\begin{enumerate*}\n",
       "\\item 'primeiro'\n",
       "\\item 'segundo'\n",
       "\\item 'terceiro'\n",
       "\\end{enumerate*}\n"
      ],
      "text/markdown": [
       "1. 'primeiro'\n",
       "2. 'segundo'\n",
       "3. 'terceiro'\n",
       "\n",
       "\n"
      ],
      "text/plain": [
       "[1] \"primeiro\" \"segundo\"  \"terceiro\""
      ]
     },
     "metadata": {},
     "output_type": "display_data"
    }
   ],
   "source": [
    "x = c(\"primeiro\"=3, \"segundo\"=0, \"terceiro\"=9)\n",
    "names(x)"
   ]
  },
  {
   "cell_type": "code",
   "execution_count": 46,
   "metadata": {},
   "outputs": [
    {
     "data": {
      "text/html": [
       "<strong>segundo:</strong> 0"
      ],
      "text/latex": [
       "\\textbf{segundo:} 0"
      ],
      "text/markdown": [
       "**segundo:** 0"
      ],
      "text/plain": [
       "segundo \n",
       "      0 "
      ]
     },
     "metadata": {},
     "output_type": "display_data"
    }
   ],
   "source": [
    "x[\"segundo\"]"
   ]
  },
  {
   "cell_type": "code",
   "execution_count": 47,
   "metadata": {},
   "outputs": [
    {
     "data": {
      "text/html": [
       "<dl class=dl-horizontal>\n",
       "\t<dt>primeiro</dt>\n",
       "\t\t<dd>3</dd>\n",
       "\t<dt>terceiro</dt>\n",
       "\t\t<dd>9</dd>\n",
       "</dl>\n"
      ],
      "text/latex": [
       "\\begin{description*}\n",
       "\\item[primeiro] 3\n",
       "\\item[terceiro] 9\n",
       "\\end{description*}\n"
      ],
      "text/markdown": [
       "primeiro\n",
       ":   3terceiro\n",
       ":   9\n",
       "\n"
      ],
      "text/plain": [
       "primeiro terceiro \n",
       "       3        9 "
      ]
     },
     "metadata": {},
     "output_type": "display_data"
    }
   ],
   "source": [
    "x[c(\"primeiro\", \"terceiro\")]"
   ]
  },
  {
   "cell_type": "markdown",
   "metadata": {},
   "source": [
    "## Modificando um Vetor"
   ]
  },
  {
   "cell_type": "code",
   "execution_count": 48,
   "metadata": {},
   "outputs": [
    {
     "data": {
      "text/html": [
       "<ol class=list-inline>\n",
       "\t<li>-3</li>\n",
       "\t<li>-2</li>\n",
       "\t<li>-1</li>\n",
       "\t<li>0</li>\n",
       "\t<li>1</li>\n",
       "\t<li>2</li>\n",
       "</ol>\n"
      ],
      "text/latex": [
       "\\begin{enumerate*}\n",
       "\\item -3\n",
       "\\item -2\n",
       "\\item -1\n",
       "\\item 0\n",
       "\\item 1\n",
       "\\item 2\n",
       "\\end{enumerate*}\n"
      ],
      "text/markdown": [
       "1. -3\n",
       "2. -2\n",
       "3. -1\n",
       "4. 0\n",
       "5. 1\n",
       "6. 2\n",
       "\n",
       "\n"
      ],
      "text/plain": [
       "[1] -3 -2 -1  0  1  2"
      ]
     },
     "metadata": {},
     "output_type": "display_data"
    }
   ],
   "source": [
    "x = -3:2; x"
   ]
  },
  {
   "cell_type": "code",
   "execution_count": 49,
   "metadata": {},
   "outputs": [
    {
     "data": {
      "text/html": [
       "<ol class=list-inline>\n",
       "\t<li>-3</li>\n",
       "\t<li>0</li>\n",
       "\t<li>-1</li>\n",
       "\t<li>0</li>\n",
       "\t<li>1</li>\n",
       "\t<li>2</li>\n",
       "</ol>\n"
      ],
      "text/latex": [
       "\\begin{enumerate*}\n",
       "\\item -3\n",
       "\\item 0\n",
       "\\item -1\n",
       "\\item 0\n",
       "\\item 1\n",
       "\\item 2\n",
       "\\end{enumerate*}\n"
      ],
      "text/markdown": [
       "1. -3\n",
       "2. 0\n",
       "3. -1\n",
       "4. 0\n",
       "5. 1\n",
       "6. 2\n",
       "\n",
       "\n"
      ],
      "text/plain": [
       "[1] -3  0 -1  0  1  2"
      ]
     },
     "metadata": {},
     "output_type": "display_data"
    }
   ],
   "source": [
    "x[2] = 0; x"
   ]
  },
  {
   "cell_type": "code",
   "execution_count": 40,
   "metadata": {},
   "outputs": [
    {
     "data": {
      "text/html": [
       "<ol class=list-inline>\n",
       "\t<li>6</li>\n",
       "\t<li>0</li>\n",
       "\t<li>6</li>\n",
       "\t<li>0</li>\n",
       "\t<li>1</li>\n",
       "\t<li>2</li>\n",
       "</ol>\n"
      ],
      "text/latex": [
       "\\begin{enumerate*}\n",
       "\\item 6\n",
       "\\item 0\n",
       "\\item 6\n",
       "\\item 0\n",
       "\\item 1\n",
       "\\item 2\n",
       "\\end{enumerate*}\n"
      ],
      "text/markdown": [
       "1. 6\n",
       "2. 0\n",
       "3. 6\n",
       "4. 0\n",
       "5. 1\n",
       "6. 2\n",
       "\n",
       "\n"
      ],
      "text/plain": [
       "[1] 6 0 6 0 1 2"
      ]
     },
     "metadata": {},
     "output_type": "display_data"
    }
   ],
   "source": [
    "x[x < 0] = 6; x"
   ]
  },
  {
   "cell_type": "markdown",
   "metadata": {},
   "source": [
    "### Função ifelse"
   ]
  },
  {
   "cell_type": "code",
   "execution_count": 50,
   "metadata": {},
   "outputs": [
    {
     "data": {
      "text/html": [
       "<ol class=list-inline>\n",
       "\t<li>3</li>\n",
       "\t<li>2</li>\n",
       "\t<li>1</li>\n",
       "\t<li>0</li>\n",
       "\t<li>1</li>\n",
       "\t<li>2</li>\n",
       "</ol>\n"
      ],
      "text/latex": [
       "\\begin{enumerate*}\n",
       "\\item 3\n",
       "\\item 2\n",
       "\\item 1\n",
       "\\item 0\n",
       "\\item 1\n",
       "\\item 2\n",
       "\\end{enumerate*}\n"
      ],
      "text/markdown": [
       "1. 3\n",
       "2. 2\n",
       "3. 1\n",
       "4. 0\n",
       "5. 1\n",
       "6. 2\n",
       "\n",
       "\n"
      ],
      "text/plain": [
       "[1] 3 2 1 0 1 2"
      ]
     },
     "metadata": {},
     "output_type": "display_data"
    }
   ],
   "source": [
    "x = -3:2\n",
    "# retorna valor absoluto dos elementos do vetor\n",
    "ifelse(x < 0, -x, x)"
   ]
  },
  {
   "cell_type": "code",
   "execution_count": 50,
   "metadata": {},
   "outputs": [
    {
     "data": {
      "text/html": [
       "<ol class=list-inline>\n",
       "\t<li>-3</li>\n",
       "\t<li>0</li>\n",
       "\t<li>-1</li>\n",
       "\t<li>0</li>\n",
       "\t<li>1</li>\n",
       "\t<li>2</li>\n",
       "</ol>\n"
      ],
      "text/latex": [
       "\\begin{enumerate*}\n",
       "\\item -3\n",
       "\\item 0\n",
       "\\item -1\n",
       "\\item 0\n",
       "\\item 1\n",
       "\\item 2\n",
       "\\end{enumerate*}\n"
      ],
      "text/markdown": [
       "1. -3\n",
       "2. 0\n",
       "3. -1\n",
       "4. 0\n",
       "5. 1\n",
       "6. 2\n",
       "\n",
       "\n"
      ],
      "text/plain": [
       "[1] -3  0 -1  0  1  2"
      ]
     },
     "metadata": {},
     "output_type": "display_data"
    }
   ],
   "source": [
    "x"
   ]
  },
  {
   "cell_type": "code",
   "execution_count": 53,
   "metadata": {},
   "outputs": [
    {
     "data": {
      "text/html": [
       "<ol class=list-inline>\n",
       "\t<li>1</li>\n",
       "\t<li>2</li>\n",
       "\t<li>3</li>\n",
       "\t<li>4</li>\n",
       "\t<li>5</li>\n",
       "\t<li>6</li>\n",
       "</ol>\n"
      ],
      "text/latex": [
       "\\begin{enumerate*}\n",
       "\\item 1\n",
       "\\item 2\n",
       "\\item 3\n",
       "\\item 4\n",
       "\\item 5\n",
       "\\item 6\n",
       "\\end{enumerate*}\n"
      ],
      "text/markdown": [
       "1. 1\n",
       "2. 2\n",
       "3. 3\n",
       "4. 4\n",
       "5. 5\n",
       "6. 6\n",
       "\n",
       "\n"
      ],
      "text/plain": [
       "[1] 1 2 3 4 5 6"
      ]
     },
     "metadata": {},
     "output_type": "display_data"
    }
   ],
   "source": [
    "y = 1:6; y"
   ]
  },
  {
   "cell_type": "code",
   "execution_count": 54,
   "metadata": {},
   "outputs": [
    {
     "data": {
      "text/html": [
       "<ol class=list-inline>\n",
       "\t<li>-2</li>\n",
       "\t<li>2</li>\n",
       "\t<li>2</li>\n",
       "\t<li>4</li>\n",
       "\t<li>6</li>\n",
       "\t<li>8</li>\n",
       "</ol>\n"
      ],
      "text/latex": [
       "\\begin{enumerate*}\n",
       "\\item -2\n",
       "\\item 2\n",
       "\\item 2\n",
       "\\item 4\n",
       "\\item 6\n",
       "\\item 8\n",
       "\\end{enumerate*}\n"
      ],
      "text/markdown": [
       "1. -2\n",
       "2. 2\n",
       "3. 2\n",
       "4. 4\n",
       "5. 6\n",
       "6. 8\n",
       "\n",
       "\n"
      ],
      "text/plain": [
       "[1] -2  2  2  4  6  8"
      ]
     },
     "metadata": {},
     "output_type": "display_data"
    }
   ],
   "source": [
    "x + y"
   ]
  },
  {
   "cell_type": "code",
   "execution_count": 55,
   "metadata": {},
   "outputs": [
    {
     "data": {
      "text/html": [
       "<ol class=list-inline>\n",
       "\t<li>-4</li>\n",
       "\t<li>-2</li>\n",
       "\t<li>-4</li>\n",
       "\t<li>-4</li>\n",
       "\t<li>-4</li>\n",
       "\t<li>-4</li>\n",
       "</ol>\n"
      ],
      "text/latex": [
       "\\begin{enumerate*}\n",
       "\\item -4\n",
       "\\item -2\n",
       "\\item -4\n",
       "\\item -4\n",
       "\\item -4\n",
       "\\item -4\n",
       "\\end{enumerate*}\n"
      ],
      "text/markdown": [
       "1. -4\n",
       "2. -2\n",
       "3. -4\n",
       "4. -4\n",
       "5. -4\n",
       "6. -4\n",
       "\n",
       "\n"
      ],
      "text/plain": [
       "[1] -4 -2 -4 -4 -4 -4"
      ]
     },
     "metadata": {},
     "output_type": "display_data"
    }
   ],
   "source": [
    "x - y"
   ]
  },
  {
   "cell_type": "code",
   "execution_count": 56,
   "metadata": {},
   "outputs": [
    {
     "data": {
      "text/html": [
       "<ol class=list-inline>\n",
       "\t<li>-3</li>\n",
       "\t<li>0</li>\n",
       "\t<li>-3</li>\n",
       "\t<li>0</li>\n",
       "\t<li>5</li>\n",
       "\t<li>12</li>\n",
       "</ol>\n"
      ],
      "text/latex": [
       "\\begin{enumerate*}\n",
       "\\item -3\n",
       "\\item 0\n",
       "\\item -3\n",
       "\\item 0\n",
       "\\item 5\n",
       "\\item 12\n",
       "\\end{enumerate*}\n"
      ],
      "text/markdown": [
       "1. -3\n",
       "2. 0\n",
       "3. -3\n",
       "4. 0\n",
       "5. 5\n",
       "6. 12\n",
       "\n",
       "\n"
      ],
      "text/plain": [
       "[1] -3  0 -3  0  5 12"
      ]
     },
     "metadata": {},
     "output_type": "display_data"
    }
   ],
   "source": [
    "x * y"
   ]
  },
  {
   "cell_type": "code",
   "execution_count": 57,
   "metadata": {},
   "outputs": [
    {
     "data": {
      "text/html": [
       "<ol class=list-inline>\n",
       "\t<li>-3</li>\n",
       "\t<li>0</li>\n",
       "\t<li>-0.333333333333333</li>\n",
       "\t<li>0</li>\n",
       "\t<li>0.2</li>\n",
       "\t<li>0.333333333333333</li>\n",
       "</ol>\n"
      ],
      "text/latex": [
       "\\begin{enumerate*}\n",
       "\\item -3\n",
       "\\item 0\n",
       "\\item -0.333333333333333\n",
       "\\item 0\n",
       "\\item 0.2\n",
       "\\item 0.333333333333333\n",
       "\\end{enumerate*}\n"
      ],
      "text/markdown": [
       "1. -3\n",
       "2. 0\n",
       "3. -0.333333333333333\n",
       "4. 0\n",
       "5. 0.2\n",
       "6. 0.333333333333333\n",
       "\n",
       "\n"
      ],
      "text/plain": [
       "[1] -3.0000000  0.0000000 -0.3333333  0.0000000  0.2000000  0.3333333"
      ]
     },
     "metadata": {},
     "output_type": "display_data"
    }
   ],
   "source": [
    "x / y"
   ]
  },
  {
   "cell_type": "markdown",
   "metadata": {},
   "source": [
    "## Matriz\n",
    "\n",
    "Matriz (matrix) é a estrutura de dados bidimensioanla em R. \n",
    "\n",
    "Matriz é similar aos vetores, por;em contém uma dimensão a mais."
   ]
  },
  {
   "cell_type": "code",
   "execution_count": 58,
   "metadata": {},
   "outputs": [
    {
     "data": {
      "text/html": [
       "<table>\n",
       "<tbody>\n",
       "\t<tr><td>1</td><td>4</td><td>7</td></tr>\n",
       "\t<tr><td>2</td><td>5</td><td>8</td></tr>\n",
       "\t<tr><td>3</td><td>6</td><td>9</td></tr>\n",
       "</tbody>\n",
       "</table>\n"
      ],
      "text/latex": [
       "\\begin{tabular}{lll}\n",
       "\t 1 & 4 & 7\\\\\n",
       "\t 2 & 5 & 8\\\\\n",
       "\t 3 & 6 & 9\\\\\n",
       "\\end{tabular}\n"
      ],
      "text/markdown": [
       "\n",
       "| 1 | 4 | 7 | \n",
       "| 2 | 5 | 8 | \n",
       "| 3 | 6 | 9 | \n",
       "\n",
       "\n"
      ],
      "text/plain": [
       "     [,1] [,2] [,3]\n",
       "[1,] 1    4    7   \n",
       "[2,] 2    5    8   \n",
       "[3,] 3    6    9   "
      ]
     },
     "metadata": {},
     "output_type": "display_data"
    }
   ],
   "source": [
    "a = matrix(1:9, nrow=3, ncol=3); a"
   ]
  },
  {
   "cell_type": "code",
   "execution_count": 59,
   "metadata": {},
   "outputs": [
    {
     "data": {
      "text/html": [
       "'matrix'"
      ],
      "text/latex": [
       "'matrix'"
      ],
      "text/markdown": [
       "'matrix'"
      ],
      "text/plain": [
       "[1] \"matrix\""
      ]
     },
     "metadata": {},
     "output_type": "display_data"
    }
   ],
   "source": [
    "class(a)"
   ]
  },
  {
   "cell_type": "code",
   "execution_count": 60,
   "metadata": {},
   "outputs": [
    {
     "data": {
      "text/html": [
       "<strong>$dim</strong> = <ol class=list-inline>\n",
       "\t<li>3</li>\n",
       "\t<li>3</li>\n",
       "</ol>\n"
      ],
      "text/latex": [
       "\\textbf{\\$dim} = \\begin{enumerate*}\n",
       "\\item 3\n",
       "\\item 3\n",
       "\\end{enumerate*}\n"
      ],
      "text/markdown": [
       "**$dim** = 1. 3\n",
       "2. 3\n",
       "\n",
       "\n"
      ],
      "text/plain": [
       "$dim\n",
       "[1] 3 3\n"
      ]
     },
     "metadata": {},
     "output_type": "display_data"
    }
   ],
   "source": [
    "attributes(a)"
   ]
  },
  {
   "cell_type": "code",
   "execution_count": 63,
   "metadata": {},
   "outputs": [
    {
     "data": {
      "text/html": [
       "<ol class=list-inline>\n",
       "\t<li>3</li>\n",
       "\t<li>3</li>\n",
       "</ol>\n"
      ],
      "text/latex": [
       "\\begin{enumerate*}\n",
       "\\item 3\n",
       "\\item 3\n",
       "\\end{enumerate*}\n"
      ],
      "text/markdown": [
       "1. 3\n",
       "2. 3\n",
       "\n",
       "\n"
      ],
      "text/plain": [
       "[1] 3 3"
      ]
     },
     "metadata": {},
     "output_type": "display_data"
    }
   ],
   "source": [
    "dim(a)"
   ]
  },
  {
   "cell_type": "markdown",
   "metadata": {},
   "source": [
    "### Criando Matrizes\n",
    "\n",
    "Podemos criar como mostrado acima."
   ]
  },
  {
   "cell_type": "code",
   "execution_count": 63,
   "metadata": {},
   "outputs": [
    {
     "data": {
      "text/html": [
       "<table>\n",
       "<tbody>\n",
       "\t<tr><td>1</td><td>4</td><td>7</td></tr>\n",
       "\t<tr><td>2</td><td>5</td><td>8</td></tr>\n",
       "\t<tr><td>3</td><td>6</td><td>9</td></tr>\n",
       "</tbody>\n",
       "</table>\n"
      ],
      "text/latex": [
       "\\begin{tabular}{lll}\n",
       "\t 1 & 4 & 7\\\\\n",
       "\t 2 & 5 & 8\\\\\n",
       "\t 3 & 6 & 9\\\\\n",
       "\\end{tabular}\n"
      ],
      "text/markdown": [
       "\n",
       "| 1 | 4 | 7 | \n",
       "| 2 | 5 | 8 | \n",
       "| 3 | 6 | 9 | \n",
       "\n",
       "\n"
      ],
      "text/plain": [
       "     [,1] [,2] [,3]\n",
       "[1,] 1    4    7   \n",
       "[2,] 2    5    8   \n",
       "[3,] 3    6    9   "
      ]
     },
     "metadata": {},
     "output_type": "display_data"
    }
   ],
   "source": [
    "matrix(1:9, nrow=3, ncol=3)"
   ]
  },
  {
   "cell_type": "code",
   "execution_count": 64,
   "metadata": {},
   "outputs": [
    {
     "data": {
      "text/html": [
       "<ol class=list-inline>\n",
       "\t<li>1</li>\n",
       "\t<li>2</li>\n",
       "\t<li>3</li>\n",
       "\t<li>4</li>\n",
       "\t<li>5</li>\n",
       "\t<li>6</li>\n",
       "\t<li>7</li>\n",
       "\t<li>8</li>\n",
       "\t<li>9</li>\n",
       "</ol>\n"
      ],
      "text/latex": [
       "\\begin{enumerate*}\n",
       "\\item 1\n",
       "\\item 2\n",
       "\\item 3\n",
       "\\item 4\n",
       "\\item 5\n",
       "\\item 6\n",
       "\\item 7\n",
       "\\item 8\n",
       "\\item 9\n",
       "\\end{enumerate*}\n"
      ],
      "text/markdown": [
       "1. 1\n",
       "2. 2\n",
       "3. 3\n",
       "4. 4\n",
       "5. 5\n",
       "6. 6\n",
       "7. 7\n",
       "8. 8\n",
       "9. 9\n",
       "\n",
       "\n"
      ],
      "text/plain": [
       "[1] 1 2 3 4 5 6 7 8 9"
      ]
     },
     "metadata": {},
     "output_type": "display_data"
    },
    {
     "data": {
      "text/html": [
       "<table>\n",
       "<tbody>\n",
       "\t<tr><td>1</td><td>4</td><td>7</td></tr>\n",
       "\t<tr><td>2</td><td>5</td><td>8</td></tr>\n",
       "\t<tr><td>3</td><td>6</td><td>9</td></tr>\n",
       "</tbody>\n",
       "</table>\n"
      ],
      "text/latex": [
       "\\begin{tabular}{lll}\n",
       "\t 1 & 4 & 7\\\\\n",
       "\t 2 & 5 & 8\\\\\n",
       "\t 3 & 6 & 9\\\\\n",
       "\\end{tabular}\n"
      ],
      "text/markdown": [
       "\n",
       "| 1 | 4 | 7 | \n",
       "| 2 | 5 | 8 | \n",
       "| 3 | 6 | 9 | \n",
       "\n",
       "\n"
      ],
      "text/plain": [
       "     [,1] [,2] [,3]\n",
       "[1,] 1    4    7   \n",
       "[2,] 2    5    8   \n",
       "[3,] 3    6    9   "
      ]
     },
     "metadata": {},
     "output_type": "display_data"
    }
   ],
   "source": [
    "1:9\n",
    "matrix(1:9, nrow=3)"
   ]
  },
  {
   "cell_type": "code",
   "execution_count": 65,
   "metadata": {},
   "outputs": [
    {
     "data": {
      "text/html": [
       "<table>\n",
       "<tbody>\n",
       "\t<tr><td>1</td><td>2</td><td>3</td></tr>\n",
       "\t<tr><td>4</td><td>5</td><td>6</td></tr>\n",
       "\t<tr><td>7</td><td>8</td><td>9</td></tr>\n",
       "</tbody>\n",
       "</table>\n"
      ],
      "text/latex": [
       "\\begin{tabular}{lll}\n",
       "\t 1 & 2 & 3\\\\\n",
       "\t 4 & 5 & 6\\\\\n",
       "\t 7 & 8 & 9\\\\\n",
       "\\end{tabular}\n"
      ],
      "text/markdown": [
       "\n",
       "| 1 | 2 | 3 | \n",
       "| 4 | 5 | 6 | \n",
       "| 7 | 8 | 9 | \n",
       "\n",
       "\n"
      ],
      "text/plain": [
       "     [,1] [,2] [,3]\n",
       "[1,] 1    2    3   \n",
       "[2,] 4    5    6   \n",
       "[3,] 7    8    9   "
      ]
     },
     "metadata": {},
     "output_type": "display_data"
    }
   ],
   "source": [
    "matrix(1:9, nrow=3, byrow=TRUE)"
   ]
  },
  {
   "cell_type": "markdown",
   "metadata": {},
   "source": [
    "Apesar disso, internamente, as matrizes armazenam os dados pelas colunas."
   ]
  },
  {
   "cell_type": "code",
   "execution_count": 66,
   "metadata": {},
   "outputs": [
    {
     "data": {
      "text/html": [
       "<table>\n",
       "<thead><tr><th></th><th scope=col>A</th><th scope=col>B</th><th scope=col>C</th></tr></thead>\n",
       "<tbody>\n",
       "\t<tr><th scope=row>X</th><td>1</td><td>4</td><td>7</td></tr>\n",
       "\t<tr><th scope=row>Y</th><td>2</td><td>5</td><td>8</td></tr>\n",
       "\t<tr><th scope=row>Z</th><td>3</td><td>6</td><td>9</td></tr>\n",
       "</tbody>\n",
       "</table>\n"
      ],
      "text/latex": [
       "\\begin{tabular}{r|lll}\n",
       "  & A & B & C\\\\\n",
       "\\hline\n",
       "\tX & 1 & 4 & 7\\\\\n",
       "\tY & 2 & 5 & 8\\\\\n",
       "\tZ & 3 & 6 & 9\\\\\n",
       "\\end{tabular}\n"
      ],
      "text/markdown": [
       "\n",
       "| <!--/--> | A | B | C | \n",
       "|---|---|---|\n",
       "| X | 1 | 4 | 7 | \n",
       "| Y | 2 | 5 | 8 | \n",
       "| Z | 3 | 6 | 9 | \n",
       "\n",
       "\n"
      ],
      "text/plain": [
       "  A B C\n",
       "X 1 4 7\n",
       "Y 2 5 8\n",
       "Z 3 6 9"
      ]
     },
     "metadata": {},
     "output_type": "display_data"
    }
   ],
   "source": [
    "x = matrix(1:9, nrow = 3, dimnames = list(c(\"X\",\"Y\",\"Z\"), c(\"A\",\"B\",\"C\")))\n",
    "x"
   ]
  },
  {
   "cell_type": "markdown",
   "metadata": {},
   "source": [
    "Podemos mudar os nomes das colunas e linhas com as funções ```colnames()``` e ```rownames()```."
   ]
  },
  {
   "cell_type": "code",
   "execution_count": 67,
   "metadata": {},
   "outputs": [
    {
     "data": {
      "text/html": [
       "<ol class=list-inline>\n",
       "\t<li>'A'</li>\n",
       "\t<li>'B'</li>\n",
       "\t<li>'C'</li>\n",
       "</ol>\n"
      ],
      "text/latex": [
       "\\begin{enumerate*}\n",
       "\\item 'A'\n",
       "\\item 'B'\n",
       "\\item 'C'\n",
       "\\end{enumerate*}\n"
      ],
      "text/markdown": [
       "1. 'A'\n",
       "2. 'B'\n",
       "3. 'C'\n",
       "\n",
       "\n"
      ],
      "text/plain": [
       "[1] \"A\" \"B\" \"C\""
      ]
     },
     "metadata": {},
     "output_type": "display_data"
    },
    {
     "data": {
      "text/html": [
       "<ol class=list-inline>\n",
       "\t<li>'X'</li>\n",
       "\t<li>'Y'</li>\n",
       "\t<li>'Z'</li>\n",
       "</ol>\n"
      ],
      "text/latex": [
       "\\begin{enumerate*}\n",
       "\\item 'X'\n",
       "\\item 'Y'\n",
       "\\item 'Z'\n",
       "\\end{enumerate*}\n"
      ],
      "text/markdown": [
       "1. 'X'\n",
       "2. 'Y'\n",
       "3. 'Z'\n",
       "\n",
       "\n"
      ],
      "text/plain": [
       "[1] \"X\" \"Y\" \"Z\""
      ]
     },
     "metadata": {},
     "output_type": "display_data"
    }
   ],
   "source": [
    "colnames(x)\n",
    "rownames(x)"
   ]
  },
  {
   "cell_type": "code",
   "execution_count": 68,
   "metadata": {},
   "outputs": [
    {
     "data": {
      "text/html": [
       "<table>\n",
       "<thead><tr><th></th><th scope=col>C1</th><th scope=col>C2</th><th scope=col>C3</th></tr></thead>\n",
       "<tbody>\n",
       "\t<tr><th scope=row>R1</th><td>1</td><td>4</td><td>7</td></tr>\n",
       "\t<tr><th scope=row>R2</th><td>2</td><td>5</td><td>8</td></tr>\n",
       "\t<tr><th scope=row>R3</th><td>3</td><td>6</td><td>9</td></tr>\n",
       "</tbody>\n",
       "</table>\n"
      ],
      "text/latex": [
       "\\begin{tabular}{r|lll}\n",
       "  & C1 & C2 & C3\\\\\n",
       "\\hline\n",
       "\tR1 & 1 & 4 & 7\\\\\n",
       "\tR2 & 2 & 5 & 8\\\\\n",
       "\tR3 & 3 & 6 & 9\\\\\n",
       "\\end{tabular}\n"
      ],
      "text/markdown": [
       "\n",
       "| <!--/--> | C1 | C2 | C3 | \n",
       "|---|---|---|\n",
       "| R1 | 1 | 4 | 7 | \n",
       "| R2 | 2 | 5 | 8 | \n",
       "| R3 | 3 | 6 | 9 | \n",
       "\n",
       "\n"
      ],
      "text/plain": [
       "   C1 C2 C3\n",
       "R1 1  4  7 \n",
       "R2 2  5  8 \n",
       "R3 3  6  9 "
      ]
     },
     "metadata": {},
     "output_type": "display_data"
    }
   ],
   "source": [
    "colnames(x) = c(\"C1\",\"C2\",\"C3\")\n",
    "rownames(x) = c(\"R1\",\"R2\",\"R3\")\n",
    "\n",
    "x"
   ]
  },
  {
   "cell_type": "markdown",
   "metadata": {},
   "source": [
    "### Indexação\n"
   ]
  },
  {
   "cell_type": "code",
   "execution_count": 70,
   "metadata": {},
   "outputs": [
    {
     "data": {
      "text/html": [
       "4"
      ],
      "text/latex": [
       "4"
      ],
      "text/markdown": [
       "4"
      ],
      "text/plain": [
       "[1] 4"
      ]
     },
     "metadata": {},
     "output_type": "display_data"
    }
   ],
   "source": [
    "x['R1', 'C2']"
   ]
  },
  {
   "cell_type": "code",
   "execution_count": 71,
   "metadata": {},
   "outputs": [
    {
     "data": {
      "text/html": [
       "<table>\n",
       "<thead><tr><th></th><th scope=col>C1</th><th scope=col>C2</th></tr></thead>\n",
       "<tbody>\n",
       "\t<tr><th scope=row>R1</th><td>1</td><td>4</td></tr>\n",
       "\t<tr><th scope=row>R2</th><td>2</td><td>5</td></tr>\n",
       "\t<tr><th scope=row>R3</th><td>3</td><td>6</td></tr>\n",
       "</tbody>\n",
       "</table>\n"
      ],
      "text/latex": [
       "\\begin{tabular}{r|ll}\n",
       "  & C1 & C2\\\\\n",
       "\\hline\n",
       "\tR1 & 1 & 4\\\\\n",
       "\tR2 & 2 & 5\\\\\n",
       "\tR3 & 3 & 6\\\\\n",
       "\\end{tabular}\n"
      ],
      "text/markdown": [
       "\n",
       "| <!--/--> | C1 | C2 | \n",
       "|---|---|---|\n",
       "| R1 | 1 | 4 | \n",
       "| R2 | 2 | 5 | \n",
       "| R3 | 3 | 6 | \n",
       "\n",
       "\n"
      ],
      "text/plain": [
       "   C1 C2\n",
       "R1 1  4 \n",
       "R2 2  5 \n",
       "R3 3  6 "
      ]
     },
     "metadata": {},
     "output_type": "display_data"
    }
   ],
   "source": [
    "x[1:3, 1:2]"
   ]
  },
  {
   "cell_type": "code",
   "execution_count": 72,
   "metadata": {},
   "outputs": [
    {
     "data": {
      "text/html": [
       "<table>\n",
       "<thead><tr><th></th><th scope=col>C2</th><th scope=col>C3</th></tr></thead>\n",
       "<tbody>\n",
       "\t<tr><th scope=row>R1</th><td>4</td><td>7</td></tr>\n",
       "\t<tr><th scope=row>R2</th><td>5</td><td>8</td></tr>\n",
       "</tbody>\n",
       "</table>\n"
      ],
      "text/latex": [
       "\\begin{tabular}{r|ll}\n",
       "  & C2 & C3\\\\\n",
       "\\hline\n",
       "\tR1 & 4 & 7\\\\\n",
       "\tR2 & 5 & 8\\\\\n",
       "\\end{tabular}\n"
      ],
      "text/markdown": [
       "\n",
       "| <!--/--> | C2 | C3 | \n",
       "|---|---|\n",
       "| R1 | 4 | 7 | \n",
       "| R2 | 5 | 8 | \n",
       "\n",
       "\n"
      ],
      "text/plain": [
       "   C2 C3\n",
       "R1 4  7 \n",
       "R2 5  8 "
      ]
     },
     "metadata": {},
     "output_type": "display_data"
    }
   ],
   "source": [
    "x[c(1,2),c(2,3)]"
   ]
  },
  {
   "cell_type": "code",
   "execution_count": 73,
   "metadata": {},
   "outputs": [
    {
     "data": {
      "text/html": [
       "<table>\n",
       "<thead><tr><th></th><th scope=col>C1</th><th scope=col>C2</th><th scope=col>C3</th></tr></thead>\n",
       "<tbody>\n",
       "\t<tr><th scope=row>R3</th><td>3</td><td>6</td><td>9</td></tr>\n",
       "\t<tr><th scope=row>R2</th><td>2</td><td>5</td><td>8</td></tr>\n",
       "</tbody>\n",
       "</table>\n"
      ],
      "text/latex": [
       "\\begin{tabular}{r|lll}\n",
       "  & C1 & C2 & C3\\\\\n",
       "\\hline\n",
       "\tR3 & 3 & 6 & 9\\\\\n",
       "\tR2 & 2 & 5 & 8\\\\\n",
       "\\end{tabular}\n"
      ],
      "text/markdown": [
       "\n",
       "| <!--/--> | C1 | C2 | C3 | \n",
       "|---|---|\n",
       "| R3 | 3 | 6 | 9 | \n",
       "| R2 | 2 | 5 | 8 | \n",
       "\n",
       "\n"
      ],
      "text/plain": [
       "   C1 C2 C3\n",
       "R3 3  6  9 \n",
       "R2 2  5  8 "
      ]
     },
     "metadata": {},
     "output_type": "display_data"
    }
   ],
   "source": [
    "x[c(3,2),]"
   ]
  },
  {
   "cell_type": "code",
   "execution_count": 76,
   "metadata": {},
   "outputs": [
    {
     "data": {
      "text/html": [
       "<table>\n",
       "<thead><tr><th></th><th scope=col>C1</th><th scope=col>C2</th><th scope=col>C3</th></tr></thead>\n",
       "<tbody>\n",
       "\t<tr><th scope=row>R1</th><td>1</td><td>4</td><td>7</td></tr>\n",
       "\t<tr><th scope=row>R2</th><td>2</td><td>5</td><td>8</td></tr>\n",
       "\t<tr><th scope=row>R3</th><td>3</td><td>6</td><td>9</td></tr>\n",
       "</tbody>\n",
       "</table>\n"
      ],
      "text/latex": [
       "\\begin{tabular}{r|lll}\n",
       "  & C1 & C2 & C3\\\\\n",
       "\\hline\n",
       "\tR1 & 1 & 4 & 7\\\\\n",
       "\tR2 & 2 & 5 & 8\\\\\n",
       "\tR3 & 3 & 6 & 9\\\\\n",
       "\\end{tabular}\n"
      ],
      "text/markdown": [
       "\n",
       "| <!--/--> | C1 | C2 | C3 | \n",
       "|---|---|---|\n",
       "| R1 | 1 | 4 | 7 | \n",
       "| R2 | 2 | 5 | 8 | \n",
       "| R3 | 3 | 6 | 9 | \n",
       "\n",
       "\n"
      ],
      "text/plain": [
       "   C1 C2 C3\n",
       "R1 1  4  7 \n",
       "R2 2  5  8 \n",
       "R3 3  6  9 "
      ]
     },
     "metadata": {},
     "output_type": "display_data"
    }
   ],
   "source": [
    "x[,]"
   ]
  },
  {
   "cell_type": "code",
   "execution_count": 77,
   "metadata": {},
   "outputs": [
    {
     "data": {
      "text/html": [
       "<table>\n",
       "<thead><tr><th></th><th scope=col>C1</th><th scope=col>C2</th><th scope=col>C3</th></tr></thead>\n",
       "<tbody>\n",
       "\t<tr><th scope=row>R2</th><td>2</td><td>5</td><td>8</td></tr>\n",
       "\t<tr><th scope=row>R3</th><td>3</td><td>6</td><td>9</td></tr>\n",
       "</tbody>\n",
       "</table>\n"
      ],
      "text/latex": [
       "\\begin{tabular}{r|lll}\n",
       "  & C1 & C2 & C3\\\\\n",
       "\\hline\n",
       "\tR2 & 2 & 5 & 8\\\\\n",
       "\tR3 & 3 & 6 & 9\\\\\n",
       "\\end{tabular}\n"
      ],
      "text/markdown": [
       "\n",
       "| <!--/--> | C1 | C2 | C3 | \n",
       "|---|---|\n",
       "| R2 | 2 | 5 | 8 | \n",
       "| R3 | 3 | 6 | 9 | \n",
       "\n",
       "\n"
      ],
      "text/plain": [
       "   C1 C2 C3\n",
       "R2 2  5  8 \n",
       "R3 3  6  9 "
      ]
     },
     "metadata": {},
     "output_type": "display_data"
    }
   ],
   "source": [
    "x[-1,]"
   ]
  },
  {
   "cell_type": "code",
   "execution_count": 78,
   "metadata": {},
   "outputs": [
    {
     "data": {
      "text/html": [
       "<table>\n",
       "<thead><tr><th></th><th scope=col>C1</th><th scope=col>C2</th></tr></thead>\n",
       "<tbody>\n",
       "\t<tr><th scope=row>R1</th><td>1</td><td>4</td></tr>\n",
       "\t<tr><th scope=row>R3</th><td>3</td><td>6</td></tr>\n",
       "</tbody>\n",
       "</table>\n"
      ],
      "text/latex": [
       "\\begin{tabular}{r|ll}\n",
       "  & C1 & C2\\\\\n",
       "\\hline\n",
       "\tR1 & 1 & 4\\\\\n",
       "\tR3 & 3 & 6\\\\\n",
       "\\end{tabular}\n"
      ],
      "text/markdown": [
       "\n",
       "| <!--/--> | C1 | C2 | \n",
       "|---|---|\n",
       "| R1 | 1 | 4 | \n",
       "| R3 | 3 | 6 | \n",
       "\n",
       "\n"
      ],
      "text/plain": [
       "   C1 C2\n",
       "R1 1  4 \n",
       "R3 3  6 "
      ]
     },
     "metadata": {},
     "output_type": "display_data"
    }
   ],
   "source": [
    "x[c(TRUE,FALSE,TRUE),c(TRUE,TRUE,FALSE)]"
   ]
  },
  {
   "cell_type": "code",
   "execution_count": 79,
   "metadata": {},
   "outputs": [
    {
     "data": {
      "text/html": [
       "<table>\n",
       "<thead><tr><th></th><th scope=col>C2</th><th scope=col>C3</th></tr></thead>\n",
       "<tbody>\n",
       "\t<tr><th scope=row>R1</th><td>4</td><td>7</td></tr>\n",
       "\t<tr><th scope=row>R3</th><td>6</td><td>9</td></tr>\n",
       "</tbody>\n",
       "</table>\n"
      ],
      "text/latex": [
       "\\begin{tabular}{r|ll}\n",
       "  & C2 & C3\\\\\n",
       "\\hline\n",
       "\tR1 & 4 & 7\\\\\n",
       "\tR3 & 6 & 9\\\\\n",
       "\\end{tabular}\n"
      ],
      "text/markdown": [
       "\n",
       "| <!--/--> | C2 | C3 | \n",
       "|---|---|\n",
       "| R1 | 4 | 7 | \n",
       "| R3 | 6 | 9 | \n",
       "\n",
       "\n"
      ],
      "text/plain": [
       "   C2 C3\n",
       "R1 4  7 \n",
       "R3 6  9 "
      ]
     },
     "metadata": {},
     "output_type": "display_data"
    }
   ],
   "source": [
    "x[c(TRUE,FALSE),c(2,3)] "
   ]
  },
  {
   "cell_type": "code",
   "execution_count": 80,
   "metadata": {},
   "outputs": [
    {
     "data": {
      "text/html": [
       "<ol class=list-inline>\n",
       "\t<li>1</li>\n",
       "\t<li>3</li>\n",
       "\t<li>5</li>\n",
       "\t<li>7</li>\n",
       "\t<li>9</li>\n",
       "</ol>\n"
      ],
      "text/latex": [
       "\\begin{enumerate*}\n",
       "\\item 1\n",
       "\\item 3\n",
       "\\item 5\n",
       "\\item 7\n",
       "\\item 9\n",
       "\\end{enumerate*}\n"
      ],
      "text/markdown": [
       "1. 1\n",
       "2. 3\n",
       "3. 5\n",
       "4. 7\n",
       "5. 9\n",
       "\n",
       "\n"
      ],
      "text/plain": [
       "[1] 1 3 5 7 9"
      ]
     },
     "metadata": {},
     "output_type": "display_data"
    }
   ],
   "source": [
    "x[c(TRUE, FALSE)] # reciclagem"
   ]
  },
  {
   "cell_type": "markdown",
   "metadata": {},
   "source": [
    "No exemplo acima, a matrix é tratada como um vetor da forma ```(1,2,3,4,5,6,7,8,9)```."
   ]
  },
  {
   "cell_type": "code",
   "execution_count": 89,
   "metadata": {},
   "outputs": [
    {
     "data": {
      "text/html": [
       "<ol class=list-inline>\n",
       "\t<li>6</li>\n",
       "\t<li>7</li>\n",
       "\t<li>8</li>\n",
       "\t<li>9</li>\n",
       "</ol>\n"
      ],
      "text/latex": [
       "\\begin{enumerate*}\n",
       "\\item 6\n",
       "\\item 7\n",
       "\\item 8\n",
       "\\item 9\n",
       "\\end{enumerate*}\n"
      ],
      "text/markdown": [
       "1. 6\n",
       "2. 7\n",
       "3. 8\n",
       "4. 9\n",
       "\n",
       "\n"
      ],
      "text/plain": [
       "[1] 6 7 8 9"
      ]
     },
     "metadata": {},
     "output_type": "display_data"
    },
    {
     "data": {
      "text/html": [
       "<ol class=list-inline>\n",
       "\t<li>2</li>\n",
       "\t<li>4</li>\n",
       "\t<li>6</li>\n",
       "\t<li>8</li>\n",
       "</ol>\n"
      ],
      "text/latex": [
       "\\begin{enumerate*}\n",
       "\\item 2\n",
       "\\item 4\n",
       "\\item 6\n",
       "\\item 8\n",
       "\\end{enumerate*}\n"
      ],
      "text/markdown": [
       "1. 2\n",
       "2. 4\n",
       "3. 6\n",
       "4. 8\n",
       "\n",
       "\n"
      ],
      "text/plain": [
       "[1] 2 4 6 8"
      ]
     },
     "metadata": {},
     "output_type": "display_data"
    }
   ],
   "source": [
    "x[x>5]    # selecia os maiores que 5\n",
    "\n",
    "x[x%%2 == 0]    # seleciona os impares"
   ]
  },
  {
   "cell_type": "markdown",
   "metadata": {},
   "source": [
    "### Modificando a Matriz"
   ]
  },
  {
   "cell_type": "code",
   "execution_count": 82,
   "metadata": {},
   "outputs": [
    {
     "data": {
      "text/html": [
       "<table>\n",
       "<tbody>\n",
       "\t<tr><td>1</td><td>4</td><td>7</td></tr>\n",
       "\t<tr><td>2</td><td>5</td><td>8</td></tr>\n",
       "\t<tr><td>3</td><td>6</td><td>9</td></tr>\n",
       "</tbody>\n",
       "</table>\n"
      ],
      "text/latex": [
       "\\begin{tabular}{lll}\n",
       "\t 1 & 4 & 7\\\\\n",
       "\t 2 & 5 & 8\\\\\n",
       "\t 3 & 6 & 9\\\\\n",
       "\\end{tabular}\n"
      ],
      "text/markdown": [
       "\n",
       "| 1 | 4 | 7 | \n",
       "| 2 | 5 | 8 | \n",
       "| 3 | 6 | 9 | \n",
       "\n",
       "\n"
      ],
      "text/plain": [
       "     [,1] [,2] [,3]\n",
       "[1,] 1    4    7   \n",
       "[2,] 2    5    8   \n",
       "[3,] 3    6    9   "
      ]
     },
     "metadata": {},
     "output_type": "display_data"
    },
    {
     "data": {
      "text/html": [
       "<table>\n",
       "<tbody>\n",
       "\t<tr><td>1 </td><td> 4</td><td>7 </td></tr>\n",
       "\t<tr><td>2 </td><td>10</td><td>8 </td></tr>\n",
       "\t<tr><td>3 </td><td> 6</td><td>9 </td></tr>\n",
       "</tbody>\n",
       "</table>\n"
      ],
      "text/latex": [
       "\\begin{tabular}{lll}\n",
       "\t 1  &  4 & 7 \\\\\n",
       "\t 2  & 10 & 8 \\\\\n",
       "\t 3  &  6 & 9 \\\\\n",
       "\\end{tabular}\n"
      ],
      "text/markdown": [
       "\n",
       "| 1  |  4 | 7  | \n",
       "| 2  | 10 | 8  | \n",
       "| 3  |  6 | 9  | \n",
       "\n",
       "\n"
      ],
      "text/plain": [
       "     [,1] [,2] [,3]\n",
       "[1,] 1     4   7   \n",
       "[2,] 2    10   8   \n",
       "[3,] 3     6   9   "
      ]
     },
     "metadata": {},
     "output_type": "display_data"
    },
    {
     "data": {
      "text/html": [
       "<table>\n",
       "<tbody>\n",
       "\t<tr><td>0 </td><td> 0</td><td>7 </td></tr>\n",
       "\t<tr><td>0 </td><td>10</td><td>8 </td></tr>\n",
       "\t<tr><td>0 </td><td> 6</td><td>9 </td></tr>\n",
       "</tbody>\n",
       "</table>\n"
      ],
      "text/latex": [
       "\\begin{tabular}{lll}\n",
       "\t 0  &  0 & 7 \\\\\n",
       "\t 0  & 10 & 8 \\\\\n",
       "\t 0  &  6 & 9 \\\\\n",
       "\\end{tabular}\n"
      ],
      "text/markdown": [
       "\n",
       "| 0  |  0 | 7  | \n",
       "| 0  | 10 | 8  | \n",
       "| 0  |  6 | 9  | \n",
       "\n",
       "\n"
      ],
      "text/plain": [
       "     [,1] [,2] [,3]\n",
       "[1,] 0     0   7   \n",
       "[2,] 0    10   8   \n",
       "[3,] 0     6   9   "
      ]
     },
     "metadata": {},
     "output_type": "display_data"
    }
   ],
   "source": [
    "x = matrix(1:9, nrow=3); x\n",
    "\n",
    "x[2, 2] = 10; x\n",
    "\n",
    "x[x < 5] = 0; x"
   ]
  },
  {
   "cell_type": "code",
   "execution_count": 83,
   "metadata": {},
   "outputs": [
    {
     "data": {
      "text/html": [
       "<table>\n",
       "<tbody>\n",
       "\t<tr><td>0 </td><td> 0</td><td>0 </td></tr>\n",
       "\t<tr><td>0 </td><td>10</td><td>6 </td></tr>\n",
       "\t<tr><td>7 </td><td> 8</td><td>9 </td></tr>\n",
       "</tbody>\n",
       "</table>\n"
      ],
      "text/latex": [
       "\\begin{tabular}{lll}\n",
       "\t 0  &  0 & 0 \\\\\n",
       "\t 0  & 10 & 6 \\\\\n",
       "\t 7  &  8 & 9 \\\\\n",
       "\\end{tabular}\n"
      ],
      "text/markdown": [
       "\n",
       "| 0  |  0 | 0  | \n",
       "| 0  | 10 | 6  | \n",
       "| 7  |  8 | 9  | \n",
       "\n",
       "\n"
      ],
      "text/plain": [
       "     [,1] [,2] [,3]\n",
       "[1,] 0     0   0   \n",
       "[2,] 0    10   6   \n",
       "[3,] 7     8   9   "
      ]
     },
     "metadata": {},
     "output_type": "display_data"
    }
   ],
   "source": [
    "t(x)"
   ]
  },
  {
   "cell_type": "code",
   "execution_count": 84,
   "metadata": {},
   "outputs": [
    {
     "data": {
      "text/html": [
       "<table>\n",
       "<tbody>\n",
       "\t<tr><td>1 </td><td>0 </td><td> 0</td><td>7 </td></tr>\n",
       "\t<tr><td>2 </td><td>0 </td><td>10</td><td>8 </td></tr>\n",
       "\t<tr><td>3 </td><td>0 </td><td> 6</td><td>9 </td></tr>\n",
       "</tbody>\n",
       "</table>\n"
      ],
      "text/latex": [
       "\\begin{tabular}{llll}\n",
       "\t 1  & 0  &  0 & 7 \\\\\n",
       "\t 2  & 0  & 10 & 8 \\\\\n",
       "\t 3  & 0  &  6 & 9 \\\\\n",
       "\\end{tabular}\n"
      ],
      "text/markdown": [
       "\n",
       "| 1  | 0  |  0 | 7  | \n",
       "| 2  | 0  | 10 | 8  | \n",
       "| 3  | 0  |  6 | 9  | \n",
       "\n",
       "\n"
      ],
      "text/plain": [
       "     [,1] [,2] [,3] [,4]\n",
       "[1,] 1    0     0   7   \n",
       "[2,] 2    0    10   8   \n",
       "[3,] 3    0     6   9   "
      ]
     },
     "metadata": {},
     "output_type": "display_data"
    }
   ],
   "source": [
    "cbind(c(1, 2, 3), x)"
   ]
  },
  {
   "cell_type": "code",
   "execution_count": 86,
   "metadata": {},
   "outputs": [
    {
     "data": {
      "text/html": [
       "<table>\n",
       "<tbody>\n",
       "\t<tr><td>0 </td><td> 0</td><td>7 </td><td>0 </td><td> 0</td><td>7 </td></tr>\n",
       "\t<tr><td>0 </td><td>10</td><td>8 </td><td>0 </td><td>10</td><td>8 </td></tr>\n",
       "\t<tr><td>0 </td><td> 6</td><td>9 </td><td>0 </td><td> 6</td><td>9 </td></tr>\n",
       "</tbody>\n",
       "</table>\n"
      ],
      "text/latex": [
       "\\begin{tabular}{llllll}\n",
       "\t 0  &  0 & 7  & 0  &  0 & 7 \\\\\n",
       "\t 0  & 10 & 8  & 0  & 10 & 8 \\\\\n",
       "\t 0  &  6 & 9  & 0  &  6 & 9 \\\\\n",
       "\\end{tabular}\n"
      ],
      "text/markdown": [
       "\n",
       "| 0  |  0 | 7  | 0  |  0 | 7  | \n",
       "| 0  | 10 | 8  | 0  | 10 | 8  | \n",
       "| 0  |  6 | 9  | 0  |  6 | 9  | \n",
       "\n",
       "\n"
      ],
      "text/plain": [
       "     [,1] [,2] [,3] [,4] [,5] [,6]\n",
       "[1,] 0     0   7    0     0   7   \n",
       "[2,] 0    10   8    0    10   8   \n",
       "[3,] 0     6   9    0     6   9   "
      ]
     },
     "metadata": {},
     "output_type": "display_data"
    }
   ],
   "source": [
    "cbind(x, x)"
   ]
  },
  {
   "cell_type": "code",
   "execution_count": 100,
   "metadata": {},
   "outputs": [
    {
     "data": {
      "text/html": [
       "<table>\n",
       "<tbody>\n",
       "\t<tr><td>0 </td><td> 0</td><td>7 </td></tr>\n",
       "\t<tr><td>0 </td><td>10</td><td>8 </td></tr>\n",
       "</tbody>\n",
       "</table>\n"
      ],
      "text/latex": [
       "\\begin{tabular}{lll}\n",
       "\t 0  &  0 & 7 \\\\\n",
       "\t 0  & 10 & 8 \\\\\n",
       "\\end{tabular}\n"
      ],
      "text/markdown": [
       "\n",
       "| 0  |  0 | 7  | \n",
       "| 0  | 10 | 8  | \n",
       "\n",
       "\n"
      ],
      "text/plain": [
       "     [,1] [,2] [,3]\n",
       "[1,] 0     0   7   \n",
       "[2,] 0    10   8   "
      ]
     },
     "metadata": {},
     "output_type": "display_data"
    }
   ],
   "source": [
    "x = x[1:2,]; x"
   ]
  },
  {
   "cell_type": "code",
   "execution_count": 102,
   "metadata": {},
   "outputs": [
    {
     "data": {
      "text/html": [
       "<table>\n",
       "<tbody>\n",
       "\t<tr><td>1</td><td>3</td><td>5</td></tr>\n",
       "\t<tr><td>2</td><td>4</td><td>6</td></tr>\n",
       "</tbody>\n",
       "</table>\n"
      ],
      "text/latex": [
       "\\begin{tabular}{lll}\n",
       "\t 1 & 3 & 5\\\\\n",
       "\t 2 & 4 & 6\\\\\n",
       "\\end{tabular}\n"
      ],
      "text/markdown": [
       "\n",
       "| 1 | 3 | 5 | \n",
       "| 2 | 4 | 6 | \n",
       "\n",
       "\n"
      ],
      "text/plain": [
       "     [,1] [,2] [,3]\n",
       "[1,] 1    3    5   \n",
       "[2,] 2    4    6   "
      ]
     },
     "metadata": {},
     "output_type": "display_data"
    }
   ],
   "source": [
    "x = matrix(1:6, nrow=2); x"
   ]
  },
  {
   "cell_type": "code",
   "execution_count": 104,
   "metadata": {},
   "outputs": [
    {
     "data": {
      "text/html": [
       "<table>\n",
       "<tbody>\n",
       "\t<tr><td>1</td><td>4</td></tr>\n",
       "\t<tr><td>2</td><td>5</td></tr>\n",
       "\t<tr><td>3</td><td>6</td></tr>\n",
       "</tbody>\n",
       "</table>\n"
      ],
      "text/latex": [
       "\\begin{tabular}{ll}\n",
       "\t 1 & 4\\\\\n",
       "\t 2 & 5\\\\\n",
       "\t 3 & 6\\\\\n",
       "\\end{tabular}\n"
      ],
      "text/markdown": [
       "\n",
       "| 1 | 4 | \n",
       "| 2 | 5 | \n",
       "| 3 | 6 | \n",
       "\n",
       "\n"
      ],
      "text/plain": [
       "     [,1] [,2]\n",
       "[1,] 1    4   \n",
       "[2,] 2    5   \n",
       "[3,] 3    6   "
      ]
     },
     "metadata": {},
     "output_type": "display_data"
    }
   ],
   "source": [
    "dim(x) = c(3, 2); x"
   ]
  },
  {
   "cell_type": "markdown",
   "metadata": {},
   "source": [
    "|  Operador ou Função |  Descrição | \n",
    "|:---: | :--- |\n",
    "| A * B | Multiplicação elemento a elemento |\n",
    "| A %*% B | Multiplicação de Matriz |\n",
    "| crossprod(A,B) | Produto vetorial |\n",
    "| t(A) | Trasposta |\n",
    "| diag(A) | Cria uma matriz diagonal a partir da diagonal de A |\n",
    "| diag(k) | Se k é um escalar, cria uma matriz identidade kxk |\n",
    "| solve(A, b) | retorna o vetor x que satisfaz b = Ax |\n",
    "| ginv(A)  | Matriz inversa, precisa do pacote MASS |\n",
    "| rowMeans(A)  | Retorna vetor com as médias das linhas |\n",
    "| rowSum(A)  | Retorna vetor com as somas das linhas |\n",
    "| colMeans(A)  | Retorna vetor com as médias das colunas |\n",
    "| colSum(A)  | Retorna vetor com as somas das colunas |\n",
    "\n",
    "### Exercício\n",
    "\n",
    "Muitas vezes quando estamos criando nossos modelos é preciso definir uma métrica para nós os avaliarmos e escolher o melhor dentre eles. Algumas vezes, nós mesmo temos de implementá-las, portanto, nesse exercício você vai ter de implementar uma extensão da métrica Erro Quadrático Médio, em inglês *Mean Squared Error (MSE)*, chamada *Root Mean Squared Logarithmic Error (RMSLE)*. \n",
    "\n",
    "A RMSLE é deifnida como:\n",
    "\n",
    "$\\epsilon = \\sqrt{\\frac{1}{n}\\sum_{i=1}^{n}(\\log(\\hat{y}_i) - \\log(y_i))^2}$\n",
    "\n",
    "onde:\n",
    "\n",
    "- $\\epsilon$ é o valor do erro (score)\n",
    "- $n$ é o total de exemplos no conjunto de dados testado\n",
    "- $\\hat{y}_i$ é a predição do modelo\n",
    "- $y_i$ é o valor do real do imóvel (rótulo)\n",
    "- $\\log(x)$ é a função logarítmica de $x$\n",
    "\n",
    "A RMSLE penaliza mais estimativas erradas para menos do que para mais."
   ]
  },
  {
   "cell_type": "code",
   "execution_count": 5,
   "metadata": {
    "collapsed": true
   },
   "outputs": [],
   "source": [
    "y_true = 1:1000000\n",
    "y_pred = y_true - rnorm(length(y_true), 0, 1)\n",
    "\n",
    "# seu código"
   ]
  }
 ],
 "metadata": {
  "kernelspec": {
   "display_name": "R",
   "language": "R",
   "name": "ir"
  },
  "language_info": {
   "codemirror_mode": "r",
   "file_extension": ".r",
   "mimetype": "text/x-r-source",
   "name": "R",
   "pygments_lexer": "r",
   "version": "3.2.3"
  }
 },
 "nbformat": 4,
 "nbformat_minor": 2
}
