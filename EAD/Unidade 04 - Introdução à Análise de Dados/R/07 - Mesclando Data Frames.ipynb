{
 "cells": [
  {
   "cell_type": "markdown",
   "metadata": {},
   "source": [
    "# Mesclando DataFrames\n",
    "\n",
    "| Método | SQL Join         \n",
    "| :- |:--------:\n",
    "| all.x | LEFT OUTER JOIN\n",
    "| all.y | RIGHT OUTER JOIN\n",
    "| all | FULL OUTER JOIN\n",
    "| default | INNER JOIN\n",
    "\n",
    "|  | \n",
    "| :- |:--------:\n",
    "| ![left join](../img/img_leftjoin.gif) | ![right join](../img/img_rightjoin.gif) | ![outer join](../img/img_fulljoin.gif) | ![inner join](../img/img_innerjoin.gif) |\n",
    "\n",
    "\\**imagem tirada de (https://www.w3schools.com/sql/sql_join.asp)*"
   ]
  },
  {
   "cell_type": "code",
   "execution_count": 1,
   "metadata": {},
   "outputs": [
    {
     "data": {
      "text/html": [
       "<table>\n",
       "<thead><tr><th scope=col>id</th><th scope=col>idade</th></tr></thead>\n",
       "<tbody>\n",
       "\t<tr><td>1 </td><td>32</td></tr>\n",
       "\t<tr><td>2 </td><td>21</td></tr>\n",
       "\t<tr><td>3 </td><td>30</td></tr>\n",
       "\t<tr><td>4 </td><td>27</td></tr>\n",
       "</tbody>\n",
       "</table>\n"
      ],
      "text/latex": [
       "\\begin{tabular}{r|ll}\n",
       " id & idade\\\\\n",
       "\\hline\n",
       "\t 1  & 32\\\\\n",
       "\t 2  & 21\\\\\n",
       "\t 3  & 30\\\\\n",
       "\t 4  & 27\\\\\n",
       "\\end{tabular}\n"
      ],
      "text/markdown": [
       "\n",
       "id | idade | \n",
       "|---|---|---|---|\n",
       "| 1  | 32 | \n",
       "| 2  | 21 | \n",
       "| 3  | 30 | \n",
       "| 4  | 27 | \n",
       "\n",
       "\n"
      ],
      "text/plain": [
       "  id idade\n",
       "1 1  32   \n",
       "2 2  21   \n",
       "3 3  30   \n",
       "4 4  27   "
      ]
     },
     "metadata": {},
     "output_type": "display_data"
    },
    {
     "data": {
      "text/html": [
       "<table>\n",
       "<thead><tr><th scope=col>id</th><th scope=col>gender</th></tr></thead>\n",
       "<tbody>\n",
       "\t<tr><td>3</td><td>M</td></tr>\n",
       "\t<tr><td>4</td><td>F</td></tr>\n",
       "\t<tr><td>5</td><td>F</td></tr>\n",
       "\t<tr><td>6</td><td>M</td></tr>\n",
       "</tbody>\n",
       "</table>\n"
      ],
      "text/latex": [
       "\\begin{tabular}{r|ll}\n",
       " id & gender\\\\\n",
       "\\hline\n",
       "\t 3 & M\\\\\n",
       "\t 4 & F\\\\\n",
       "\t 5 & F\\\\\n",
       "\t 6 & M\\\\\n",
       "\\end{tabular}\n"
      ],
      "text/markdown": [
       "\n",
       "id | gender | \n",
       "|---|---|---|---|\n",
       "| 3 | M | \n",
       "| 4 | F | \n",
       "| 5 | F | \n",
       "| 6 | M | \n",
       "\n",
       "\n"
      ],
      "text/plain": [
       "  id gender\n",
       "1 3  M     \n",
       "2 4  F     \n",
       "3 5  F     \n",
       "4 6  M     "
      ]
     },
     "metadata": {},
     "output_type": "display_data"
    }
   ],
   "source": [
    "x = data.frame(\"id\"=1:4, \"idade\"= c(32, 21, 30, 27)); x\n",
    "y = data.frame(\"id\"=3:6, \"gender\"= c(\"M\", \"F\", \"F\", \"M\")); y"
   ]
  },
  {
   "cell_type": "markdown",
   "metadata": {},
   "source": [
    "## Inner Join"
   ]
  },
  {
   "cell_type": "code",
   "execution_count": 2,
   "metadata": {},
   "outputs": [
    {
     "data": {
      "text/html": [
       "<table>\n",
       "<thead><tr><th scope=col>id</th><th scope=col>idade</th><th scope=col>gender</th></tr></thead>\n",
       "<tbody>\n",
       "\t<tr><td>3 </td><td>30</td><td>M </td></tr>\n",
       "\t<tr><td>4 </td><td>27</td><td>F </td></tr>\n",
       "</tbody>\n",
       "</table>\n"
      ],
      "text/latex": [
       "\\begin{tabular}{r|lll}\n",
       " id & idade & gender\\\\\n",
       "\\hline\n",
       "\t 3  & 30 & M \\\\\n",
       "\t 4  & 27 & F \\\\\n",
       "\\end{tabular}\n"
      ],
      "text/markdown": [
       "\n",
       "id | idade | gender | \n",
       "|---|---|\n",
       "| 3  | 30 | M  | \n",
       "| 4  | 27 | F  | \n",
       "\n",
       "\n"
      ],
      "text/plain": [
       "  id idade gender\n",
       "1 3  30    M     \n",
       "2 4  27    F     "
      ]
     },
     "metadata": {},
     "output_type": "display_data"
    }
   ],
   "source": [
    "merge(x, y, by=\"id\")"
   ]
  },
  {
   "cell_type": "markdown",
   "metadata": {},
   "source": [
    "## Left join"
   ]
  },
  {
   "cell_type": "code",
   "execution_count": 3,
   "metadata": {},
   "outputs": [
    {
     "data": {
      "text/html": [
       "<table>\n",
       "<thead><tr><th scope=col>id</th><th scope=col>idade</th><th scope=col>gender</th></tr></thead>\n",
       "<tbody>\n",
       "\t<tr><td>1 </td><td>32</td><td>NA</td></tr>\n",
       "\t<tr><td>2 </td><td>21</td><td>NA</td></tr>\n",
       "\t<tr><td>3 </td><td>30</td><td>M </td></tr>\n",
       "\t<tr><td>4 </td><td>27</td><td>F </td></tr>\n",
       "</tbody>\n",
       "</table>\n"
      ],
      "text/latex": [
       "\\begin{tabular}{r|lll}\n",
       " id & idade & gender\\\\\n",
       "\\hline\n",
       "\t 1  & 32 & NA\\\\\n",
       "\t 2  & 21 & NA\\\\\n",
       "\t 3  & 30 & M \\\\\n",
       "\t 4  & 27 & F \\\\\n",
       "\\end{tabular}\n"
      ],
      "text/markdown": [
       "\n",
       "id | idade | gender | \n",
       "|---|---|---|---|\n",
       "| 1  | 32 | NA | \n",
       "| 2  | 21 | NA | \n",
       "| 3  | 30 | M  | \n",
       "| 4  | 27 | F  | \n",
       "\n",
       "\n"
      ],
      "text/plain": [
       "  id idade gender\n",
       "1 1  32    NA    \n",
       "2 2  21    NA    \n",
       "3 3  30    M     \n",
       "4 4  27    F     "
      ]
     },
     "metadata": {},
     "output_type": "display_data"
    }
   ],
   "source": [
    "merge(x, y, by=c(\"id\"), all.x = TRUE)"
   ]
  },
  {
   "cell_type": "markdown",
   "metadata": {},
   "source": [
    "## Right Join"
   ]
  },
  {
   "cell_type": "code",
   "execution_count": 6,
   "metadata": {},
   "outputs": [
    {
     "data": {
      "text/html": [
       "<table>\n",
       "<thead><tr><th scope=col>id</th><th scope=col>idade</th><th scope=col>gender</th></tr></thead>\n",
       "<tbody>\n",
       "\t<tr><td>3 </td><td>30</td><td>M </td></tr>\n",
       "\t<tr><td>4 </td><td>27</td><td>F </td></tr>\n",
       "\t<tr><td>5 </td><td>NA</td><td>F </td></tr>\n",
       "\t<tr><td>6 </td><td>NA</td><td>M </td></tr>\n",
       "</tbody>\n",
       "</table>\n"
      ],
      "text/latex": [
       "\\begin{tabular}{r|lll}\n",
       " id & idade & gender\\\\\n",
       "\\hline\n",
       "\t 3  & 30 & M \\\\\n",
       "\t 4  & 27 & F \\\\\n",
       "\t 5  & NA & F \\\\\n",
       "\t 6  & NA & M \\\\\n",
       "\\end{tabular}\n"
      ],
      "text/markdown": [
       "\n",
       "id | idade | gender | \n",
       "|---|---|---|---|\n",
       "| 3  | 30 | M  | \n",
       "| 4  | 27 | F  | \n",
       "| 5  | NA | F  | \n",
       "| 6  | NA | M  | \n",
       "\n",
       "\n"
      ],
      "text/plain": [
       "  id idade gender\n",
       "1 3  30    M     \n",
       "2 4  27    F     \n",
       "3 5  NA    F     \n",
       "4 6  NA    M     "
      ]
     },
     "metadata": {},
     "output_type": "display_data"
    }
   ],
   "source": [
    "x = data.frame(\"id\"=1:4, \"idade\"= c(32, 21, 30, 27))\n",
    "y = data.frame(\"cod\"=3:6, \"gender\"= c(\"M\", \"F\", \"F\", \"M\"))\n",
    "merge(x, y, by.x=\"id\", by.y=\"cod\", all.y = TRUE)"
   ]
  },
  {
   "cell_type": "markdown",
   "metadata": {
    "collapsed": true
   },
   "source": [
    "### Outer join"
   ]
  },
  {
   "cell_type": "code",
   "execution_count": 7,
   "metadata": {},
   "outputs": [
    {
     "data": {
      "text/html": [
       "<table>\n",
       "<thead><tr><th scope=col>id</th><th scope=col>idade</th><th scope=col>gender</th></tr></thead>\n",
       "<tbody>\n",
       "\t<tr><td>1 </td><td>32</td><td>NA</td></tr>\n",
       "\t<tr><td>2 </td><td>21</td><td>NA</td></tr>\n",
       "\t<tr><td>3 </td><td>30</td><td>M </td></tr>\n",
       "\t<tr><td>4 </td><td>27</td><td>F </td></tr>\n",
       "\t<tr><td>5 </td><td>NA</td><td>F </td></tr>\n",
       "\t<tr><td>6 </td><td>NA</td><td>M </td></tr>\n",
       "</tbody>\n",
       "</table>\n"
      ],
      "text/latex": [
       "\\begin{tabular}{r|lll}\n",
       " id & idade & gender\\\\\n",
       "\\hline\n",
       "\t 1  & 32 & NA\\\\\n",
       "\t 2  & 21 & NA\\\\\n",
       "\t 3  & 30 & M \\\\\n",
       "\t 4  & 27 & F \\\\\n",
       "\t 5  & NA & F \\\\\n",
       "\t 6  & NA & M \\\\\n",
       "\\end{tabular}\n"
      ],
      "text/markdown": [
       "\n",
       "id | idade | gender | \n",
       "|---|---|---|---|---|---|\n",
       "| 1  | 32 | NA | \n",
       "| 2  | 21 | NA | \n",
       "| 3  | 30 | M  | \n",
       "| 4  | 27 | F  | \n",
       "| 5  | NA | F  | \n",
       "| 6  | NA | M  | \n",
       "\n",
       "\n"
      ],
      "text/plain": [
       "  id idade gender\n",
       "1 1  32    NA    \n",
       "2 2  21    NA    \n",
       "3 3  30    M     \n",
       "4 4  27    F     \n",
       "5 5  NA    F     \n",
       "6 6  NA    M     "
      ]
     },
     "metadata": {},
     "output_type": "display_data"
    }
   ],
   "source": [
    "merge(x, y, by.x=\"id\", by.y=\"cod\", all = TRUE)"
   ]
  },
  {
   "cell_type": "code",
   "execution_count": 8,
   "metadata": {
    "collapsed": true
   },
   "outputs": [],
   "source": [
    "?merge"
   ]
  }
 ],
 "metadata": {
  "kernelspec": {
   "display_name": "R",
   "language": "R",
   "name": "ir"
  },
  "language_info": {
   "codemirror_mode": "r",
   "file_extension": ".r",
   "mimetype": "text/x-r-source",
   "name": "R",
   "pygments_lexer": "r",
   "version": "3.2.3"
  }
 },
 "nbformat": 4,
 "nbformat_minor": 2
}
