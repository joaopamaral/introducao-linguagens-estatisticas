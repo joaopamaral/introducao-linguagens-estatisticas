{
 "cells": [
  {
   "cell_type": "markdown",
   "metadata": {},
   "source": [
    "# Data Frame\n",
    "\n",
    "Data frame é uma estrutura de dados bidimensional em R. É uma caso especial de uma lista que possui componentes de tamanhos iguais. Cada compontente forma uma coluna."
   ]
  },
  {
   "cell_type": "code",
   "execution_count": 3,
   "metadata": {},
   "outputs": [
    {
     "data": {
      "text/html": [
       "<table>\n",
       "<thead><tr><th scope=col>id</th><th scope=col>idade</th></tr></thead>\n",
       "<tbody>\n",
       "\t<tr><td>1 </td><td>32</td></tr>\n",
       "\t<tr><td>2 </td><td>21</td></tr>\n",
       "\t<tr><td>3 </td><td>30</td></tr>\n",
       "</tbody>\n",
       "</table>\n"
      ],
      "text/latex": [
       "\\begin{tabular}{r|ll}\n",
       " id & idade\\\\\n",
       "\\hline\n",
       "\t 1  & 32\\\\\n",
       "\t 2  & 21\\\\\n",
       "\t 3  & 30\\\\\n",
       "\\end{tabular}\n"
      ],
      "text/markdown": [
       "\n",
       "id | idade | \n",
       "|---|---|---|\n",
       "| 1  | 32 | \n",
       "| 2  | 21 | \n",
       "| 3  | 30 | \n",
       "\n",
       "\n"
      ],
      "text/plain": [
       "  id idade\n",
       "1 1  32   \n",
       "2 2  21   \n",
       "3 3  30   "
      ]
     },
     "metadata": {},
     "output_type": "display_data"
    }
   ],
   "source": [
    "x = data.frame(\"id\"=1:3, \"idade\"= c(32, 21, 30)); x"
   ]
  },
  {
   "cell_type": "code",
   "execution_count": 5,
   "metadata": {},
   "outputs": [
    {
     "data": {
      "text/html": [
       "<table>\n",
       "<thead><tr><th scope=col>id</th><th scope=col>idade</th></tr></thead>\n",
       "<tbody>\n",
       "\t<tr><td>1 </td><td>32</td></tr>\n",
       "\t<tr><td>2 </td><td>23</td></tr>\n",
       "\t<tr><td>3 </td><td>30</td></tr>\n",
       "</tbody>\n",
       "</table>\n"
      ],
      "text/latex": [
       "\\begin{tabular}{r|ll}\n",
       " id & idade\\\\\n",
       "\\hline\n",
       "\t 1  & 32\\\\\n",
       "\t 2  & 23\\\\\n",
       "\t 3  & 30\\\\\n",
       "\\end{tabular}\n"
      ],
      "text/markdown": [
       "\n",
       "id | idade | \n",
       "|---|---|---|\n",
       "| 1  | 32 | \n",
       "| 2  | 23 | \n",
       "| 3  | 30 | \n",
       "\n",
       "\n"
      ],
      "text/plain": [
       "  id idade\n",
       "1 1  32   \n",
       "2 2  23   \n",
       "3 3  30   "
      ]
     },
     "metadata": {},
     "output_type": "display_data"
    }
   ],
   "source": [
    "data.frame(\"id\"=1:3, \"idade\"= c(32, 23, 30))"
   ]
  },
  {
   "cell_type": "code",
   "execution_count": 4,
   "metadata": {},
   "outputs": [
    {
     "data": {
      "text/html": [
       "'list'"
      ],
      "text/latex": [
       "'list'"
      ],
      "text/markdown": [
       "'list'"
      ],
      "text/plain": [
       "[1] \"list\""
      ]
     },
     "metadata": {},
     "output_type": "display_data"
    }
   ],
   "source": [
    "typeof(x)"
   ]
  },
  {
   "cell_type": "code",
   "execution_count": 5,
   "metadata": {},
   "outputs": [
    {
     "data": {
      "text/html": [
       "'data.frame'"
      ],
      "text/latex": [
       "'data.frame'"
      ],
      "text/markdown": [
       "'data.frame'"
      ],
      "text/plain": [
       "[1] \"data.frame\""
      ]
     },
     "metadata": {},
     "output_type": "display_data"
    }
   ],
   "source": [
    "class(x)"
   ]
  },
  {
   "cell_type": "markdown",
   "metadata": {},
   "source": [
    "## Funções do Data Frame"
   ]
  },
  {
   "cell_type": "code",
   "execution_count": 8,
   "metadata": {},
   "outputs": [
    {
     "data": {
      "text/html": [
       "<ol class=list-inline>\n",
       "\t<li>'id'</li>\n",
       "\t<li>'idade'</li>\n",
       "</ol>\n"
      ],
      "text/latex": [
       "\\begin{enumerate*}\n",
       "\\item 'id'\n",
       "\\item 'idade'\n",
       "\\end{enumerate*}\n"
      ],
      "text/markdown": [
       "1. 'id'\n",
       "2. 'idade'\n",
       "\n",
       "\n"
      ],
      "text/plain": [
       "[1] \"id\"    \"idade\""
      ]
     },
     "metadata": {},
     "output_type": "display_data"
    }
   ],
   "source": [
    "names(x)"
   ]
  },
  {
   "cell_type": "code",
   "execution_count": 14,
   "metadata": {},
   "outputs": [
    {
     "data": {
      "text/html": [
       "2"
      ],
      "text/latex": [
       "2"
      ],
      "text/markdown": [
       "2"
      ],
      "text/plain": [
       "[1] 2"
      ]
     },
     "metadata": {},
     "output_type": "display_data"
    }
   ],
   "source": [
    "ncol(x)"
   ]
  },
  {
   "cell_type": "code",
   "execution_count": 15,
   "metadata": {},
   "outputs": [
    {
     "data": {
      "text/html": [
       "3"
      ],
      "text/latex": [
       "3"
      ],
      "text/markdown": [
       "3"
      ],
      "text/plain": [
       "[1] 3"
      ]
     },
     "metadata": {},
     "output_type": "display_data"
    }
   ],
   "source": [
    "nrow(x)"
   ]
  },
  {
   "cell_type": "code",
   "execution_count": 13,
   "metadata": {},
   "outputs": [
    {
     "data": {
      "text/html": [
       "2"
      ],
      "text/latex": [
       "2"
      ],
      "text/markdown": [
       "2"
      ],
      "text/plain": [
       "[1] 2"
      ]
     },
     "metadata": {},
     "output_type": "display_data"
    }
   ],
   "source": [
    "length(x)"
   ]
  },
  {
   "cell_type": "markdown",
   "metadata": {},
   "source": [
    "## Criando um Data Frame"
   ]
  },
  {
   "cell_type": "code",
   "execution_count": 6,
   "metadata": {},
   "outputs": [
    {
     "name": "stdout",
     "output_type": "stream",
     "text": [
      "'data.frame':\t2 obs. of  3 variables:\n",
      " $ id   : int  1 2\n",
      " $ idade: num  21 15\n",
      " $ nome : Factor w/ 2 levels \"Dória Silva\",..: 2 1\n"
     ]
    }
   ],
   "source": [
    "x = data.frame(\"id\" = 1:2, \"idade\" = c(21,15), \"nome\" = c(\"José Lima\", \"Dória Silva\")); str(x)"
   ]
  },
  {
   "cell_type": "code",
   "execution_count": 7,
   "metadata": {},
   "outputs": [
    {
     "name": "stdout",
     "output_type": "stream",
     "text": [
      "'data.frame':\t2 obs. of  3 variables:\n",
      " $ id   : int  1 2\n",
      " $ idade: num  21 15\n",
      " $ nome : chr  \"José Lima\" \"Dória Silva\"\n"
     ]
    }
   ],
   "source": [
    "x = data.frame(\"id\" = 1:2, \"idade\" = c(21,15), \"nome\" = c(\"José Lima\",\"Dória Silva\"), \n",
    "               stringsAsFactors=FALSE); str(x)"
   ]
  },
  {
   "cell_type": "markdown",
   "metadata": {},
   "source": [
    "## Lidando com valores nulos"
   ]
  },
  {
   "cell_type": "code",
   "execution_count": 8,
   "metadata": {},
   "outputs": [
    {
     "name": "stdout",
     "output_type": "stream",
     "text": [
      "'data.frame':\t3 obs. of  3 variables:\n",
      " $ id   : int  1 2 3\n",
      " $ idade: num  21 NA 22\n",
      " $ nome : Factor w/ 3 levels \"Dória Silva\",..: 2 1 3\n"
     ]
    }
   ],
   "source": [
    "#fillna\n",
    "x = data.frame(\"id\" = 1:3, \"idade\" = c(21, NA, 22), \"nome\" = c(\"José Lima\",\"Dória Silva\", \"Raphael Campos\")); str(x)#"
   ]
  },
  {
   "cell_type": "code",
   "execution_count": 14,
   "metadata": {},
   "outputs": [
    {
     "data": {
      "text/html": [
       "&lt;NA&gt;"
      ],
      "text/latex": [
       "<NA>"
      ],
      "text/markdown": [
       "&lt;NA&gt;"
      ],
      "text/plain": [
       "[1] NA"
      ]
     },
     "metadata": {},
     "output_type": "display_data"
    }
   ],
   "source": [
    "sum(x[,'idade']) / length(x[,'idade'])"
   ]
  },
  {
   "cell_type": "code",
   "execution_count": 16,
   "metadata": {},
   "outputs": [
    {
     "data": {
      "text/html": [
       "<ol class=list-inline>\n",
       "\t<li>TRUE</li>\n",
       "\t<li>FALSE</li>\n",
       "\t<li>TRUE</li>\n",
       "</ol>\n"
      ],
      "text/latex": [
       "\\begin{enumerate*}\n",
       "\\item TRUE\n",
       "\\item FALSE\n",
       "\\item TRUE\n",
       "\\end{enumerate*}\n"
      ],
      "text/markdown": [
       "1. TRUE\n",
       "2. FALSE\n",
       "3. TRUE\n",
       "\n",
       "\n"
      ],
      "text/plain": [
       "[1]  TRUE FALSE  TRUE"
      ]
     },
     "metadata": {},
     "output_type": "display_data"
    },
    {
     "data": {
      "text/html": [
       "21.5"
      ],
      "text/latex": [
       "21.5"
      ],
      "text/markdown": [
       "21.5"
      ],
      "text/plain": [
       "[1] 21.5"
      ]
     },
     "metadata": {},
     "output_type": "display_data"
    }
   ],
   "source": [
    "!is.na(x[,'idade'])\n",
    "mean(x[!is.na(x[,'idade']), 'idade'])"
   ]
  },
  {
   "cell_type": "code",
   "execution_count": 31,
   "metadata": {},
   "outputs": [
    {
     "data": {
      "text/html": [
       "21.5"
      ],
      "text/latex": [
       "21.5"
      ],
      "text/markdown": [
       "21.5"
      ],
      "text/plain": [
       "[1] 21.5"
      ]
     },
     "metadata": {},
     "output_type": "display_data"
    }
   ],
   "source": [
    "mean(x[!is.na(x[,'idade']), 'idade'])"
   ]
  },
  {
   "cell_type": "code",
   "execution_count": 17,
   "metadata": {
    "collapsed": true
   },
   "outputs": [],
   "source": [
    "x[is.na(x[,'idade']), 'idade'] = mean(x[!is.na(x[,'idade']), 'idade'])"
   ]
  },
  {
   "cell_type": "code",
   "execution_count": 18,
   "metadata": {},
   "outputs": [
    {
     "data": {
      "text/html": [
       "<table>\n",
       "<thead><tr><th scope=col>id</th><th scope=col>idade</th><th scope=col>nome</th></tr></thead>\n",
       "<tbody>\n",
       "\t<tr><td>1             </td><td>21.0          </td><td>José Lima     </td></tr>\n",
       "\t<tr><td>2             </td><td>21.5          </td><td>Dória Silva   </td></tr>\n",
       "\t<tr><td>3             </td><td>22.0          </td><td>Raphael Campos</td></tr>\n",
       "</tbody>\n",
       "</table>\n"
      ],
      "text/latex": [
       "\\begin{tabular}{r|lll}\n",
       " id & idade & nome\\\\\n",
       "\\hline\n",
       "\t 1              & 21.0           & José Lima     \\\\\n",
       "\t 2              & 21.5           & Dória Silva   \\\\\n",
       "\t 3              & 22.0           & Raphael Campos\\\\\n",
       "\\end{tabular}\n"
      ],
      "text/markdown": [
       "\n",
       "id | idade | nome | \n",
       "|---|---|---|\n",
       "| 1              | 21.0           | José Lima      | \n",
       "| 2              | 21.5           | Dória Silva    | \n",
       "| 3              | 22.0           | Raphael Campos | \n",
       "\n",
       "\n"
      ],
      "text/plain": [
       "  id idade nome          \n",
       "1 1  21.0  José Lima     \n",
       "2 2  21.5  Dória Silva   \n",
       "3 3  22.0  Raphael Campos"
      ]
     },
     "metadata": {},
     "output_type": "display_data"
    }
   ],
   "source": [
    "x"
   ]
  },
  {
   "cell_type": "markdown",
   "metadata": {},
   "source": [
    "### Lendo Data Frame de um Arquivo CSV"
   ]
  },
  {
   "cell_type": "code",
   "execution_count": 19,
   "metadata": {
    "collapsed": true
   },
   "outputs": [],
   "source": [
    "?read.csv"
   ]
  },
  {
   "cell_type": "code",
   "execution_count": 56,
   "metadata": {
    "collapsed": true
   },
   "outputs": [],
   "source": [
    "df = read.csv(\"../dados/iris-dataset.csv\", header=FALSE)"
   ]
  },
  {
   "cell_type": "code",
   "execution_count": 22,
   "metadata": {
    "scrolled": true
   },
   "outputs": [
    {
     "data": {
      "text/html": [
       "<table>\n",
       "<thead><tr><th scope=col>V1</th><th scope=col>V2</th><th scope=col>V3</th><th scope=col>V4</th><th scope=col>V5</th></tr></thead>\n",
       "<tbody>\n",
       "\t<tr><td>5.1        </td><td>3.5        </td><td>1.4        </td><td>0.2        </td><td>Iris-setosa</td></tr>\n",
       "\t<tr><td>4.9        </td><td>3.0        </td><td>1.4        </td><td>0.2        </td><td>Iris-setosa</td></tr>\n",
       "\t<tr><td>4.7        </td><td>3.2        </td><td>1.3        </td><td>0.2        </td><td>Iris-setosa</td></tr>\n",
       "\t<tr><td>4.6        </td><td>3.1        </td><td>1.5        </td><td>0.2        </td><td>Iris-setosa</td></tr>\n",
       "\t<tr><td>5.0        </td><td>3.6        </td><td>1.4        </td><td>0.2        </td><td>Iris-setosa</td></tr>\n",
       "\t<tr><td>5.4        </td><td>3.9        </td><td>1.7        </td><td>0.4        </td><td>Iris-setosa</td></tr>\n",
       "\t<tr><td>4.6        </td><td>3.4        </td><td>1.4        </td><td>0.3        </td><td>Iris-setosa</td></tr>\n",
       "\t<tr><td>5.0        </td><td>3.4        </td><td>1.5        </td><td>0.2        </td><td>Iris-setosa</td></tr>\n",
       "\t<tr><td>4.4        </td><td>2.9        </td><td>1.4        </td><td>0.2        </td><td>Iris-setosa</td></tr>\n",
       "\t<tr><td>4.9        </td><td>3.1        </td><td>1.5        </td><td>0.1        </td><td>Iris-setosa</td></tr>\n",
       "</tbody>\n",
       "</table>\n"
      ],
      "text/latex": [
       "\\begin{tabular}{r|lllll}\n",
       " V1 & V2 & V3 & V4 & V5\\\\\n",
       "\\hline\n",
       "\t 5.1         & 3.5         & 1.4         & 0.2         & Iris-setosa\\\\\n",
       "\t 4.9         & 3.0         & 1.4         & 0.2         & Iris-setosa\\\\\n",
       "\t 4.7         & 3.2         & 1.3         & 0.2         & Iris-setosa\\\\\n",
       "\t 4.6         & 3.1         & 1.5         & 0.2         & Iris-setosa\\\\\n",
       "\t 5.0         & 3.6         & 1.4         & 0.2         & Iris-setosa\\\\\n",
       "\t 5.4         & 3.9         & 1.7         & 0.4         & Iris-setosa\\\\\n",
       "\t 4.6         & 3.4         & 1.4         & 0.3         & Iris-setosa\\\\\n",
       "\t 5.0         & 3.4         & 1.5         & 0.2         & Iris-setosa\\\\\n",
       "\t 4.4         & 2.9         & 1.4         & 0.2         & Iris-setosa\\\\\n",
       "\t 4.9         & 3.1         & 1.5         & 0.1         & Iris-setosa\\\\\n",
       "\\end{tabular}\n"
      ],
      "text/markdown": [
       "\n",
       "V1 | V2 | V3 | V4 | V5 | \n",
       "|---|---|---|---|---|---|---|---|---|---|\n",
       "| 5.1         | 3.5         | 1.4         | 0.2         | Iris-setosa | \n",
       "| 4.9         | 3.0         | 1.4         | 0.2         | Iris-setosa | \n",
       "| 4.7         | 3.2         | 1.3         | 0.2         | Iris-setosa | \n",
       "| 4.6         | 3.1         | 1.5         | 0.2         | Iris-setosa | \n",
       "| 5.0         | 3.6         | 1.4         | 0.2         | Iris-setosa | \n",
       "| 5.4         | 3.9         | 1.7         | 0.4         | Iris-setosa | \n",
       "| 4.6         | 3.4         | 1.4         | 0.3         | Iris-setosa | \n",
       "| 5.0         | 3.4         | 1.5         | 0.2         | Iris-setosa | \n",
       "| 4.4         | 2.9         | 1.4         | 0.2         | Iris-setosa | \n",
       "| 4.9         | 3.1         | 1.5         | 0.1         | Iris-setosa | \n",
       "\n",
       "\n"
      ],
      "text/plain": [
       "   V1  V2  V3  V4  V5         \n",
       "1  5.1 3.5 1.4 0.2 Iris-setosa\n",
       "2  4.9 3.0 1.4 0.2 Iris-setosa\n",
       "3  4.7 3.2 1.3 0.2 Iris-setosa\n",
       "4  4.6 3.1 1.5 0.2 Iris-setosa\n",
       "5  5.0 3.6 1.4 0.2 Iris-setosa\n",
       "6  5.4 3.9 1.7 0.4 Iris-setosa\n",
       "7  4.6 3.4 1.4 0.3 Iris-setosa\n",
       "8  5.0 3.4 1.5 0.2 Iris-setosa\n",
       "9  4.4 2.9 1.4 0.2 Iris-setosa\n",
       "10 4.9 3.1 1.5 0.1 Iris-setosa"
      ]
     },
     "metadata": {},
     "output_type": "display_data"
    }
   ],
   "source": [
    "head(df, n=10)"
   ]
  },
  {
   "cell_type": "code",
   "execution_count": 23,
   "metadata": {},
   "outputs": [
    {
     "data": {
      "text/html": [
       "<table>\n",
       "<thead><tr><th></th><th scope=col>V1</th><th scope=col>V2</th><th scope=col>V3</th><th scope=col>V4</th><th scope=col>V5</th></tr></thead>\n",
       "<tbody>\n",
       "\t<tr><th scope=row>141</th><td>6.7           </td><td>3.1           </td><td>5.6           </td><td>2.4           </td><td>Iris-virginica</td></tr>\n",
       "\t<tr><th scope=row>142</th><td>6.9           </td><td>3.1           </td><td>5.1           </td><td>2.3           </td><td>Iris-virginica</td></tr>\n",
       "\t<tr><th scope=row>143</th><td>5.8           </td><td>2.7           </td><td>5.1           </td><td>1.9           </td><td>Iris-virginica</td></tr>\n",
       "\t<tr><th scope=row>144</th><td>6.8           </td><td>3.2           </td><td>5.9           </td><td>2.3           </td><td>Iris-virginica</td></tr>\n",
       "\t<tr><th scope=row>145</th><td>6.7           </td><td>3.3           </td><td>5.7           </td><td>2.5           </td><td>Iris-virginica</td></tr>\n",
       "\t<tr><th scope=row>146</th><td>6.7           </td><td>3.0           </td><td>5.2           </td><td>2.3           </td><td>Iris-virginica</td></tr>\n",
       "\t<tr><th scope=row>147</th><td>6.3           </td><td>2.5           </td><td>5.0           </td><td>1.9           </td><td>Iris-virginica</td></tr>\n",
       "\t<tr><th scope=row>148</th><td>6.5           </td><td>3.0           </td><td>5.2           </td><td>2.0           </td><td>Iris-virginica</td></tr>\n",
       "\t<tr><th scope=row>149</th><td>6.2           </td><td>3.4           </td><td>5.4           </td><td>2.3           </td><td>Iris-virginica</td></tr>\n",
       "\t<tr><th scope=row>150</th><td>5.9           </td><td>3.0           </td><td>5.1           </td><td>1.8           </td><td>Iris-virginica</td></tr>\n",
       "</tbody>\n",
       "</table>\n"
      ],
      "text/latex": [
       "\\begin{tabular}{r|lllll}\n",
       "  & V1 & V2 & V3 & V4 & V5\\\\\n",
       "\\hline\n",
       "\t141 & 6.7            & 3.1            & 5.6            & 2.4            & Iris-virginica\\\\\n",
       "\t142 & 6.9            & 3.1            & 5.1            & 2.3            & Iris-virginica\\\\\n",
       "\t143 & 5.8            & 2.7            & 5.1            & 1.9            & Iris-virginica\\\\\n",
       "\t144 & 6.8            & 3.2            & 5.9            & 2.3            & Iris-virginica\\\\\n",
       "\t145 & 6.7            & 3.3            & 5.7            & 2.5            & Iris-virginica\\\\\n",
       "\t146 & 6.7            & 3.0            & 5.2            & 2.3            & Iris-virginica\\\\\n",
       "\t147 & 6.3            & 2.5            & 5.0            & 1.9            & Iris-virginica\\\\\n",
       "\t148 & 6.5            & 3.0            & 5.2            & 2.0            & Iris-virginica\\\\\n",
       "\t149 & 6.2            & 3.4            & 5.4            & 2.3            & Iris-virginica\\\\\n",
       "\t150 & 5.9            & 3.0            & 5.1            & 1.8            & Iris-virginica\\\\\n",
       "\\end{tabular}\n"
      ],
      "text/markdown": [
       "\n",
       "| <!--/--> | V1 | V2 | V3 | V4 | V5 | \n",
       "|---|---|---|---|---|---|---|---|---|---|\n",
       "| 141 | 6.7            | 3.1            | 5.6            | 2.4            | Iris-virginica | \n",
       "| 142 | 6.9            | 3.1            | 5.1            | 2.3            | Iris-virginica | \n",
       "| 143 | 5.8            | 2.7            | 5.1            | 1.9            | Iris-virginica | \n",
       "| 144 | 6.8            | 3.2            | 5.9            | 2.3            | Iris-virginica | \n",
       "| 145 | 6.7            | 3.3            | 5.7            | 2.5            | Iris-virginica | \n",
       "| 146 | 6.7            | 3.0            | 5.2            | 2.3            | Iris-virginica | \n",
       "| 147 | 6.3            | 2.5            | 5.0            | 1.9            | Iris-virginica | \n",
       "| 148 | 6.5            | 3.0            | 5.2            | 2.0            | Iris-virginica | \n",
       "| 149 | 6.2            | 3.4            | 5.4            | 2.3            | Iris-virginica | \n",
       "| 150 | 5.9            | 3.0            | 5.1            | 1.8            | Iris-virginica | \n",
       "\n",
       "\n"
      ],
      "text/plain": [
       "    V1  V2  V3  V4  V5            \n",
       "141 6.7 3.1 5.6 2.4 Iris-virginica\n",
       "142 6.9 3.1 5.1 2.3 Iris-virginica\n",
       "143 5.8 2.7 5.1 1.9 Iris-virginica\n",
       "144 6.8 3.2 5.9 2.3 Iris-virginica\n",
       "145 6.7 3.3 5.7 2.5 Iris-virginica\n",
       "146 6.7 3.0 5.2 2.3 Iris-virginica\n",
       "147 6.3 2.5 5.0 1.9 Iris-virginica\n",
       "148 6.5 3.0 5.2 2.0 Iris-virginica\n",
       "149 6.2 3.4 5.4 2.3 Iris-virginica\n",
       "150 5.9 3.0 5.1 1.8 Iris-virginica"
      ]
     },
     "metadata": {},
     "output_type": "display_data"
    }
   ],
   "source": [
    "tail(df, n=10)"
   ]
  },
  {
   "cell_type": "code",
   "execution_count": 24,
   "metadata": {},
   "outputs": [
    {
     "data": {
      "text/plain": [
       "       V1              V2              V3              V4       \n",
       " Min.   :4.300   Min.   :2.000   Min.   :1.000   Min.   :0.100  \n",
       " 1st Qu.:5.100   1st Qu.:2.800   1st Qu.:1.600   1st Qu.:0.300  \n",
       " Median :5.800   Median :3.000   Median :4.350   Median :1.300  \n",
       " Mean   :5.843   Mean   :3.054   Mean   :3.759   Mean   :1.199  \n",
       " 3rd Qu.:6.400   3rd Qu.:3.300   3rd Qu.:5.100   3rd Qu.:1.800  \n",
       " Max.   :7.900   Max.   :4.400   Max.   :6.900   Max.   :2.500  \n",
       "               V5    \n",
       " Iris-setosa    :50  \n",
       " Iris-versicolor:50  \n",
       " Iris-virginica :50  \n",
       "                     \n",
       "                     \n",
       "                     "
      ]
     },
     "metadata": {},
     "output_type": "display_data"
    }
   ],
   "source": [
    "# python era df.describe()\n",
    "summary(df)"
   ]
  },
  {
   "cell_type": "markdown",
   "metadata": {},
   "source": [
    "### Alterando o nome das colunas"
   ]
  },
  {
   "cell_type": "code",
   "execution_count": 57,
   "metadata": {},
   "outputs": [
    {
     "data": {
      "text/html": [
       "<table>\n",
       "<thead><tr><th scope=col>sepal_length</th><th scope=col>sepal_width</th><th scope=col>petal_length</th><th scope=col>petal_width</th><th scope=col>species</th></tr></thead>\n",
       "<tbody>\n",
       "\t<tr><td>5.1        </td><td>3.5        </td><td>1.4        </td><td>0.2        </td><td>Iris-setosa</td></tr>\n",
       "\t<tr><td>4.9        </td><td>3.0        </td><td>1.4        </td><td>0.2        </td><td>Iris-setosa</td></tr>\n",
       "\t<tr><td>4.7        </td><td>3.2        </td><td>1.3        </td><td>0.2        </td><td>Iris-setosa</td></tr>\n",
       "\t<tr><td>4.6        </td><td>3.1        </td><td>1.5        </td><td>0.2        </td><td>Iris-setosa</td></tr>\n",
       "\t<tr><td>5.0        </td><td>3.6        </td><td>1.4        </td><td>0.2        </td><td>Iris-setosa</td></tr>\n",
       "\t<tr><td>5.4        </td><td>3.9        </td><td>1.7        </td><td>0.4        </td><td>Iris-setosa</td></tr>\n",
       "</tbody>\n",
       "</table>\n"
      ],
      "text/latex": [
       "\\begin{tabular}{r|lllll}\n",
       " sepal\\_length & sepal\\_width & petal\\_length & petal\\_width & species\\\\\n",
       "\\hline\n",
       "\t 5.1         & 3.5         & 1.4         & 0.2         & Iris-setosa\\\\\n",
       "\t 4.9         & 3.0         & 1.4         & 0.2         & Iris-setosa\\\\\n",
       "\t 4.7         & 3.2         & 1.3         & 0.2         & Iris-setosa\\\\\n",
       "\t 4.6         & 3.1         & 1.5         & 0.2         & Iris-setosa\\\\\n",
       "\t 5.0         & 3.6         & 1.4         & 0.2         & Iris-setosa\\\\\n",
       "\t 5.4         & 3.9         & 1.7         & 0.4         & Iris-setosa\\\\\n",
       "\\end{tabular}\n"
      ],
      "text/markdown": [
       "\n",
       "sepal_length | sepal_width | petal_length | petal_width | species | \n",
       "|---|---|---|---|---|---|\n",
       "| 5.1         | 3.5         | 1.4         | 0.2         | Iris-setosa | \n",
       "| 4.9         | 3.0         | 1.4         | 0.2         | Iris-setosa | \n",
       "| 4.7         | 3.2         | 1.3         | 0.2         | Iris-setosa | \n",
       "| 4.6         | 3.1         | 1.5         | 0.2         | Iris-setosa | \n",
       "| 5.0         | 3.6         | 1.4         | 0.2         | Iris-setosa | \n",
       "| 5.4         | 3.9         | 1.7         | 0.4         | Iris-setosa | \n",
       "\n",
       "\n"
      ],
      "text/plain": [
       "  sepal_length sepal_width petal_length petal_width species    \n",
       "1 5.1          3.5         1.4          0.2         Iris-setosa\n",
       "2 4.9          3.0         1.4          0.2         Iris-setosa\n",
       "3 4.7          3.2         1.3          0.2         Iris-setosa\n",
       "4 4.6          3.1         1.5          0.2         Iris-setosa\n",
       "5 5.0          3.6         1.4          0.2         Iris-setosa\n",
       "6 5.4          3.9         1.7          0.4         Iris-setosa"
      ]
     },
     "metadata": {},
     "output_type": "display_data"
    }
   ],
   "source": [
    "colnames(df) = c(\"sepal_length\", \"sepal_width\", \"petal_length\", \"petal_width\", \"species\")\n",
    "head(df)"
   ]
  },
  {
   "cell_type": "markdown",
   "metadata": {},
   "source": [
    "### Indexação\n",
    "\n",
    "#### Acessando como uma lista"
   ]
  },
  {
   "cell_type": "code",
   "execution_count": 28,
   "metadata": {},
   "outputs": [
    {
     "data": {
      "text/html": [
       "<table>\n",
       "<thead><tr><th scope=col>sepal_length</th></tr></thead>\n",
       "<tbody>\n",
       "\t<tr><td>5.1</td></tr>\n",
       "\t<tr><td>4.9</td></tr>\n",
       "\t<tr><td>4.7</td></tr>\n",
       "\t<tr><td>4.6</td></tr>\n",
       "\t<tr><td>5.0</td></tr>\n",
       "\t<tr><td>5.4</td></tr>\n",
       "</tbody>\n",
       "</table>\n"
      ],
      "text/latex": [
       "\\begin{tabular}{r|l}\n",
       " sepal\\_length\\\\\n",
       "\\hline\n",
       "\t 5.1\\\\\n",
       "\t 4.9\\\\\n",
       "\t 4.7\\\\\n",
       "\t 4.6\\\\\n",
       "\t 5.0\\\\\n",
       "\t 5.4\\\\\n",
       "\\end{tabular}\n"
      ],
      "text/markdown": [
       "\n",
       "sepal_length | \n",
       "|---|---|---|---|---|---|\n",
       "| 5.1 | \n",
       "| 4.9 | \n",
       "| 4.7 | \n",
       "| 4.6 | \n",
       "| 5.0 | \n",
       "| 5.4 | \n",
       "\n",
       "\n"
      ],
      "text/plain": [
       "  sepal_length\n",
       "1 5.1         \n",
       "2 4.9         \n",
       "3 4.7         \n",
       "4 4.6         \n",
       "5 5.0         \n",
       "6 5.4         "
      ]
     },
     "metadata": {},
     "output_type": "display_data"
    },
    {
     "data": {
      "text/html": [
       "'list'"
      ],
      "text/latex": [
       "'list'"
      ],
      "text/markdown": [
       "'list'"
      ],
      "text/plain": [
       "[1] \"list\""
      ]
     },
     "metadata": {},
     "output_type": "display_data"
    },
    {
     "data": {
      "text/html": [
       "'data.frame'"
      ],
      "text/latex": [
       "'data.frame'"
      ],
      "text/markdown": [
       "'data.frame'"
      ],
      "text/plain": [
       "[1] \"data.frame\""
      ]
     },
     "metadata": {},
     "output_type": "display_data"
    }
   ],
   "source": [
    "head(df[\"sepal_length\"])\n",
    "typeof(df[\"sepal_length\"])\n",
    "class(df[\"sepal_length\"])"
   ]
  },
  {
   "cell_type": "code",
   "execution_count": 35,
   "metadata": {},
   "outputs": [
    {
     "data": {
      "text/html": [
       "'double'"
      ],
      "text/latex": [
       "'double'"
      ],
      "text/markdown": [
       "'double'"
      ],
      "text/plain": [
       "[1] \"double\""
      ]
     },
     "metadata": {},
     "output_type": "display_data"
    },
    {
     "data": {
      "text/html": [
       "<ol class=list-inline>\n",
       "\t<li>5.1</li>\n",
       "\t<li>4.9</li>\n",
       "\t<li>4.7</li>\n",
       "\t<li>4.6</li>\n",
       "</ol>\n"
      ],
      "text/latex": [
       "\\begin{enumerate*}\n",
       "\\item 5.1\n",
       "\\item 4.9\n",
       "\\item 4.7\n",
       "\\item 4.6\n",
       "\\end{enumerate*}\n"
      ],
      "text/markdown": [
       "1. 5.1\n",
       "2. 4.9\n",
       "3. 4.7\n",
       "4. 4.6\n",
       "\n",
       "\n"
      ],
      "text/plain": [
       "[1] 5.1 4.9 4.7 4.6"
      ]
     },
     "metadata": {},
     "output_type": "display_data"
    }
   ],
   "source": [
    "typeof(df[['sepal_length']])\n",
    "df[['sepal_length']][1:4]"
   ]
  },
  {
   "cell_type": "code",
   "execution_count": 36,
   "metadata": {},
   "outputs": [
    {
     "data": {
      "text/html": [
       "<ol class=list-inline>\n",
       "\t<li>5.1</li>\n",
       "\t<li>4.9</li>\n",
       "\t<li>4.7</li>\n",
       "\t<li>4.6</li>\n",
       "\t<li>5</li>\n",
       "\t<li>5.4</li>\n",
       "\t<li>4.6</li>\n",
       "\t<li>5</li>\n",
       "\t<li>4.4</li>\n",
       "\t<li>4.9</li>\n",
       "\t<li>5.4</li>\n",
       "\t<li>4.8</li>\n",
       "\t<li>4.8</li>\n",
       "\t<li>4.3</li>\n",
       "\t<li>5.8</li>\n",
       "\t<li>5.7</li>\n",
       "\t<li>5.4</li>\n",
       "\t<li>5.1</li>\n",
       "\t<li>5.7</li>\n",
       "\t<li>5.1</li>\n",
       "\t<li>5.4</li>\n",
       "\t<li>5.1</li>\n",
       "\t<li>4.6</li>\n",
       "\t<li>5.1</li>\n",
       "\t<li>4.8</li>\n",
       "\t<li>5</li>\n",
       "\t<li>5</li>\n",
       "\t<li>5.2</li>\n",
       "\t<li>5.2</li>\n",
       "\t<li>4.7</li>\n",
       "\t<li>4.8</li>\n",
       "\t<li>5.4</li>\n",
       "\t<li>5.2</li>\n",
       "\t<li>5.5</li>\n",
       "\t<li>4.9</li>\n",
       "\t<li>5</li>\n",
       "\t<li>5.5</li>\n",
       "\t<li>4.9</li>\n",
       "\t<li>4.4</li>\n",
       "\t<li>5.1</li>\n",
       "\t<li>5</li>\n",
       "\t<li>4.5</li>\n",
       "\t<li>4.4</li>\n",
       "\t<li>5</li>\n",
       "\t<li>5.1</li>\n",
       "\t<li>4.8</li>\n",
       "\t<li>5.1</li>\n",
       "\t<li>4.6</li>\n",
       "\t<li>5.3</li>\n",
       "\t<li>5</li>\n",
       "\t<li>7</li>\n",
       "\t<li>6.4</li>\n",
       "\t<li>6.9</li>\n",
       "\t<li>5.5</li>\n",
       "\t<li>6.5</li>\n",
       "\t<li>5.7</li>\n",
       "\t<li>6.3</li>\n",
       "\t<li>4.9</li>\n",
       "\t<li>6.6</li>\n",
       "\t<li>5.2</li>\n",
       "\t<li>5</li>\n",
       "\t<li>5.9</li>\n",
       "\t<li>6</li>\n",
       "\t<li>6.1</li>\n",
       "\t<li>5.6</li>\n",
       "\t<li>6.7</li>\n",
       "\t<li>5.6</li>\n",
       "\t<li>5.8</li>\n",
       "\t<li>6.2</li>\n",
       "\t<li>5.6</li>\n",
       "\t<li>5.9</li>\n",
       "\t<li>6.1</li>\n",
       "\t<li>6.3</li>\n",
       "\t<li>6.1</li>\n",
       "\t<li>6.4</li>\n",
       "\t<li>6.6</li>\n",
       "\t<li>6.8</li>\n",
       "\t<li>6.7</li>\n",
       "\t<li>6</li>\n",
       "\t<li>5.7</li>\n",
       "\t<li>5.5</li>\n",
       "\t<li>5.5</li>\n",
       "\t<li>5.8</li>\n",
       "\t<li>6</li>\n",
       "\t<li>5.4</li>\n",
       "\t<li>6</li>\n",
       "\t<li>6.7</li>\n",
       "\t<li>6.3</li>\n",
       "\t<li>5.6</li>\n",
       "\t<li>5.5</li>\n",
       "\t<li>5.5</li>\n",
       "\t<li>6.1</li>\n",
       "\t<li>5.8</li>\n",
       "\t<li>5</li>\n",
       "\t<li>5.6</li>\n",
       "\t<li>5.7</li>\n",
       "\t<li>5.7</li>\n",
       "\t<li>6.2</li>\n",
       "\t<li>5.1</li>\n",
       "\t<li>5.7</li>\n",
       "\t<li>6.3</li>\n",
       "\t<li>5.8</li>\n",
       "\t<li>7.1</li>\n",
       "\t<li>6.3</li>\n",
       "\t<li>6.5</li>\n",
       "\t<li>7.6</li>\n",
       "\t<li>4.9</li>\n",
       "\t<li>7.3</li>\n",
       "\t<li>6.7</li>\n",
       "\t<li>7.2</li>\n",
       "\t<li>6.5</li>\n",
       "\t<li>6.4</li>\n",
       "\t<li>6.8</li>\n",
       "\t<li>5.7</li>\n",
       "\t<li>5.8</li>\n",
       "\t<li>6.4</li>\n",
       "\t<li>6.5</li>\n",
       "\t<li>7.7</li>\n",
       "\t<li>7.7</li>\n",
       "\t<li>6</li>\n",
       "\t<li>6.9</li>\n",
       "\t<li>5.6</li>\n",
       "\t<li>7.7</li>\n",
       "\t<li>6.3</li>\n",
       "\t<li>6.7</li>\n",
       "\t<li>7.2</li>\n",
       "\t<li>6.2</li>\n",
       "\t<li>6.1</li>\n",
       "\t<li>6.4</li>\n",
       "\t<li>7.2</li>\n",
       "\t<li>7.4</li>\n",
       "\t<li>7.9</li>\n",
       "\t<li>6.4</li>\n",
       "\t<li>6.3</li>\n",
       "\t<li>6.1</li>\n",
       "\t<li>7.7</li>\n",
       "\t<li>6.3</li>\n",
       "\t<li>6.4</li>\n",
       "\t<li>6</li>\n",
       "\t<li>6.9</li>\n",
       "\t<li>6.7</li>\n",
       "\t<li>6.9</li>\n",
       "\t<li>5.8</li>\n",
       "\t<li>6.8</li>\n",
       "\t<li>6.7</li>\n",
       "\t<li>6.7</li>\n",
       "\t<li>6.3</li>\n",
       "\t<li>6.5</li>\n",
       "\t<li>6.2</li>\n",
       "\t<li>5.9</li>\n",
       "</ol>\n"
      ],
      "text/latex": [
       "\\begin{enumerate*}\n",
       "\\item 5.1\n",
       "\\item 4.9\n",
       "\\item 4.7\n",
       "\\item 4.6\n",
       "\\item 5\n",
       "\\item 5.4\n",
       "\\item 4.6\n",
       "\\item 5\n",
       "\\item 4.4\n",
       "\\item 4.9\n",
       "\\item 5.4\n",
       "\\item 4.8\n",
       "\\item 4.8\n",
       "\\item 4.3\n",
       "\\item 5.8\n",
       "\\item 5.7\n",
       "\\item 5.4\n",
       "\\item 5.1\n",
       "\\item 5.7\n",
       "\\item 5.1\n",
       "\\item 5.4\n",
       "\\item 5.1\n",
       "\\item 4.6\n",
       "\\item 5.1\n",
       "\\item 4.8\n",
       "\\item 5\n",
       "\\item 5\n",
       "\\item 5.2\n",
       "\\item 5.2\n",
       "\\item 4.7\n",
       "\\item 4.8\n",
       "\\item 5.4\n",
       "\\item 5.2\n",
       "\\item 5.5\n",
       "\\item 4.9\n",
       "\\item 5\n",
       "\\item 5.5\n",
       "\\item 4.9\n",
       "\\item 4.4\n",
       "\\item 5.1\n",
       "\\item 5\n",
       "\\item 4.5\n",
       "\\item 4.4\n",
       "\\item 5\n",
       "\\item 5.1\n",
       "\\item 4.8\n",
       "\\item 5.1\n",
       "\\item 4.6\n",
       "\\item 5.3\n",
       "\\item 5\n",
       "\\item 7\n",
       "\\item 6.4\n",
       "\\item 6.9\n",
       "\\item 5.5\n",
       "\\item 6.5\n",
       "\\item 5.7\n",
       "\\item 6.3\n",
       "\\item 4.9\n",
       "\\item 6.6\n",
       "\\item 5.2\n",
       "\\item 5\n",
       "\\item 5.9\n",
       "\\item 6\n",
       "\\item 6.1\n",
       "\\item 5.6\n",
       "\\item 6.7\n",
       "\\item 5.6\n",
       "\\item 5.8\n",
       "\\item 6.2\n",
       "\\item 5.6\n",
       "\\item 5.9\n",
       "\\item 6.1\n",
       "\\item 6.3\n",
       "\\item 6.1\n",
       "\\item 6.4\n",
       "\\item 6.6\n",
       "\\item 6.8\n",
       "\\item 6.7\n",
       "\\item 6\n",
       "\\item 5.7\n",
       "\\item 5.5\n",
       "\\item 5.5\n",
       "\\item 5.8\n",
       "\\item 6\n",
       "\\item 5.4\n",
       "\\item 6\n",
       "\\item 6.7\n",
       "\\item 6.3\n",
       "\\item 5.6\n",
       "\\item 5.5\n",
       "\\item 5.5\n",
       "\\item 6.1\n",
       "\\item 5.8\n",
       "\\item 5\n",
       "\\item 5.6\n",
       "\\item 5.7\n",
       "\\item 5.7\n",
       "\\item 6.2\n",
       "\\item 5.1\n",
       "\\item 5.7\n",
       "\\item 6.3\n",
       "\\item 5.8\n",
       "\\item 7.1\n",
       "\\item 6.3\n",
       "\\item 6.5\n",
       "\\item 7.6\n",
       "\\item 4.9\n",
       "\\item 7.3\n",
       "\\item 6.7\n",
       "\\item 7.2\n",
       "\\item 6.5\n",
       "\\item 6.4\n",
       "\\item 6.8\n",
       "\\item 5.7\n",
       "\\item 5.8\n",
       "\\item 6.4\n",
       "\\item 6.5\n",
       "\\item 7.7\n",
       "\\item 7.7\n",
       "\\item 6\n",
       "\\item 6.9\n",
       "\\item 5.6\n",
       "\\item 7.7\n",
       "\\item 6.3\n",
       "\\item 6.7\n",
       "\\item 7.2\n",
       "\\item 6.2\n",
       "\\item 6.1\n",
       "\\item 6.4\n",
       "\\item 7.2\n",
       "\\item 7.4\n",
       "\\item 7.9\n",
       "\\item 6.4\n",
       "\\item 6.3\n",
       "\\item 6.1\n",
       "\\item 7.7\n",
       "\\item 6.3\n",
       "\\item 6.4\n",
       "\\item 6\n",
       "\\item 6.9\n",
       "\\item 6.7\n",
       "\\item 6.9\n",
       "\\item 5.8\n",
       "\\item 6.8\n",
       "\\item 6.7\n",
       "\\item 6.7\n",
       "\\item 6.3\n",
       "\\item 6.5\n",
       "\\item 6.2\n",
       "\\item 5.9\n",
       "\\end{enumerate*}\n"
      ],
      "text/markdown": [
       "1. 5.1\n",
       "2. 4.9\n",
       "3. 4.7\n",
       "4. 4.6\n",
       "5. 5\n",
       "6. 5.4\n",
       "7. 4.6\n",
       "8. 5\n",
       "9. 4.4\n",
       "10. 4.9\n",
       "11. 5.4\n",
       "12. 4.8\n",
       "13. 4.8\n",
       "14. 4.3\n",
       "15. 5.8\n",
       "16. 5.7\n",
       "17. 5.4\n",
       "18. 5.1\n",
       "19. 5.7\n",
       "20. 5.1\n",
       "21. 5.4\n",
       "22. 5.1\n",
       "23. 4.6\n",
       "24. 5.1\n",
       "25. 4.8\n",
       "26. 5\n",
       "27. 5\n",
       "28. 5.2\n",
       "29. 5.2\n",
       "30. 4.7\n",
       "31. 4.8\n",
       "32. 5.4\n",
       "33. 5.2\n",
       "34. 5.5\n",
       "35. 4.9\n",
       "36. 5\n",
       "37. 5.5\n",
       "38. 4.9\n",
       "39. 4.4\n",
       "40. 5.1\n",
       "41. 5\n",
       "42. 4.5\n",
       "43. 4.4\n",
       "44. 5\n",
       "45. 5.1\n",
       "46. 4.8\n",
       "47. 5.1\n",
       "48. 4.6\n",
       "49. 5.3\n",
       "50. 5\n",
       "51. 7\n",
       "52. 6.4\n",
       "53. 6.9\n",
       "54. 5.5\n",
       "55. 6.5\n",
       "56. 5.7\n",
       "57. 6.3\n",
       "58. 4.9\n",
       "59. 6.6\n",
       "60. 5.2\n",
       "61. 5\n",
       "62. 5.9\n",
       "63. 6\n",
       "64. 6.1\n",
       "65. 5.6\n",
       "66. 6.7\n",
       "67. 5.6\n",
       "68. 5.8\n",
       "69. 6.2\n",
       "70. 5.6\n",
       "71. 5.9\n",
       "72. 6.1\n",
       "73. 6.3\n",
       "74. 6.1\n",
       "75. 6.4\n",
       "76. 6.6\n",
       "77. 6.8\n",
       "78. 6.7\n",
       "79. 6\n",
       "80. 5.7\n",
       "81. 5.5\n",
       "82. 5.5\n",
       "83. 5.8\n",
       "84. 6\n",
       "85. 5.4\n",
       "86. 6\n",
       "87. 6.7\n",
       "88. 6.3\n",
       "89. 5.6\n",
       "90. 5.5\n",
       "91. 5.5\n",
       "92. 6.1\n",
       "93. 5.8\n",
       "94. 5\n",
       "95. 5.6\n",
       "96. 5.7\n",
       "97. 5.7\n",
       "98. 6.2\n",
       "99. 5.1\n",
       "100. 5.7\n",
       "101. 6.3\n",
       "102. 5.8\n",
       "103. 7.1\n",
       "104. 6.3\n",
       "105. 6.5\n",
       "106. 7.6\n",
       "107. 4.9\n",
       "108. 7.3\n",
       "109. 6.7\n",
       "110. 7.2\n",
       "111. 6.5\n",
       "112. 6.4\n",
       "113. 6.8\n",
       "114. 5.7\n",
       "115. 5.8\n",
       "116. 6.4\n",
       "117. 6.5\n",
       "118. 7.7\n",
       "119. 7.7\n",
       "120. 6\n",
       "121. 6.9\n",
       "122. 5.6\n",
       "123. 7.7\n",
       "124. 6.3\n",
       "125. 6.7\n",
       "126. 7.2\n",
       "127. 6.2\n",
       "128. 6.1\n",
       "129. 6.4\n",
       "130. 7.2\n",
       "131. 7.4\n",
       "132. 7.9\n",
       "133. 6.4\n",
       "134. 6.3\n",
       "135. 6.1\n",
       "136. 7.7\n",
       "137. 6.3\n",
       "138. 6.4\n",
       "139. 6\n",
       "140. 6.9\n",
       "141. 6.7\n",
       "142. 6.9\n",
       "143. 5.8\n",
       "144. 6.8\n",
       "145. 6.7\n",
       "146. 6.7\n",
       "147. 6.3\n",
       "148. 6.5\n",
       "149. 6.2\n",
       "150. 5.9\n",
       "\n",
       "\n"
      ],
      "text/plain": [
       "  [1] 5.1 4.9 4.7 4.6 5.0 5.4 4.6 5.0 4.4 4.9 5.4 4.8 4.8 4.3 5.8 5.7 5.4 5.1\n",
       " [19] 5.7 5.1 5.4 5.1 4.6 5.1 4.8 5.0 5.0 5.2 5.2 4.7 4.8 5.4 5.2 5.5 4.9 5.0\n",
       " [37] 5.5 4.9 4.4 5.1 5.0 4.5 4.4 5.0 5.1 4.8 5.1 4.6 5.3 5.0 7.0 6.4 6.9 5.5\n",
       " [55] 6.5 5.7 6.3 4.9 6.6 5.2 5.0 5.9 6.0 6.1 5.6 6.7 5.6 5.8 6.2 5.6 5.9 6.1\n",
       " [73] 6.3 6.1 6.4 6.6 6.8 6.7 6.0 5.7 5.5 5.5 5.8 6.0 5.4 6.0 6.7 6.3 5.6 5.5\n",
       " [91] 5.5 6.1 5.8 5.0 5.6 5.7 5.7 6.2 5.1 5.7 6.3 5.8 7.1 6.3 6.5 7.6 4.9 7.3\n",
       "[109] 6.7 7.2 6.5 6.4 6.8 5.7 5.8 6.4 6.5 7.7 7.7 6.0 6.9 5.6 7.7 6.3 6.7 7.2\n",
       "[127] 6.2 6.1 6.4 7.2 7.4 7.9 6.4 6.3 6.1 7.7 6.3 6.4 6.0 6.9 6.7 6.9 5.8 6.8\n",
       "[145] 6.7 6.7 6.3 6.5 6.2 5.9"
      ]
     },
     "metadata": {},
     "output_type": "display_data"
    },
    {
     "data": {
      "text/html": [
       "'double'"
      ],
      "text/latex": [
       "'double'"
      ],
      "text/markdown": [
       "'double'"
      ],
      "text/plain": [
       "[1] \"double\""
      ]
     },
     "metadata": {},
     "output_type": "display_data"
    },
    {
     "data": {
      "text/html": [
       "'numeric'"
      ],
      "text/latex": [
       "'numeric'"
      ],
      "text/markdown": [
       "'numeric'"
      ],
      "text/plain": [
       "[1] \"numeric\""
      ]
     },
     "metadata": {},
     "output_type": "display_data"
    }
   ],
   "source": [
    "df$sepal_length\n",
    "typeof(df$sepal_length)\n",
    "class(df$sepal_length)"
   ]
  },
  {
   "cell_type": "code",
   "execution_count": 24,
   "metadata": {},
   "outputs": [
    {
     "data": {
      "text/html": [
       "<ol class=list-inline>\n",
       "\t<li>5.1</li>\n",
       "\t<li>4.9</li>\n",
       "\t<li>4.7</li>\n",
       "\t<li>4.6</li>\n",
       "\t<li>5</li>\n",
       "\t<li>5.4</li>\n",
       "\t<li>4.6</li>\n",
       "\t<li>5</li>\n",
       "\t<li>4.4</li>\n",
       "\t<li>4.9</li>\n",
       "\t<li>5.4</li>\n",
       "\t<li>4.8</li>\n",
       "\t<li>4.8</li>\n",
       "\t<li>4.3</li>\n",
       "\t<li>5.8</li>\n",
       "\t<li>5.7</li>\n",
       "\t<li>5.4</li>\n",
       "\t<li>5.1</li>\n",
       "\t<li>5.7</li>\n",
       "\t<li>5.1</li>\n",
       "\t<li>5.4</li>\n",
       "\t<li>5.1</li>\n",
       "\t<li>4.6</li>\n",
       "\t<li>5.1</li>\n",
       "\t<li>4.8</li>\n",
       "\t<li>5</li>\n",
       "\t<li>5</li>\n",
       "\t<li>5.2</li>\n",
       "\t<li>5.2</li>\n",
       "\t<li>4.7</li>\n",
       "\t<li>4.8</li>\n",
       "\t<li>5.4</li>\n",
       "\t<li>5.2</li>\n",
       "\t<li>5.5</li>\n",
       "\t<li>4.9</li>\n",
       "\t<li>5</li>\n",
       "\t<li>5.5</li>\n",
       "\t<li>4.9</li>\n",
       "\t<li>4.4</li>\n",
       "\t<li>5.1</li>\n",
       "\t<li>5</li>\n",
       "\t<li>4.5</li>\n",
       "\t<li>4.4</li>\n",
       "\t<li>5</li>\n",
       "\t<li>5.1</li>\n",
       "\t<li>4.8</li>\n",
       "\t<li>5.1</li>\n",
       "\t<li>4.6</li>\n",
       "\t<li>5.3</li>\n",
       "\t<li>5</li>\n",
       "\t<li>7</li>\n",
       "\t<li>6.4</li>\n",
       "\t<li>6.9</li>\n",
       "\t<li>5.5</li>\n",
       "\t<li>6.5</li>\n",
       "\t<li>5.7</li>\n",
       "\t<li>6.3</li>\n",
       "\t<li>4.9</li>\n",
       "\t<li>6.6</li>\n",
       "\t<li>5.2</li>\n",
       "\t<li>5</li>\n",
       "\t<li>5.9</li>\n",
       "\t<li>6</li>\n",
       "\t<li>6.1</li>\n",
       "\t<li>5.6</li>\n",
       "\t<li>6.7</li>\n",
       "\t<li>5.6</li>\n",
       "\t<li>5.8</li>\n",
       "\t<li>6.2</li>\n",
       "\t<li>5.6</li>\n",
       "\t<li>5.9</li>\n",
       "\t<li>6.1</li>\n",
       "\t<li>6.3</li>\n",
       "\t<li>6.1</li>\n",
       "\t<li>6.4</li>\n",
       "\t<li>6.6</li>\n",
       "\t<li>6.8</li>\n",
       "\t<li>6.7</li>\n",
       "\t<li>6</li>\n",
       "\t<li>5.7</li>\n",
       "\t<li>5.5</li>\n",
       "\t<li>5.5</li>\n",
       "\t<li>5.8</li>\n",
       "\t<li>6</li>\n",
       "\t<li>5.4</li>\n",
       "\t<li>6</li>\n",
       "\t<li>6.7</li>\n",
       "\t<li>6.3</li>\n",
       "\t<li>5.6</li>\n",
       "\t<li>5.5</li>\n",
       "\t<li>5.5</li>\n",
       "\t<li>6.1</li>\n",
       "\t<li>5.8</li>\n",
       "\t<li>5</li>\n",
       "\t<li>5.6</li>\n",
       "\t<li>5.7</li>\n",
       "\t<li>5.7</li>\n",
       "\t<li>6.2</li>\n",
       "\t<li>5.1</li>\n",
       "\t<li>5.7</li>\n",
       "\t<li>6.3</li>\n",
       "\t<li>5.8</li>\n",
       "\t<li>7.1</li>\n",
       "\t<li>6.3</li>\n",
       "\t<li>6.5</li>\n",
       "\t<li>7.6</li>\n",
       "\t<li>4.9</li>\n",
       "\t<li>7.3</li>\n",
       "\t<li>6.7</li>\n",
       "\t<li>7.2</li>\n",
       "\t<li>6.5</li>\n",
       "\t<li>6.4</li>\n",
       "\t<li>6.8</li>\n",
       "\t<li>5.7</li>\n",
       "\t<li>5.8</li>\n",
       "\t<li>6.4</li>\n",
       "\t<li>6.5</li>\n",
       "\t<li>7.7</li>\n",
       "\t<li>7.7</li>\n",
       "\t<li>6</li>\n",
       "\t<li>6.9</li>\n",
       "\t<li>5.6</li>\n",
       "\t<li>7.7</li>\n",
       "\t<li>6.3</li>\n",
       "\t<li>6.7</li>\n",
       "\t<li>7.2</li>\n",
       "\t<li>6.2</li>\n",
       "\t<li>6.1</li>\n",
       "\t<li>6.4</li>\n",
       "\t<li>7.2</li>\n",
       "\t<li>7.4</li>\n",
       "\t<li>7.9</li>\n",
       "\t<li>6.4</li>\n",
       "\t<li>6.3</li>\n",
       "\t<li>6.1</li>\n",
       "\t<li>7.7</li>\n",
       "\t<li>6.3</li>\n",
       "\t<li>6.4</li>\n",
       "\t<li>6</li>\n",
       "\t<li>6.9</li>\n",
       "\t<li>6.7</li>\n",
       "\t<li>6.9</li>\n",
       "\t<li>5.8</li>\n",
       "\t<li>6.8</li>\n",
       "\t<li>6.7</li>\n",
       "\t<li>6.7</li>\n",
       "\t<li>6.3</li>\n",
       "\t<li>6.5</li>\n",
       "\t<li>6.2</li>\n",
       "\t<li>5.9</li>\n",
       "</ol>\n"
      ],
      "text/latex": [
       "\\begin{enumerate*}\n",
       "\\item 5.1\n",
       "\\item 4.9\n",
       "\\item 4.7\n",
       "\\item 4.6\n",
       "\\item 5\n",
       "\\item 5.4\n",
       "\\item 4.6\n",
       "\\item 5\n",
       "\\item 4.4\n",
       "\\item 4.9\n",
       "\\item 5.4\n",
       "\\item 4.8\n",
       "\\item 4.8\n",
       "\\item 4.3\n",
       "\\item 5.8\n",
       "\\item 5.7\n",
       "\\item 5.4\n",
       "\\item 5.1\n",
       "\\item 5.7\n",
       "\\item 5.1\n",
       "\\item 5.4\n",
       "\\item 5.1\n",
       "\\item 4.6\n",
       "\\item 5.1\n",
       "\\item 4.8\n",
       "\\item 5\n",
       "\\item 5\n",
       "\\item 5.2\n",
       "\\item 5.2\n",
       "\\item 4.7\n",
       "\\item 4.8\n",
       "\\item 5.4\n",
       "\\item 5.2\n",
       "\\item 5.5\n",
       "\\item 4.9\n",
       "\\item 5\n",
       "\\item 5.5\n",
       "\\item 4.9\n",
       "\\item 4.4\n",
       "\\item 5.1\n",
       "\\item 5\n",
       "\\item 4.5\n",
       "\\item 4.4\n",
       "\\item 5\n",
       "\\item 5.1\n",
       "\\item 4.8\n",
       "\\item 5.1\n",
       "\\item 4.6\n",
       "\\item 5.3\n",
       "\\item 5\n",
       "\\item 7\n",
       "\\item 6.4\n",
       "\\item 6.9\n",
       "\\item 5.5\n",
       "\\item 6.5\n",
       "\\item 5.7\n",
       "\\item 6.3\n",
       "\\item 4.9\n",
       "\\item 6.6\n",
       "\\item 5.2\n",
       "\\item 5\n",
       "\\item 5.9\n",
       "\\item 6\n",
       "\\item 6.1\n",
       "\\item 5.6\n",
       "\\item 6.7\n",
       "\\item 5.6\n",
       "\\item 5.8\n",
       "\\item 6.2\n",
       "\\item 5.6\n",
       "\\item 5.9\n",
       "\\item 6.1\n",
       "\\item 6.3\n",
       "\\item 6.1\n",
       "\\item 6.4\n",
       "\\item 6.6\n",
       "\\item 6.8\n",
       "\\item 6.7\n",
       "\\item 6\n",
       "\\item 5.7\n",
       "\\item 5.5\n",
       "\\item 5.5\n",
       "\\item 5.8\n",
       "\\item 6\n",
       "\\item 5.4\n",
       "\\item 6\n",
       "\\item 6.7\n",
       "\\item 6.3\n",
       "\\item 5.6\n",
       "\\item 5.5\n",
       "\\item 5.5\n",
       "\\item 6.1\n",
       "\\item 5.8\n",
       "\\item 5\n",
       "\\item 5.6\n",
       "\\item 5.7\n",
       "\\item 5.7\n",
       "\\item 6.2\n",
       "\\item 5.1\n",
       "\\item 5.7\n",
       "\\item 6.3\n",
       "\\item 5.8\n",
       "\\item 7.1\n",
       "\\item 6.3\n",
       "\\item 6.5\n",
       "\\item 7.6\n",
       "\\item 4.9\n",
       "\\item 7.3\n",
       "\\item 6.7\n",
       "\\item 7.2\n",
       "\\item 6.5\n",
       "\\item 6.4\n",
       "\\item 6.8\n",
       "\\item 5.7\n",
       "\\item 5.8\n",
       "\\item 6.4\n",
       "\\item 6.5\n",
       "\\item 7.7\n",
       "\\item 7.7\n",
       "\\item 6\n",
       "\\item 6.9\n",
       "\\item 5.6\n",
       "\\item 7.7\n",
       "\\item 6.3\n",
       "\\item 6.7\n",
       "\\item 7.2\n",
       "\\item 6.2\n",
       "\\item 6.1\n",
       "\\item 6.4\n",
       "\\item 7.2\n",
       "\\item 7.4\n",
       "\\item 7.9\n",
       "\\item 6.4\n",
       "\\item 6.3\n",
       "\\item 6.1\n",
       "\\item 7.7\n",
       "\\item 6.3\n",
       "\\item 6.4\n",
       "\\item 6\n",
       "\\item 6.9\n",
       "\\item 6.7\n",
       "\\item 6.9\n",
       "\\item 5.8\n",
       "\\item 6.8\n",
       "\\item 6.7\n",
       "\\item 6.7\n",
       "\\item 6.3\n",
       "\\item 6.5\n",
       "\\item 6.2\n",
       "\\item 5.9\n",
       "\\end{enumerate*}\n"
      ],
      "text/markdown": [
       "1. 5.1\n",
       "2. 4.9\n",
       "3. 4.7\n",
       "4. 4.6\n",
       "5. 5\n",
       "6. 5.4\n",
       "7. 4.6\n",
       "8. 5\n",
       "9. 4.4\n",
       "10. 4.9\n",
       "11. 5.4\n",
       "12. 4.8\n",
       "13. 4.8\n",
       "14. 4.3\n",
       "15. 5.8\n",
       "16. 5.7\n",
       "17. 5.4\n",
       "18. 5.1\n",
       "19. 5.7\n",
       "20. 5.1\n",
       "21. 5.4\n",
       "22. 5.1\n",
       "23. 4.6\n",
       "24. 5.1\n",
       "25. 4.8\n",
       "26. 5\n",
       "27. 5\n",
       "28. 5.2\n",
       "29. 5.2\n",
       "30. 4.7\n",
       "31. 4.8\n",
       "32. 5.4\n",
       "33. 5.2\n",
       "34. 5.5\n",
       "35. 4.9\n",
       "36. 5\n",
       "37. 5.5\n",
       "38. 4.9\n",
       "39. 4.4\n",
       "40. 5.1\n",
       "41. 5\n",
       "42. 4.5\n",
       "43. 4.4\n",
       "44. 5\n",
       "45. 5.1\n",
       "46. 4.8\n",
       "47. 5.1\n",
       "48. 4.6\n",
       "49. 5.3\n",
       "50. 5\n",
       "51. 7\n",
       "52. 6.4\n",
       "53. 6.9\n",
       "54. 5.5\n",
       "55. 6.5\n",
       "56. 5.7\n",
       "57. 6.3\n",
       "58. 4.9\n",
       "59. 6.6\n",
       "60. 5.2\n",
       "61. 5\n",
       "62. 5.9\n",
       "63. 6\n",
       "64. 6.1\n",
       "65. 5.6\n",
       "66. 6.7\n",
       "67. 5.6\n",
       "68. 5.8\n",
       "69. 6.2\n",
       "70. 5.6\n",
       "71. 5.9\n",
       "72. 6.1\n",
       "73. 6.3\n",
       "74. 6.1\n",
       "75. 6.4\n",
       "76. 6.6\n",
       "77. 6.8\n",
       "78. 6.7\n",
       "79. 6\n",
       "80. 5.7\n",
       "81. 5.5\n",
       "82. 5.5\n",
       "83. 5.8\n",
       "84. 6\n",
       "85. 5.4\n",
       "86. 6\n",
       "87. 6.7\n",
       "88. 6.3\n",
       "89. 5.6\n",
       "90. 5.5\n",
       "91. 5.5\n",
       "92. 6.1\n",
       "93. 5.8\n",
       "94. 5\n",
       "95. 5.6\n",
       "96. 5.7\n",
       "97. 5.7\n",
       "98. 6.2\n",
       "99. 5.1\n",
       "100. 5.7\n",
       "101. 6.3\n",
       "102. 5.8\n",
       "103. 7.1\n",
       "104. 6.3\n",
       "105. 6.5\n",
       "106. 7.6\n",
       "107. 4.9\n",
       "108. 7.3\n",
       "109. 6.7\n",
       "110. 7.2\n",
       "111. 6.5\n",
       "112. 6.4\n",
       "113. 6.8\n",
       "114. 5.7\n",
       "115. 5.8\n",
       "116. 6.4\n",
       "117. 6.5\n",
       "118. 7.7\n",
       "119. 7.7\n",
       "120. 6\n",
       "121. 6.9\n",
       "122. 5.6\n",
       "123. 7.7\n",
       "124. 6.3\n",
       "125. 6.7\n",
       "126. 7.2\n",
       "127. 6.2\n",
       "128. 6.1\n",
       "129. 6.4\n",
       "130. 7.2\n",
       "131. 7.4\n",
       "132. 7.9\n",
       "133. 6.4\n",
       "134. 6.3\n",
       "135. 6.1\n",
       "136. 7.7\n",
       "137. 6.3\n",
       "138. 6.4\n",
       "139. 6\n",
       "140. 6.9\n",
       "141. 6.7\n",
       "142. 6.9\n",
       "143. 5.8\n",
       "144. 6.8\n",
       "145. 6.7\n",
       "146. 6.7\n",
       "147. 6.3\n",
       "148. 6.5\n",
       "149. 6.2\n",
       "150. 5.9\n",
       "\n",
       "\n"
      ],
      "text/plain": [
       "  [1] 5.1 4.9 4.7 4.6 5.0 5.4 4.6 5.0 4.4 4.9 5.4 4.8 4.8 4.3 5.8 5.7 5.4 5.1\n",
       " [19] 5.7 5.1 5.4 5.1 4.6 5.1 4.8 5.0 5.0 5.2 5.2 4.7 4.8 5.4 5.2 5.5 4.9 5.0\n",
       " [37] 5.5 4.9 4.4 5.1 5.0 4.5 4.4 5.0 5.1 4.8 5.1 4.6 5.3 5.0 7.0 6.4 6.9 5.5\n",
       " [55] 6.5 5.7 6.3 4.9 6.6 5.2 5.0 5.9 6.0 6.1 5.6 6.7 5.6 5.8 6.2 5.6 5.9 6.1\n",
       " [73] 6.3 6.1 6.4 6.6 6.8 6.7 6.0 5.7 5.5 5.5 5.8 6.0 5.4 6.0 6.7 6.3 5.6 5.5\n",
       " [91] 5.5 6.1 5.8 5.0 5.6 5.7 5.7 6.2 5.1 5.7 6.3 5.8 7.1 6.3 6.5 7.6 4.9 7.3\n",
       "[109] 6.7 7.2 6.5 6.4 6.8 5.7 5.8 6.4 6.5 7.7 7.7 6.0 6.9 5.6 7.7 6.3 6.7 7.2\n",
       "[127] 6.2 6.1 6.4 7.2 7.4 7.9 6.4 6.3 6.1 7.7 6.3 6.4 6.0 6.9 6.7 6.9 5.8 6.8\n",
       "[145] 6.7 6.7 6.3 6.5 6.2 5.9"
      ]
     },
     "metadata": {},
     "output_type": "display_data"
    },
    {
     "data": {
      "text/html": [
       "'double'"
      ],
      "text/latex": [
       "'double'"
      ],
      "text/markdown": [
       "'double'"
      ],
      "text/plain": [
       "[1] \"double\""
      ]
     },
     "metadata": {},
     "output_type": "display_data"
    }
   ],
   "source": [
    "df[[\"sepal_length\"]]\n",
    "typeof(df[[\"sepal_length\"]])"
   ]
  },
  {
   "cell_type": "markdown",
   "metadata": {},
   "source": [
    "#### Acessando como uma Matriz"
   ]
  },
  {
   "cell_type": "code",
   "execution_count": 37,
   "metadata": {},
   "outputs": [
    {
     "data": {
      "text/html": [
       "<table>\n",
       "<thead><tr><th scope=col>sepal_length</th><th scope=col>sepal_width</th><th scope=col>petal_length</th><th scope=col>sepal_width</th><th scope=col>species</th></tr></thead>\n",
       "<tbody>\n",
       "\t<tr><td>5.1        </td><td>3.5        </td><td>1.4        </td><td>0.2        </td><td>Iris-setosa</td></tr>\n",
       "\t<tr><td>4.9        </td><td>3.0        </td><td>1.4        </td><td>0.2        </td><td>Iris-setosa</td></tr>\n",
       "\t<tr><td>4.7        </td><td>3.2        </td><td>1.3        </td><td>0.2        </td><td>Iris-setosa</td></tr>\n",
       "\t<tr><td>4.6        </td><td>3.1        </td><td>1.5        </td><td>0.2        </td><td>Iris-setosa</td></tr>\n",
       "\t<tr><td>5.0        </td><td>3.6        </td><td>1.4        </td><td>0.2        </td><td>Iris-setosa</td></tr>\n",
       "\t<tr><td>5.4        </td><td>3.9        </td><td>1.7        </td><td>0.4        </td><td>Iris-setosa</td></tr>\n",
       "\t<tr><td>4.6        </td><td>3.4        </td><td>1.4        </td><td>0.3        </td><td>Iris-setosa</td></tr>\n",
       "\t<tr><td>5.0        </td><td>3.4        </td><td>1.5        </td><td>0.2        </td><td>Iris-setosa</td></tr>\n",
       "\t<tr><td>4.4        </td><td>2.9        </td><td>1.4        </td><td>0.2        </td><td>Iris-setosa</td></tr>\n",
       "\t<tr><td>4.9        </td><td>3.1        </td><td>1.5        </td><td>0.1        </td><td>Iris-setosa</td></tr>\n",
       "</tbody>\n",
       "</table>\n"
      ],
      "text/latex": [
       "\\begin{tabular}{r|lllll}\n",
       " sepal\\_length & sepal\\_width & petal\\_length & sepal\\_width & species\\\\\n",
       "\\hline\n",
       "\t 5.1         & 3.5         & 1.4         & 0.2         & Iris-setosa\\\\\n",
       "\t 4.9         & 3.0         & 1.4         & 0.2         & Iris-setosa\\\\\n",
       "\t 4.7         & 3.2         & 1.3         & 0.2         & Iris-setosa\\\\\n",
       "\t 4.6         & 3.1         & 1.5         & 0.2         & Iris-setosa\\\\\n",
       "\t 5.0         & 3.6         & 1.4         & 0.2         & Iris-setosa\\\\\n",
       "\t 5.4         & 3.9         & 1.7         & 0.4         & Iris-setosa\\\\\n",
       "\t 4.6         & 3.4         & 1.4         & 0.3         & Iris-setosa\\\\\n",
       "\t 5.0         & 3.4         & 1.5         & 0.2         & Iris-setosa\\\\\n",
       "\t 4.4         & 2.9         & 1.4         & 0.2         & Iris-setosa\\\\\n",
       "\t 4.9         & 3.1         & 1.5         & 0.1         & Iris-setosa\\\\\n",
       "\\end{tabular}\n"
      ],
      "text/markdown": [
       "\n",
       "sepal_length | sepal_width | petal_length | sepal_width | species | \n",
       "|---|---|---|---|---|---|---|---|---|---|\n",
       "| 5.1         | 3.5         | 1.4         | 0.2         | Iris-setosa | \n",
       "| 4.9         | 3.0         | 1.4         | 0.2         | Iris-setosa | \n",
       "| 4.7         | 3.2         | 1.3         | 0.2         | Iris-setosa | \n",
       "| 4.6         | 3.1         | 1.5         | 0.2         | Iris-setosa | \n",
       "| 5.0         | 3.6         | 1.4         | 0.2         | Iris-setosa | \n",
       "| 5.4         | 3.9         | 1.7         | 0.4         | Iris-setosa | \n",
       "| 4.6         | 3.4         | 1.4         | 0.3         | Iris-setosa | \n",
       "| 5.0         | 3.4         | 1.5         | 0.2         | Iris-setosa | \n",
       "| 4.4         | 2.9         | 1.4         | 0.2         | Iris-setosa | \n",
       "| 4.9         | 3.1         | 1.5         | 0.1         | Iris-setosa | \n",
       "\n",
       "\n"
      ],
      "text/plain": [
       "   sepal_length sepal_width petal_length sepal_width species    \n",
       "1  5.1          3.5         1.4          0.2         Iris-setosa\n",
       "2  4.9          3.0         1.4          0.2         Iris-setosa\n",
       "3  4.7          3.2         1.3          0.2         Iris-setosa\n",
       "4  4.6          3.1         1.5          0.2         Iris-setosa\n",
       "5  5.0          3.6         1.4          0.2         Iris-setosa\n",
       "6  5.4          3.9         1.7          0.4         Iris-setosa\n",
       "7  4.6          3.4         1.4          0.3         Iris-setosa\n",
       "8  5.0          3.4         1.5          0.2         Iris-setosa\n",
       "9  4.4          2.9         1.4          0.2         Iris-setosa\n",
       "10 4.9          3.1         1.5          0.1         Iris-setosa"
      ]
     },
     "metadata": {},
     "output_type": "display_data"
    }
   ],
   "source": [
    "head(df, n = 10)"
   ]
  },
  {
   "cell_type": "code",
   "execution_count": 38,
   "metadata": {},
   "outputs": [
    {
     "data": {
      "text/html": [
       "<table>\n",
       "<thead><tr><th scope=col>species</th><th scope=col>petal_length</th><th scope=col>petal_length.1</th></tr></thead>\n",
       "<tbody>\n",
       "\t<tr><td>Iris-setosa</td><td>1.4        </td><td>1.4        </td></tr>\n",
       "\t<tr><td>Iris-setosa</td><td>1.4        </td><td>1.4        </td></tr>\n",
       "\t<tr><td>Iris-setosa</td><td>1.3        </td><td>1.3        </td></tr>\n",
       "\t<tr><td>Iris-setosa</td><td>1.5        </td><td>1.5        </td></tr>\n",
       "\t<tr><td>Iris-setosa</td><td>1.4        </td><td>1.4        </td></tr>\n",
       "</tbody>\n",
       "</table>\n"
      ],
      "text/latex": [
       "\\begin{tabular}{r|lll}\n",
       " species & petal\\_length & petal\\_length.1\\\\\n",
       "\\hline\n",
       "\t Iris-setosa & 1.4         & 1.4        \\\\\n",
       "\t Iris-setosa & 1.4         & 1.4        \\\\\n",
       "\t Iris-setosa & 1.3         & 1.3        \\\\\n",
       "\t Iris-setosa & 1.5         & 1.5        \\\\\n",
       "\t Iris-setosa & 1.4         & 1.4        \\\\\n",
       "\\end{tabular}\n"
      ],
      "text/markdown": [
       "\n",
       "species | petal_length | petal_length.1 | \n",
       "|---|---|---|---|---|\n",
       "| Iris-setosa | 1.4         | 1.4         | \n",
       "| Iris-setosa | 1.4         | 1.4         | \n",
       "| Iris-setosa | 1.3         | 1.3         | \n",
       "| Iris-setosa | 1.5         | 1.5         | \n",
       "| Iris-setosa | 1.4         | 1.4         | \n",
       "\n",
       "\n"
      ],
      "text/plain": [
       "  species     petal_length petal_length.1\n",
       "1 Iris-setosa 1.4          1.4           \n",
       "2 Iris-setosa 1.4          1.4           \n",
       "3 Iris-setosa 1.3          1.3           \n",
       "4 Iris-setosa 1.5          1.5           \n",
       "5 Iris-setosa 1.4          1.4           "
      ]
     },
     "metadata": {},
     "output_type": "display_data"
    }
   ],
   "source": [
    "df[1:5, c('species', 'petal_length', 'petal_length')]"
   ]
  },
  {
   "cell_type": "code",
   "execution_count": 48,
   "metadata": {},
   "outputs": [
    {
     "data": {
      "text/html": [
       "<table>\n",
       "<thead><tr><th></th><th scope=col>petal_width</th></tr></thead>\n",
       "<tbody>\n",
       "\t<tr><th scope=row>2</th><td>0.2</td></tr>\n",
       "\t<tr><th scope=row>3</th><td>0.2</td></tr>\n",
       "\t<tr><th scope=row>4</th><td>0.2</td></tr>\n",
       "\t<tr><th scope=row>7</th><td>0.3</td></tr>\n",
       "\t<tr><th scope=row>9</th><td>0.2</td></tr>\n",
       "\t<tr><th scope=row>10</th><td>0.1</td></tr>\n",
       "\t<tr><th scope=row>12</th><td>0.2</td></tr>\n",
       "\t<tr><th scope=row>13</th><td>0.1</td></tr>\n",
       "\t<tr><th scope=row>14</th><td>0.1</td></tr>\n",
       "\t<tr><th scope=row>23</th><td>0.2</td></tr>\n",
       "\t<tr><th scope=row>25</th><td>0.2</td></tr>\n",
       "\t<tr><th scope=row>30</th><td>0.2</td></tr>\n",
       "\t<tr><th scope=row>31</th><td>0.2</td></tr>\n",
       "\t<tr><th scope=row>35</th><td>0.1</td></tr>\n",
       "\t<tr><th scope=row>38</th><td>0.1</td></tr>\n",
       "\t<tr><th scope=row>39</th><td>0.2</td></tr>\n",
       "\t<tr><th scope=row>42</th><td>0.3</td></tr>\n",
       "\t<tr><th scope=row>43</th><td>0.2</td></tr>\n",
       "\t<tr><th scope=row>46</th><td>0.3</td></tr>\n",
       "\t<tr><th scope=row>48</th><td>0.2</td></tr>\n",
       "\t<tr><th scope=row>58</th><td>1.0</td></tr>\n",
       "\t<tr><th scope=row>107</th><td>1.7</td></tr>\n",
       "</tbody>\n",
       "</table>\n"
      ],
      "text/latex": [
       "\\begin{tabular}{r|l}\n",
       "  & petal\\_width\\\\\n",
       "\\hline\n",
       "\t2 & 0.2\\\\\n",
       "\t3 & 0.2\\\\\n",
       "\t4 & 0.2\\\\\n",
       "\t7 & 0.3\\\\\n",
       "\t9 & 0.2\\\\\n",
       "\t10 & 0.1\\\\\n",
       "\t12 & 0.2\\\\\n",
       "\t13 & 0.1\\\\\n",
       "\t14 & 0.1\\\\\n",
       "\t23 & 0.2\\\\\n",
       "\t25 & 0.2\\\\\n",
       "\t30 & 0.2\\\\\n",
       "\t31 & 0.2\\\\\n",
       "\t35 & 0.1\\\\\n",
       "\t38 & 0.1\\\\\n",
       "\t39 & 0.2\\\\\n",
       "\t42 & 0.3\\\\\n",
       "\t43 & 0.2\\\\\n",
       "\t46 & 0.3\\\\\n",
       "\t48 & 0.2\\\\\n",
       "\t58 & 1.0\\\\\n",
       "\t107 & 1.7\\\\\n",
       "\\end{tabular}\n"
      ],
      "text/markdown": [
       "\n",
       "| <!--/--> | petal_width | \n",
       "|---|---|---|---|---|---|---|---|---|---|---|---|---|---|---|---|---|---|---|---|---|---|\n",
       "| 2 | 0.2 | \n",
       "| 3 | 0.2 | \n",
       "| 4 | 0.2 | \n",
       "| 7 | 0.3 | \n",
       "| 9 | 0.2 | \n",
       "| 10 | 0.1 | \n",
       "| 12 | 0.2 | \n",
       "| 13 | 0.1 | \n",
       "| 14 | 0.1 | \n",
       "| 23 | 0.2 | \n",
       "| 25 | 0.2 | \n",
       "| 30 | 0.2 | \n",
       "| 31 | 0.2 | \n",
       "| 35 | 0.1 | \n",
       "| 38 | 0.1 | \n",
       "| 39 | 0.2 | \n",
       "| 42 | 0.3 | \n",
       "| 43 | 0.2 | \n",
       "| 46 | 0.3 | \n",
       "| 48 | 0.2 | \n",
       "| 58 | 1.0 | \n",
       "| 107 | 1.7 | \n",
       "\n",
       "\n"
      ],
      "text/plain": [
       "    petal_width\n",
       "2   0.2        \n",
       "3   0.2        \n",
       "4   0.2        \n",
       "7   0.3        \n",
       "9   0.2        \n",
       "10  0.1        \n",
       "12  0.2        \n",
       "13  0.1        \n",
       "14  0.1        \n",
       "23  0.2        \n",
       "25  0.2        \n",
       "30  0.2        \n",
       "31  0.2        \n",
       "35  0.1        \n",
       "38  0.1        \n",
       "39  0.2        \n",
       "42  0.3        \n",
       "43  0.2        \n",
       "46  0.3        \n",
       "48  0.2        \n",
       "58  1.0        \n",
       "107 1.7        "
      ]
     },
     "metadata": {},
     "output_type": "display_data"
    }
   ],
   "source": [
    "df[df$sepal_length < 5.0, 'petal_width', drop=FALSE]"
   ]
  },
  {
   "cell_type": "code",
   "execution_count": 56,
   "metadata": {},
   "outputs": [
    {
     "data": {
      "text/html": [
       "<ol class=list-inline>\n",
       "\t<li>3.5</li>\n",
       "\t<li>3</li>\n",
       "\t<li>3.2</li>\n",
       "</ol>\n"
      ],
      "text/latex": [
       "\\begin{enumerate*}\n",
       "\\item 3.5\n",
       "\\item 3\n",
       "\\item 3.2\n",
       "\\end{enumerate*}\n"
      ],
      "text/markdown": [
       "1. 3.5\n",
       "2. 3\n",
       "3. 3.2\n",
       "\n",
       "\n"
      ],
      "text/plain": [
       "[1] 3.5 3.0 3.2"
      ]
     },
     "metadata": {},
     "output_type": "display_data"
    }
   ],
   "source": [
    "df[1:3, 2]"
   ]
  },
  {
   "cell_type": "code",
   "execution_count": 57,
   "metadata": {},
   "outputs": [
    {
     "data": {
      "text/html": [
       "<ol class=list-inline>\n",
       "\t<li>3.5</li>\n",
       "\t<li>3</li>\n",
       "\t<li>3.2</li>\n",
       "</ol>\n"
      ],
      "text/latex": [
       "\\begin{enumerate*}\n",
       "\\item 3.5\n",
       "\\item 3\n",
       "\\item 3.2\n",
       "\\end{enumerate*}\n"
      ],
      "text/markdown": [
       "1. 3.5\n",
       "2. 3\n",
       "3. 3.2\n",
       "\n",
       "\n"
      ],
      "text/plain": [
       "[1] 3.5 3.0 3.2"
      ]
     },
     "metadata": {},
     "output_type": "display_data"
    }
   ],
   "source": [
    "df[1:3, 'sepal_width']"
   ]
  },
  {
   "cell_type": "code",
   "execution_count": 61,
   "metadata": {},
   "outputs": [
    {
     "data": {
      "text/html": [
       "<table>\n",
       "<thead><tr><th scope=col>sepal_width</th></tr></thead>\n",
       "<tbody>\n",
       "\t<tr><td>3.5</td></tr>\n",
       "\t<tr><td>3.0</td></tr>\n",
       "\t<tr><td>3.2</td></tr>\n",
       "</tbody>\n",
       "</table>\n"
      ],
      "text/latex": [
       "\\begin{tabular}{r|l}\n",
       " sepal\\_width\\\\\n",
       "\\hline\n",
       "\t 3.5\\\\\n",
       "\t 3.0\\\\\n",
       "\t 3.2\\\\\n",
       "\\end{tabular}\n"
      ],
      "text/markdown": [
       "\n",
       "sepal_width | \n",
       "|---|---|---|\n",
       "| 3.5 | \n",
       "| 3.0 | \n",
       "| 3.2 | \n",
       "\n",
       "\n"
      ],
      "text/plain": [
       "  sepal_width\n",
       "1 3.5        \n",
       "2 3.0        \n",
       "3 3.2        "
      ]
     },
     "metadata": {},
     "output_type": "display_data"
    }
   ],
   "source": [
    "df[1:3, 2, drop = FALSE]"
   ]
  },
  {
   "cell_type": "code",
   "execution_count": 49,
   "metadata": {},
   "outputs": [
    {
     "data": {
      "text/html": [
       "<table>\n",
       "<thead><tr><th scope=col>sepal_length</th><th scope=col>sepal_width</th><th scope=col>petal_length</th><th scope=col>petal_width</th><th scope=col>species</th></tr></thead>\n",
       "<tbody>\n",
       "\t<tr><td>5.1        </td><td>3.5        </td><td>1.4        </td><td>0.2        </td><td>Iris-setosa</td></tr>\n",
       "</tbody>\n",
       "</table>\n"
      ],
      "text/latex": [
       "\\begin{tabular}{r|lllll}\n",
       " sepal\\_length & sepal\\_width & petal\\_length & petal\\_width & species\\\\\n",
       "\\hline\n",
       "\t 5.1         & 3.5         & 1.4         & 0.2         & Iris-setosa\\\\\n",
       "\\end{tabular}\n"
      ],
      "text/markdown": [
       "\n",
       "sepal_length | sepal_width | petal_length | petal_width | species | \n",
       "|---|\n",
       "| 5.1         | 3.5         | 1.4         | 0.2         | Iris-setosa | \n",
       "\n",
       "\n"
      ],
      "text/plain": [
       "  sepal_length sepal_width petal_length petal_width species    \n",
       "1 5.1          3.5         1.4          0.2         Iris-setosa"
      ]
     },
     "metadata": {},
     "output_type": "display_data"
    },
    {
     "data": {
      "text/html": [
       "<table>\n",
       "<thead><tr><th scope=col>sepal_length</th><th scope=col>sepal_width</th><th scope=col>petal_length</th><th scope=col>petal_width</th><th scope=col>species</th></tr></thead>\n",
       "<tbody>\n",
       "\t<tr><td>5.1        </td><td>3.5        </td><td>2          </td><td>0.2        </td><td>Iris-setosa</td></tr>\n",
       "</tbody>\n",
       "</table>\n"
      ],
      "text/latex": [
       "\\begin{tabular}{r|lllll}\n",
       " sepal\\_length & sepal\\_width & petal\\_length & petal\\_width & species\\\\\n",
       "\\hline\n",
       "\t 5.1         & 3.5         & 2           & 0.2         & Iris-setosa\\\\\n",
       "\\end{tabular}\n"
      ],
      "text/markdown": [
       "\n",
       "sepal_length | sepal_width | petal_length | petal_width | species | \n",
       "|---|\n",
       "| 5.1         | 3.5         | 2           | 0.2         | Iris-setosa | \n",
       "\n",
       "\n"
      ],
      "text/plain": [
       "  sepal_length sepal_width petal_length petal_width species    \n",
       "1 5.1          3.5         2            0.2         Iris-setosa"
      ]
     },
     "metadata": {},
     "output_type": "display_data"
    }
   ],
   "source": [
    "head(df, n = 1)\n",
    "df[1, \"petal_length\"] = 2\n",
    "head(df, n = 1)"
   ]
  },
  {
   "cell_type": "markdown",
   "metadata": {},
   "source": [
    "### Adicionando componentes"
   ]
  },
  {
   "cell_type": "code",
   "execution_count": 50,
   "metadata": {},
   "outputs": [
    {
     "data": {
      "text/html": [
       "<table>\n",
       "<thead><tr><th></th><th scope=col>sepal_length</th><th scope=col>sepal_width</th><th scope=col>petal_length</th><th scope=col>petal_width</th><th scope=col>species</th></tr></thead>\n",
       "<tbody>\n",
       "\t<tr><th scope=row>2</th><td>5.06       </td><td>3.6        </td><td>1.0        </td><td>0.25       </td><td>Iris-setosa</td></tr>\n",
       "\t<tr><th scope=row>210</th><td>5.10       </td><td>3.5        </td><td>2.0        </td><td>0.20       </td><td>Iris-setosa</td></tr>\n",
       "\t<tr><th scope=row>3</th><td>4.90       </td><td>3.0        </td><td>1.4        </td><td>0.20       </td><td>Iris-setosa</td></tr>\n",
       "\t<tr><th scope=row>4</th><td>4.70       </td><td>3.2        </td><td>1.3        </td><td>0.20       </td><td>Iris-setosa</td></tr>\n",
       "\t<tr><th scope=row>5</th><td>4.60       </td><td>3.1        </td><td>1.5        </td><td>0.20       </td><td>Iris-setosa</td></tr>\n",
       "\t<tr><th scope=row>6</th><td>5.00       </td><td>3.6        </td><td>1.4        </td><td>0.20       </td><td>Iris-setosa</td></tr>\n",
       "</tbody>\n",
       "</table>\n"
      ],
      "text/latex": [
       "\\begin{tabular}{r|lllll}\n",
       "  & sepal\\_length & sepal\\_width & petal\\_length & petal\\_width & species\\\\\n",
       "\\hline\n",
       "\t2 & 5.06        & 3.6         & 1.0         & 0.25        & Iris-setosa\\\\\n",
       "\t210 & 5.10        & 3.5         & 2.0         & 0.20        & Iris-setosa\\\\\n",
       "\t3 & 4.90        & 3.0         & 1.4         & 0.20        & Iris-setosa\\\\\n",
       "\t4 & 4.70        & 3.2         & 1.3         & 0.20        & Iris-setosa\\\\\n",
       "\t5 & 4.60        & 3.1         & 1.5         & 0.20        & Iris-setosa\\\\\n",
       "\t6 & 5.00        & 3.6         & 1.4         & 0.20        & Iris-setosa\\\\\n",
       "\\end{tabular}\n"
      ],
      "text/markdown": [
       "\n",
       "| <!--/--> | sepal_length | sepal_width | petal_length | petal_width | species | \n",
       "|---|---|---|---|---|---|\n",
       "| 2 | 5.06        | 3.6         | 1.0         | 0.25        | Iris-setosa | \n",
       "| 210 | 5.10        | 3.5         | 2.0         | 0.20        | Iris-setosa | \n",
       "| 3 | 4.90        | 3.0         | 1.4         | 0.20        | Iris-setosa | \n",
       "| 4 | 4.70        | 3.2         | 1.3         | 0.20        | Iris-setosa | \n",
       "| 5 | 4.60        | 3.1         | 1.5         | 0.20        | Iris-setosa | \n",
       "| 6 | 5.00        | 3.6         | 1.4         | 0.20        | Iris-setosa | \n",
       "\n",
       "\n"
      ],
      "text/plain": [
       "    sepal_length sepal_width petal_length petal_width species    \n",
       "2   5.06         3.6         1.0          0.25        Iris-setosa\n",
       "210 5.10         3.5         2.0          0.20        Iris-setosa\n",
       "3   4.90         3.0         1.4          0.20        Iris-setosa\n",
       "4   4.70         3.2         1.3          0.20        Iris-setosa\n",
       "5   4.60         3.1         1.5          0.20        Iris-setosa\n",
       "6   5.00         3.6         1.4          0.20        Iris-setosa"
      ]
     },
     "metadata": {},
     "output_type": "display_data"
    }
   ],
   "source": [
    "df = cbind(list(5.06, 3.6, 1.0, 0.25, \"Iris-setosa\"), df)\n",
    "head(df)"
   ]
  },
  {
   "cell_type": "code",
   "execution_count": 59,
   "metadata": {},
   "outputs": [
    {
     "data": {
      "text/html": [
       "<ol class=list-inline>\n",
       "\t<li>7</li>\n",
       "\t<li>10</li>\n",
       "\t<li>9</li>\n",
       "\t<li>12</li>\n",
       "</ol>\n"
      ],
      "text/latex": [
       "\\begin{enumerate*}\n",
       "\\item 7\n",
       "\\item 10\n",
       "\\item 9\n",
       "\\item 12\n",
       "\\end{enumerate*}\n"
      ],
      "text/markdown": [
       "1. 7\n",
       "2. 10\n",
       "3. 9\n",
       "4. 12\n",
       "\n",
       "\n"
      ],
      "text/plain": [
       "[1]  7 10  9 12"
      ]
     },
     "metadata": {},
     "output_type": "display_data"
    }
   ],
   "source": [
    "c(4, 5, 6, 7) + 4 # c(4, 4, 4, 4)"
   ]
  },
  {
   "cell_type": "code",
   "execution_count": 60,
   "metadata": {},
   "outputs": [
    {
     "data": {
      "text/html": [
       "<ol class=list-inline>\n",
       "\t<li>1</li>\n",
       "\t<li>2</li>\n",
       "\t<li>3</li>\n",
       "\t<li>4</li>\n",
       "\t<li>5</li>\n",
       "\t<li>6</li>\n",
       "\t<li>7</li>\n",
       "\t<li>8</li>\n",
       "\t<li>9</li>\n",
       "\t<li>10</li>\n",
       "\t<li>11</li>\n",
       "\t<li>12</li>\n",
       "\t<li>13</li>\n",
       "\t<li>14</li>\n",
       "\t<li>15</li>\n",
       "\t<li>16</li>\n",
       "\t<li>17</li>\n",
       "\t<li>18</li>\n",
       "\t<li>19</li>\n",
       "\t<li>20</li>\n",
       "\t<li>21</li>\n",
       "\t<li>22</li>\n",
       "\t<li>23</li>\n",
       "\t<li>24</li>\n",
       "\t<li>25</li>\n",
       "\t<li>26</li>\n",
       "\t<li>27</li>\n",
       "\t<li>28</li>\n",
       "\t<li>29</li>\n",
       "\t<li>30</li>\n",
       "\t<li>31</li>\n",
       "\t<li>32</li>\n",
       "\t<li>33</li>\n",
       "\t<li>34</li>\n",
       "\t<li>35</li>\n",
       "\t<li>36</li>\n",
       "\t<li>37</li>\n",
       "\t<li>38</li>\n",
       "\t<li>39</li>\n",
       "\t<li>40</li>\n",
       "\t<li>41</li>\n",
       "\t<li>42</li>\n",
       "\t<li>43</li>\n",
       "\t<li>44</li>\n",
       "\t<li>45</li>\n",
       "\t<li>46</li>\n",
       "\t<li>47</li>\n",
       "\t<li>48</li>\n",
       "\t<li>49</li>\n",
       "\t<li>50</li>\n",
       "\t<li>1</li>\n",
       "\t<li>2</li>\n",
       "\t<li>3</li>\n",
       "\t<li>4</li>\n",
       "\t<li>5</li>\n",
       "\t<li>6</li>\n",
       "\t<li>7</li>\n",
       "\t<li>8</li>\n",
       "\t<li>9</li>\n",
       "\t<li>10</li>\n",
       "\t<li>11</li>\n",
       "\t<li>12</li>\n",
       "\t<li>13</li>\n",
       "\t<li>14</li>\n",
       "\t<li>15</li>\n",
       "\t<li>16</li>\n",
       "\t<li>17</li>\n",
       "\t<li>18</li>\n",
       "\t<li>19</li>\n",
       "\t<li>20</li>\n",
       "\t<li>21</li>\n",
       "\t<li>22</li>\n",
       "\t<li>23</li>\n",
       "\t<li>24</li>\n",
       "\t<li>25</li>\n",
       "\t<li>26</li>\n",
       "\t<li>27</li>\n",
       "\t<li>28</li>\n",
       "\t<li>29</li>\n",
       "\t<li>30</li>\n",
       "\t<li>31</li>\n",
       "\t<li>32</li>\n",
       "\t<li>33</li>\n",
       "\t<li>34</li>\n",
       "\t<li>35</li>\n",
       "\t<li>36</li>\n",
       "\t<li>37</li>\n",
       "\t<li>38</li>\n",
       "\t<li>39</li>\n",
       "\t<li>40</li>\n",
       "\t<li>41</li>\n",
       "\t<li>42</li>\n",
       "\t<li>43</li>\n",
       "\t<li>44</li>\n",
       "\t<li>45</li>\n",
       "\t<li>46</li>\n",
       "\t<li>47</li>\n",
       "\t<li>48</li>\n",
       "\t<li>49</li>\n",
       "\t<li>50</li>\n",
       "\t<li>1</li>\n",
       "\t<li>2</li>\n",
       "\t<li>3</li>\n",
       "\t<li>4</li>\n",
       "\t<li>5</li>\n",
       "\t<li>6</li>\n",
       "\t<li>7</li>\n",
       "\t<li>8</li>\n",
       "\t<li>9</li>\n",
       "\t<li>10</li>\n",
       "\t<li>11</li>\n",
       "\t<li>12</li>\n",
       "\t<li>13</li>\n",
       "\t<li>14</li>\n",
       "\t<li>15</li>\n",
       "\t<li>16</li>\n",
       "\t<li>17</li>\n",
       "\t<li>18</li>\n",
       "\t<li>19</li>\n",
       "\t<li>20</li>\n",
       "\t<li>21</li>\n",
       "\t<li>22</li>\n",
       "\t<li>23</li>\n",
       "\t<li>24</li>\n",
       "\t<li>25</li>\n",
       "\t<li>26</li>\n",
       "\t<li>27</li>\n",
       "\t<li>28</li>\n",
       "\t<li>29</li>\n",
       "\t<li>30</li>\n",
       "\t<li>31</li>\n",
       "\t<li>32</li>\n",
       "\t<li>33</li>\n",
       "\t<li>34</li>\n",
       "\t<li>35</li>\n",
       "\t<li>36</li>\n",
       "\t<li>37</li>\n",
       "\t<li>38</li>\n",
       "\t<li>39</li>\n",
       "\t<li>40</li>\n",
       "\t<li>41</li>\n",
       "\t<li>42</li>\n",
       "\t<li>43</li>\n",
       "\t<li>44</li>\n",
       "\t<li>45</li>\n",
       "\t<li>46</li>\n",
       "\t<li>47</li>\n",
       "\t<li>48</li>\n",
       "\t<li>49</li>\n",
       "\t<li>50</li>\n",
       "</ol>\n"
      ],
      "text/latex": [
       "\\begin{enumerate*}\n",
       "\\item 1\n",
       "\\item 2\n",
       "\\item 3\n",
       "\\item 4\n",
       "\\item 5\n",
       "\\item 6\n",
       "\\item 7\n",
       "\\item 8\n",
       "\\item 9\n",
       "\\item 10\n",
       "\\item 11\n",
       "\\item 12\n",
       "\\item 13\n",
       "\\item 14\n",
       "\\item 15\n",
       "\\item 16\n",
       "\\item 17\n",
       "\\item 18\n",
       "\\item 19\n",
       "\\item 20\n",
       "\\item 21\n",
       "\\item 22\n",
       "\\item 23\n",
       "\\item 24\n",
       "\\item 25\n",
       "\\item 26\n",
       "\\item 27\n",
       "\\item 28\n",
       "\\item 29\n",
       "\\item 30\n",
       "\\item 31\n",
       "\\item 32\n",
       "\\item 33\n",
       "\\item 34\n",
       "\\item 35\n",
       "\\item 36\n",
       "\\item 37\n",
       "\\item 38\n",
       "\\item 39\n",
       "\\item 40\n",
       "\\item 41\n",
       "\\item 42\n",
       "\\item 43\n",
       "\\item 44\n",
       "\\item 45\n",
       "\\item 46\n",
       "\\item 47\n",
       "\\item 48\n",
       "\\item 49\n",
       "\\item 50\n",
       "\\item 1\n",
       "\\item 2\n",
       "\\item 3\n",
       "\\item 4\n",
       "\\item 5\n",
       "\\item 6\n",
       "\\item 7\n",
       "\\item 8\n",
       "\\item 9\n",
       "\\item 10\n",
       "\\item 11\n",
       "\\item 12\n",
       "\\item 13\n",
       "\\item 14\n",
       "\\item 15\n",
       "\\item 16\n",
       "\\item 17\n",
       "\\item 18\n",
       "\\item 19\n",
       "\\item 20\n",
       "\\item 21\n",
       "\\item 22\n",
       "\\item 23\n",
       "\\item 24\n",
       "\\item 25\n",
       "\\item 26\n",
       "\\item 27\n",
       "\\item 28\n",
       "\\item 29\n",
       "\\item 30\n",
       "\\item 31\n",
       "\\item 32\n",
       "\\item 33\n",
       "\\item 34\n",
       "\\item 35\n",
       "\\item 36\n",
       "\\item 37\n",
       "\\item 38\n",
       "\\item 39\n",
       "\\item 40\n",
       "\\item 41\n",
       "\\item 42\n",
       "\\item 43\n",
       "\\item 44\n",
       "\\item 45\n",
       "\\item 46\n",
       "\\item 47\n",
       "\\item 48\n",
       "\\item 49\n",
       "\\item 50\n",
       "\\item 1\n",
       "\\item 2\n",
       "\\item 3\n",
       "\\item 4\n",
       "\\item 5\n",
       "\\item 6\n",
       "\\item 7\n",
       "\\item 8\n",
       "\\item 9\n",
       "\\item 10\n",
       "\\item 11\n",
       "\\item 12\n",
       "\\item 13\n",
       "\\item 14\n",
       "\\item 15\n",
       "\\item 16\n",
       "\\item 17\n",
       "\\item 18\n",
       "\\item 19\n",
       "\\item 20\n",
       "\\item 21\n",
       "\\item 22\n",
       "\\item 23\n",
       "\\item 24\n",
       "\\item 25\n",
       "\\item 26\n",
       "\\item 27\n",
       "\\item 28\n",
       "\\item 29\n",
       "\\item 30\n",
       "\\item 31\n",
       "\\item 32\n",
       "\\item 33\n",
       "\\item 34\n",
       "\\item 35\n",
       "\\item 36\n",
       "\\item 37\n",
       "\\item 38\n",
       "\\item 39\n",
       "\\item 40\n",
       "\\item 41\n",
       "\\item 42\n",
       "\\item 43\n",
       "\\item 44\n",
       "\\item 45\n",
       "\\item 46\n",
       "\\item 47\n",
       "\\item 48\n",
       "\\item 49\n",
       "\\item 50\n",
       "\\end{enumerate*}\n"
      ],
      "text/markdown": [
       "1. 1\n",
       "2. 2\n",
       "3. 3\n",
       "4. 4\n",
       "5. 5\n",
       "6. 6\n",
       "7. 7\n",
       "8. 8\n",
       "9. 9\n",
       "10. 10\n",
       "11. 11\n",
       "12. 12\n",
       "13. 13\n",
       "14. 14\n",
       "15. 15\n",
       "16. 16\n",
       "17. 17\n",
       "18. 18\n",
       "19. 19\n",
       "20. 20\n",
       "21. 21\n",
       "22. 22\n",
       "23. 23\n",
       "24. 24\n",
       "25. 25\n",
       "26. 26\n",
       "27. 27\n",
       "28. 28\n",
       "29. 29\n",
       "30. 30\n",
       "31. 31\n",
       "32. 32\n",
       "33. 33\n",
       "34. 34\n",
       "35. 35\n",
       "36. 36\n",
       "37. 37\n",
       "38. 38\n",
       "39. 39\n",
       "40. 40\n",
       "41. 41\n",
       "42. 42\n",
       "43. 43\n",
       "44. 44\n",
       "45. 45\n",
       "46. 46\n",
       "47. 47\n",
       "48. 48\n",
       "49. 49\n",
       "50. 50\n",
       "51. 1\n",
       "52. 2\n",
       "53. 3\n",
       "54. 4\n",
       "55. 5\n",
       "56. 6\n",
       "57. 7\n",
       "58. 8\n",
       "59. 9\n",
       "60. 10\n",
       "61. 11\n",
       "62. 12\n",
       "63. 13\n",
       "64. 14\n",
       "65. 15\n",
       "66. 16\n",
       "67. 17\n",
       "68. 18\n",
       "69. 19\n",
       "70. 20\n",
       "71. 21\n",
       "72. 22\n",
       "73. 23\n",
       "74. 24\n",
       "75. 25\n",
       "76. 26\n",
       "77. 27\n",
       "78. 28\n",
       "79. 29\n",
       "80. 30\n",
       "81. 31\n",
       "82. 32\n",
       "83. 33\n",
       "84. 34\n",
       "85. 35\n",
       "86. 36\n",
       "87. 37\n",
       "88. 38\n",
       "89. 39\n",
       "90. 40\n",
       "91. 41\n",
       "92. 42\n",
       "93. 43\n",
       "94. 44\n",
       "95. 45\n",
       "96. 46\n",
       "97. 47\n",
       "98. 48\n",
       "99. 49\n",
       "100. 50\n",
       "101. 1\n",
       "102. 2\n",
       "103. 3\n",
       "104. 4\n",
       "105. 5\n",
       "106. 6\n",
       "107. 7\n",
       "108. 8\n",
       "109. 9\n",
       "110. 10\n",
       "111. 11\n",
       "112. 12\n",
       "113. 13\n",
       "114. 14\n",
       "115. 15\n",
       "116. 16\n",
       "117. 17\n",
       "118. 18\n",
       "119. 19\n",
       "120. 20\n",
       "121. 21\n",
       "122. 22\n",
       "123. 23\n",
       "124. 24\n",
       "125. 25\n",
       "126. 26\n",
       "127. 27\n",
       "128. 28\n",
       "129. 29\n",
       "130. 30\n",
       "131. 31\n",
       "132. 32\n",
       "133. 33\n",
       "134. 34\n",
       "135. 35\n",
       "136. 36\n",
       "137. 37\n",
       "138. 38\n",
       "139. 39\n",
       "140. 40\n",
       "141. 41\n",
       "142. 42\n",
       "143. 43\n",
       "144. 44\n",
       "145. 45\n",
       "146. 46\n",
       "147. 47\n",
       "148. 48\n",
       "149. 49\n",
       "150. 50\n",
       "\n",
       "\n"
      ],
      "text/plain": [
       "  [1]  1  2  3  4  5  6  7  8  9 10 11 12 13 14 15 16 17 18 19 20 21 22 23 24 25\n",
       " [26] 26 27 28 29 30 31 32 33 34 35 36 37 38 39 40 41 42 43 44 45 46 47 48 49 50\n",
       " [51]  1  2  3  4  5  6  7  8  9 10 11 12 13 14 15 16 17 18 19 20 21 22 23 24 25\n",
       " [76] 26 27 28 29 30 31 32 33 34 35 36 37 38 39 40 41 42 43 44 45 46 47 48 49 50\n",
       "[101]  1  2  3  4  5  6  7  8  9 10 11 12 13 14 15 16 17 18 19 20 21 22 23 24 25\n",
       "[126] 26 27 28 29 30 31 32 33 34 35 36 37 38 39 40 41 42 43 44 45 46 47 48 49 50"
      ]
     },
     "metadata": {},
     "output_type": "display_data"
    }
   ],
   "source": [
    "c(1:50, 1:50, 1:50)"
   ]
  },
  {
   "cell_type": "code",
   "execution_count": 61,
   "metadata": {
    "scrolled": false
   },
   "outputs": [
    {
     "data": {
      "text/html": [
       "<table>\n",
       "<thead><tr><th scope=col>sepal_length</th><th scope=col>sepal_width</th><th scope=col>petal_length</th><th scope=col>petal_width</th><th scope=col>species</th><th scope=col>nova</th></tr></thead>\n",
       "<tbody>\n",
       "\t<tr><td>5.1        </td><td>3.5        </td><td>1.4        </td><td>0.2        </td><td>Iris-setosa</td><td> 1         </td></tr>\n",
       "\t<tr><td>4.9        </td><td>3.0        </td><td>1.4        </td><td>0.2        </td><td>Iris-setosa</td><td> 2         </td></tr>\n",
       "\t<tr><td>4.7        </td><td>3.2        </td><td>1.3        </td><td>0.2        </td><td>Iris-setosa</td><td> 3         </td></tr>\n",
       "\t<tr><td>4.6        </td><td>3.1        </td><td>1.5        </td><td>0.2        </td><td>Iris-setosa</td><td> 4         </td></tr>\n",
       "\t<tr><td>5.0        </td><td>3.6        </td><td>1.4        </td><td>0.2        </td><td>Iris-setosa</td><td> 5         </td></tr>\n",
       "\t<tr><td>5.4        </td><td>3.9        </td><td>1.7        </td><td>0.4        </td><td>Iris-setosa</td><td> 6         </td></tr>\n",
       "\t<tr><td>4.6        </td><td>3.4        </td><td>1.4        </td><td>0.3        </td><td>Iris-setosa</td><td> 7         </td></tr>\n",
       "\t<tr><td>5.0        </td><td>3.4        </td><td>1.5        </td><td>0.2        </td><td>Iris-setosa</td><td> 8         </td></tr>\n",
       "\t<tr><td>4.4        </td><td>2.9        </td><td>1.4        </td><td>0.2        </td><td>Iris-setosa</td><td> 9         </td></tr>\n",
       "\t<tr><td>4.9        </td><td>3.1        </td><td>1.5        </td><td>0.1        </td><td>Iris-setosa</td><td>10         </td></tr>\n",
       "\t<tr><td>5.4        </td><td>3.7        </td><td>1.5        </td><td>0.2        </td><td>Iris-setosa</td><td>11         </td></tr>\n",
       "\t<tr><td>4.8        </td><td>3.4        </td><td>1.6        </td><td>0.2        </td><td>Iris-setosa</td><td>12         </td></tr>\n",
       "\t<tr><td>4.8        </td><td>3.0        </td><td>1.4        </td><td>0.1        </td><td>Iris-setosa</td><td>13         </td></tr>\n",
       "\t<tr><td>4.3        </td><td>3.0        </td><td>1.1        </td><td>0.1        </td><td>Iris-setosa</td><td>14         </td></tr>\n",
       "\t<tr><td>5.8        </td><td>4.0        </td><td>1.2        </td><td>0.2        </td><td>Iris-setosa</td><td>15         </td></tr>\n",
       "\t<tr><td>5.7        </td><td>4.4        </td><td>1.5        </td><td>0.4        </td><td>Iris-setosa</td><td>16         </td></tr>\n",
       "\t<tr><td>5.4        </td><td>3.9        </td><td>1.3        </td><td>0.4        </td><td>Iris-setosa</td><td>17         </td></tr>\n",
       "\t<tr><td>5.1        </td><td>3.5        </td><td>1.4        </td><td>0.3        </td><td>Iris-setosa</td><td>18         </td></tr>\n",
       "\t<tr><td>5.7        </td><td>3.8        </td><td>1.7        </td><td>0.3        </td><td>Iris-setosa</td><td>19         </td></tr>\n",
       "\t<tr><td>5.1        </td><td>3.8        </td><td>1.5        </td><td>0.3        </td><td>Iris-setosa</td><td>20         </td></tr>\n",
       "\t<tr><td>5.4        </td><td>3.4        </td><td>1.7        </td><td>0.2        </td><td>Iris-setosa</td><td>21         </td></tr>\n",
       "\t<tr><td>5.1        </td><td>3.7        </td><td>1.5        </td><td>0.4        </td><td>Iris-setosa</td><td>22         </td></tr>\n",
       "\t<tr><td>4.6        </td><td>3.6        </td><td>1.0        </td><td>0.2        </td><td>Iris-setosa</td><td>23         </td></tr>\n",
       "\t<tr><td>5.1        </td><td>3.3        </td><td>1.7        </td><td>0.5        </td><td>Iris-setosa</td><td>24         </td></tr>\n",
       "\t<tr><td>4.8        </td><td>3.4        </td><td>1.9        </td><td>0.2        </td><td>Iris-setosa</td><td>25         </td></tr>\n",
       "\t<tr><td>5.0        </td><td>3.0        </td><td>1.6        </td><td>0.2        </td><td>Iris-setosa</td><td>26         </td></tr>\n",
       "\t<tr><td>5.0        </td><td>3.4        </td><td>1.6        </td><td>0.4        </td><td>Iris-setosa</td><td>27         </td></tr>\n",
       "\t<tr><td>5.2        </td><td>3.5        </td><td>1.5        </td><td>0.2        </td><td>Iris-setosa</td><td>28         </td></tr>\n",
       "\t<tr><td>5.2        </td><td>3.4        </td><td>1.4        </td><td>0.2        </td><td>Iris-setosa</td><td>29         </td></tr>\n",
       "\t<tr><td>4.7        </td><td>3.2        </td><td>1.6        </td><td>0.2        </td><td>Iris-setosa</td><td>30         </td></tr>\n",
       "\t<tr><td>⋮</td><td>⋮</td><td>⋮</td><td>⋮</td><td>⋮</td><td>⋮</td></tr>\n",
       "\t<tr><td>6.9           </td><td>3.2           </td><td>5.7           </td><td>2.3           </td><td>Iris-virginica</td><td>21            </td></tr>\n",
       "\t<tr><td>5.6           </td><td>2.8           </td><td>4.9           </td><td>2.0           </td><td>Iris-virginica</td><td>22            </td></tr>\n",
       "\t<tr><td>7.7           </td><td>2.8           </td><td>6.7           </td><td>2.0           </td><td>Iris-virginica</td><td>23            </td></tr>\n",
       "\t<tr><td>6.3           </td><td>2.7           </td><td>4.9           </td><td>1.8           </td><td>Iris-virginica</td><td>24            </td></tr>\n",
       "\t<tr><td>6.7           </td><td>3.3           </td><td>5.7           </td><td>2.1           </td><td>Iris-virginica</td><td>25            </td></tr>\n",
       "\t<tr><td>7.2           </td><td>3.2           </td><td>6.0           </td><td>1.8           </td><td>Iris-virginica</td><td>26            </td></tr>\n",
       "\t<tr><td>6.2           </td><td>2.8           </td><td>4.8           </td><td>1.8           </td><td>Iris-virginica</td><td>27            </td></tr>\n",
       "\t<tr><td>6.1           </td><td>3.0           </td><td>4.9           </td><td>1.8           </td><td>Iris-virginica</td><td>28            </td></tr>\n",
       "\t<tr><td>6.4           </td><td>2.8           </td><td>5.6           </td><td>2.1           </td><td>Iris-virginica</td><td>29            </td></tr>\n",
       "\t<tr><td>7.2           </td><td>3.0           </td><td>5.8           </td><td>1.6           </td><td>Iris-virginica</td><td>30            </td></tr>\n",
       "\t<tr><td>7.4           </td><td>2.8           </td><td>6.1           </td><td>1.9           </td><td>Iris-virginica</td><td>31            </td></tr>\n",
       "\t<tr><td>7.9           </td><td>3.8           </td><td>6.4           </td><td>2.0           </td><td>Iris-virginica</td><td>32            </td></tr>\n",
       "\t<tr><td>6.4           </td><td>2.8           </td><td>5.6           </td><td>2.2           </td><td>Iris-virginica</td><td>33            </td></tr>\n",
       "\t<tr><td>6.3           </td><td>2.8           </td><td>5.1           </td><td>1.5           </td><td>Iris-virginica</td><td>34            </td></tr>\n",
       "\t<tr><td>6.1           </td><td>2.6           </td><td>5.6           </td><td>1.4           </td><td>Iris-virginica</td><td>35            </td></tr>\n",
       "\t<tr><td>7.7           </td><td>3.0           </td><td>6.1           </td><td>2.3           </td><td>Iris-virginica</td><td>36            </td></tr>\n",
       "\t<tr><td>6.3           </td><td>3.4           </td><td>5.6           </td><td>2.4           </td><td>Iris-virginica</td><td>37            </td></tr>\n",
       "\t<tr><td>6.4           </td><td>3.1           </td><td>5.5           </td><td>1.8           </td><td>Iris-virginica</td><td>38            </td></tr>\n",
       "\t<tr><td>6.0           </td><td>3.0           </td><td>4.8           </td><td>1.8           </td><td>Iris-virginica</td><td>39            </td></tr>\n",
       "\t<tr><td>6.9           </td><td>3.1           </td><td>5.4           </td><td>2.1           </td><td>Iris-virginica</td><td>40            </td></tr>\n",
       "\t<tr><td>6.7           </td><td>3.1           </td><td>5.6           </td><td>2.4           </td><td>Iris-virginica</td><td>41            </td></tr>\n",
       "\t<tr><td>6.9           </td><td>3.1           </td><td>5.1           </td><td>2.3           </td><td>Iris-virginica</td><td>42            </td></tr>\n",
       "\t<tr><td>5.8           </td><td>2.7           </td><td>5.1           </td><td>1.9           </td><td>Iris-virginica</td><td>43            </td></tr>\n",
       "\t<tr><td>6.8           </td><td>3.2           </td><td>5.9           </td><td>2.3           </td><td>Iris-virginica</td><td>44            </td></tr>\n",
       "\t<tr><td>6.7           </td><td>3.3           </td><td>5.7           </td><td>2.5           </td><td>Iris-virginica</td><td>45            </td></tr>\n",
       "\t<tr><td>6.7           </td><td>3.0           </td><td>5.2           </td><td>2.3           </td><td>Iris-virginica</td><td>46            </td></tr>\n",
       "\t<tr><td>6.3           </td><td>2.5           </td><td>5.0           </td><td>1.9           </td><td>Iris-virginica</td><td>47            </td></tr>\n",
       "\t<tr><td>6.5           </td><td>3.0           </td><td>5.2           </td><td>2.0           </td><td>Iris-virginica</td><td>48            </td></tr>\n",
       "\t<tr><td>6.2           </td><td>3.4           </td><td>5.4           </td><td>2.3           </td><td>Iris-virginica</td><td>49            </td></tr>\n",
       "\t<tr><td>5.9           </td><td>3.0           </td><td>5.1           </td><td>1.8           </td><td>Iris-virginica</td><td>50            </td></tr>\n",
       "</tbody>\n",
       "</table>\n"
      ],
      "text/latex": [
       "\\begin{tabular}{r|llllll}\n",
       " sepal\\_length & sepal\\_width & petal\\_length & petal\\_width & species & nova\\\\\n",
       "\\hline\n",
       "\t 5.1         & 3.5         & 1.4         & 0.2         & Iris-setosa &  1         \\\\\n",
       "\t 4.9         & 3.0         & 1.4         & 0.2         & Iris-setosa &  2         \\\\\n",
       "\t 4.7         & 3.2         & 1.3         & 0.2         & Iris-setosa &  3         \\\\\n",
       "\t 4.6         & 3.1         & 1.5         & 0.2         & Iris-setosa &  4         \\\\\n",
       "\t 5.0         & 3.6         & 1.4         & 0.2         & Iris-setosa &  5         \\\\\n",
       "\t 5.4         & 3.9         & 1.7         & 0.4         & Iris-setosa &  6         \\\\\n",
       "\t 4.6         & 3.4         & 1.4         & 0.3         & Iris-setosa &  7         \\\\\n",
       "\t 5.0         & 3.4         & 1.5         & 0.2         & Iris-setosa &  8         \\\\\n",
       "\t 4.4         & 2.9         & 1.4         & 0.2         & Iris-setosa &  9         \\\\\n",
       "\t 4.9         & 3.1         & 1.5         & 0.1         & Iris-setosa & 10         \\\\\n",
       "\t 5.4         & 3.7         & 1.5         & 0.2         & Iris-setosa & 11         \\\\\n",
       "\t 4.8         & 3.4         & 1.6         & 0.2         & Iris-setosa & 12         \\\\\n",
       "\t 4.8         & 3.0         & 1.4         & 0.1         & Iris-setosa & 13         \\\\\n",
       "\t 4.3         & 3.0         & 1.1         & 0.1         & Iris-setosa & 14         \\\\\n",
       "\t 5.8         & 4.0         & 1.2         & 0.2         & Iris-setosa & 15         \\\\\n",
       "\t 5.7         & 4.4         & 1.5         & 0.4         & Iris-setosa & 16         \\\\\n",
       "\t 5.4         & 3.9         & 1.3         & 0.4         & Iris-setosa & 17         \\\\\n",
       "\t 5.1         & 3.5         & 1.4         & 0.3         & Iris-setosa & 18         \\\\\n",
       "\t 5.7         & 3.8         & 1.7         & 0.3         & Iris-setosa & 19         \\\\\n",
       "\t 5.1         & 3.8         & 1.5         & 0.3         & Iris-setosa & 20         \\\\\n",
       "\t 5.4         & 3.4         & 1.7         & 0.2         & Iris-setosa & 21         \\\\\n",
       "\t 5.1         & 3.7         & 1.5         & 0.4         & Iris-setosa & 22         \\\\\n",
       "\t 4.6         & 3.6         & 1.0         & 0.2         & Iris-setosa & 23         \\\\\n",
       "\t 5.1         & 3.3         & 1.7         & 0.5         & Iris-setosa & 24         \\\\\n",
       "\t 4.8         & 3.4         & 1.9         & 0.2         & Iris-setosa & 25         \\\\\n",
       "\t 5.0         & 3.0         & 1.6         & 0.2         & Iris-setosa & 26         \\\\\n",
       "\t 5.0         & 3.4         & 1.6         & 0.4         & Iris-setosa & 27         \\\\\n",
       "\t 5.2         & 3.5         & 1.5         & 0.2         & Iris-setosa & 28         \\\\\n",
       "\t 5.2         & 3.4         & 1.4         & 0.2         & Iris-setosa & 29         \\\\\n",
       "\t 4.7         & 3.2         & 1.6         & 0.2         & Iris-setosa & 30         \\\\\n",
       "\t ⋮ & ⋮ & ⋮ & ⋮ & ⋮ & ⋮\\\\\n",
       "\t 6.9            & 3.2            & 5.7            & 2.3            & Iris-virginica & 21            \\\\\n",
       "\t 5.6            & 2.8            & 4.9            & 2.0            & Iris-virginica & 22            \\\\\n",
       "\t 7.7            & 2.8            & 6.7            & 2.0            & Iris-virginica & 23            \\\\\n",
       "\t 6.3            & 2.7            & 4.9            & 1.8            & Iris-virginica & 24            \\\\\n",
       "\t 6.7            & 3.3            & 5.7            & 2.1            & Iris-virginica & 25            \\\\\n",
       "\t 7.2            & 3.2            & 6.0            & 1.8            & Iris-virginica & 26            \\\\\n",
       "\t 6.2            & 2.8            & 4.8            & 1.8            & Iris-virginica & 27            \\\\\n",
       "\t 6.1            & 3.0            & 4.9            & 1.8            & Iris-virginica & 28            \\\\\n",
       "\t 6.4            & 2.8            & 5.6            & 2.1            & Iris-virginica & 29            \\\\\n",
       "\t 7.2            & 3.0            & 5.8            & 1.6            & Iris-virginica & 30            \\\\\n",
       "\t 7.4            & 2.8            & 6.1            & 1.9            & Iris-virginica & 31            \\\\\n",
       "\t 7.9            & 3.8            & 6.4            & 2.0            & Iris-virginica & 32            \\\\\n",
       "\t 6.4            & 2.8            & 5.6            & 2.2            & Iris-virginica & 33            \\\\\n",
       "\t 6.3            & 2.8            & 5.1            & 1.5            & Iris-virginica & 34            \\\\\n",
       "\t 6.1            & 2.6            & 5.6            & 1.4            & Iris-virginica & 35            \\\\\n",
       "\t 7.7            & 3.0            & 6.1            & 2.3            & Iris-virginica & 36            \\\\\n",
       "\t 6.3            & 3.4            & 5.6            & 2.4            & Iris-virginica & 37            \\\\\n",
       "\t 6.4            & 3.1            & 5.5            & 1.8            & Iris-virginica & 38            \\\\\n",
       "\t 6.0            & 3.0            & 4.8            & 1.8            & Iris-virginica & 39            \\\\\n",
       "\t 6.9            & 3.1            & 5.4            & 2.1            & Iris-virginica & 40            \\\\\n",
       "\t 6.7            & 3.1            & 5.6            & 2.4            & Iris-virginica & 41            \\\\\n",
       "\t 6.9            & 3.1            & 5.1            & 2.3            & Iris-virginica & 42            \\\\\n",
       "\t 5.8            & 2.7            & 5.1            & 1.9            & Iris-virginica & 43            \\\\\n",
       "\t 6.8            & 3.2            & 5.9            & 2.3            & Iris-virginica & 44            \\\\\n",
       "\t 6.7            & 3.3            & 5.7            & 2.5            & Iris-virginica & 45            \\\\\n",
       "\t 6.7            & 3.0            & 5.2            & 2.3            & Iris-virginica & 46            \\\\\n",
       "\t 6.3            & 2.5            & 5.0            & 1.9            & Iris-virginica & 47            \\\\\n",
       "\t 6.5            & 3.0            & 5.2            & 2.0            & Iris-virginica & 48            \\\\\n",
       "\t 6.2            & 3.4            & 5.4            & 2.3            & Iris-virginica & 49            \\\\\n",
       "\t 5.9            & 3.0            & 5.1            & 1.8            & Iris-virginica & 50            \\\\\n",
       "\\end{tabular}\n"
      ],
      "text/markdown": [
       "\n",
       "sepal_length | sepal_width | petal_length | petal_width | species | nova | \n",
       "|---|---|---|---|---|---|---|---|---|---|---|---|---|---|---|---|---|---|---|---|---|---|---|---|---|---|---|---|---|---|---|---|---|---|---|---|---|---|---|---|---|---|---|---|---|---|---|---|---|---|---|---|---|---|---|---|---|---|---|---|---|\n",
       "| 5.1         | 3.5         | 1.4         | 0.2         | Iris-setosa |  1          | \n",
       "| 4.9         | 3.0         | 1.4         | 0.2         | Iris-setosa |  2          | \n",
       "| 4.7         | 3.2         | 1.3         | 0.2         | Iris-setosa |  3          | \n",
       "| 4.6         | 3.1         | 1.5         | 0.2         | Iris-setosa |  4          | \n",
       "| 5.0         | 3.6         | 1.4         | 0.2         | Iris-setosa |  5          | \n",
       "| 5.4         | 3.9         | 1.7         | 0.4         | Iris-setosa |  6          | \n",
       "| 4.6         | 3.4         | 1.4         | 0.3         | Iris-setosa |  7          | \n",
       "| 5.0         | 3.4         | 1.5         | 0.2         | Iris-setosa |  8          | \n",
       "| 4.4         | 2.9         | 1.4         | 0.2         | Iris-setosa |  9          | \n",
       "| 4.9         | 3.1         | 1.5         | 0.1         | Iris-setosa | 10          | \n",
       "| 5.4         | 3.7         | 1.5         | 0.2         | Iris-setosa | 11          | \n",
       "| 4.8         | 3.4         | 1.6         | 0.2         | Iris-setosa | 12          | \n",
       "| 4.8         | 3.0         | 1.4         | 0.1         | Iris-setosa | 13          | \n",
       "| 4.3         | 3.0         | 1.1         | 0.1         | Iris-setosa | 14          | \n",
       "| 5.8         | 4.0         | 1.2         | 0.2         | Iris-setosa | 15          | \n",
       "| 5.7         | 4.4         | 1.5         | 0.4         | Iris-setosa | 16          | \n",
       "| 5.4         | 3.9         | 1.3         | 0.4         | Iris-setosa | 17          | \n",
       "| 5.1         | 3.5         | 1.4         | 0.3         | Iris-setosa | 18          | \n",
       "| 5.7         | 3.8         | 1.7         | 0.3         | Iris-setosa | 19          | \n",
       "| 5.1         | 3.8         | 1.5         | 0.3         | Iris-setosa | 20          | \n",
       "| 5.4         | 3.4         | 1.7         | 0.2         | Iris-setosa | 21          | \n",
       "| 5.1         | 3.7         | 1.5         | 0.4         | Iris-setosa | 22          | \n",
       "| 4.6         | 3.6         | 1.0         | 0.2         | Iris-setosa | 23          | \n",
       "| 5.1         | 3.3         | 1.7         | 0.5         | Iris-setosa | 24          | \n",
       "| 4.8         | 3.4         | 1.9         | 0.2         | Iris-setosa | 25          | \n",
       "| 5.0         | 3.0         | 1.6         | 0.2         | Iris-setosa | 26          | \n",
       "| 5.0         | 3.4         | 1.6         | 0.4         | Iris-setosa | 27          | \n",
       "| 5.2         | 3.5         | 1.5         | 0.2         | Iris-setosa | 28          | \n",
       "| 5.2         | 3.4         | 1.4         | 0.2         | Iris-setosa | 29          | \n",
       "| 4.7         | 3.2         | 1.6         | 0.2         | Iris-setosa | 30          | \n",
       "| ⋮ | ⋮ | ⋮ | ⋮ | ⋮ | ⋮ | \n",
       "| 6.9            | 3.2            | 5.7            | 2.3            | Iris-virginica | 21             | \n",
       "| 5.6            | 2.8            | 4.9            | 2.0            | Iris-virginica | 22             | \n",
       "| 7.7            | 2.8            | 6.7            | 2.0            | Iris-virginica | 23             | \n",
       "| 6.3            | 2.7            | 4.9            | 1.8            | Iris-virginica | 24             | \n",
       "| 6.7            | 3.3            | 5.7            | 2.1            | Iris-virginica | 25             | \n",
       "| 7.2            | 3.2            | 6.0            | 1.8            | Iris-virginica | 26             | \n",
       "| 6.2            | 2.8            | 4.8            | 1.8            | Iris-virginica | 27             | \n",
       "| 6.1            | 3.0            | 4.9            | 1.8            | Iris-virginica | 28             | \n",
       "| 6.4            | 2.8            | 5.6            | 2.1            | Iris-virginica | 29             | \n",
       "| 7.2            | 3.0            | 5.8            | 1.6            | Iris-virginica | 30             | \n",
       "| 7.4            | 2.8            | 6.1            | 1.9            | Iris-virginica | 31             | \n",
       "| 7.9            | 3.8            | 6.4            | 2.0            | Iris-virginica | 32             | \n",
       "| 6.4            | 2.8            | 5.6            | 2.2            | Iris-virginica | 33             | \n",
       "| 6.3            | 2.8            | 5.1            | 1.5            | Iris-virginica | 34             | \n",
       "| 6.1            | 2.6            | 5.6            | 1.4            | Iris-virginica | 35             | \n",
       "| 7.7            | 3.0            | 6.1            | 2.3            | Iris-virginica | 36             | \n",
       "| 6.3            | 3.4            | 5.6            | 2.4            | Iris-virginica | 37             | \n",
       "| 6.4            | 3.1            | 5.5            | 1.8            | Iris-virginica | 38             | \n",
       "| 6.0            | 3.0            | 4.8            | 1.8            | Iris-virginica | 39             | \n",
       "| 6.9            | 3.1            | 5.4            | 2.1            | Iris-virginica | 40             | \n",
       "| 6.7            | 3.1            | 5.6            | 2.4            | Iris-virginica | 41             | \n",
       "| 6.9            | 3.1            | 5.1            | 2.3            | Iris-virginica | 42             | \n",
       "| 5.8            | 2.7            | 5.1            | 1.9            | Iris-virginica | 43             | \n",
       "| 6.8            | 3.2            | 5.9            | 2.3            | Iris-virginica | 44             | \n",
       "| 6.7            | 3.3            | 5.7            | 2.5            | Iris-virginica | 45             | \n",
       "| 6.7            | 3.0            | 5.2            | 2.3            | Iris-virginica | 46             | \n",
       "| 6.3            | 2.5            | 5.0            | 1.9            | Iris-virginica | 47             | \n",
       "| 6.5            | 3.0            | 5.2            | 2.0            | Iris-virginica | 48             | \n",
       "| 6.2            | 3.4            | 5.4            | 2.3            | Iris-virginica | 49             | \n",
       "| 5.9            | 3.0            | 5.1            | 1.8            | Iris-virginica | 50             | \n",
       "\n",
       "\n"
      ],
      "text/plain": [
       "    sepal_length sepal_width petal_length petal_width species        nova\n",
       "1   5.1          3.5         1.4          0.2         Iris-setosa     1  \n",
       "2   4.9          3.0         1.4          0.2         Iris-setosa     2  \n",
       "3   4.7          3.2         1.3          0.2         Iris-setosa     3  \n",
       "4   4.6          3.1         1.5          0.2         Iris-setosa     4  \n",
       "5   5.0          3.6         1.4          0.2         Iris-setosa     5  \n",
       "6   5.4          3.9         1.7          0.4         Iris-setosa     6  \n",
       "7   4.6          3.4         1.4          0.3         Iris-setosa     7  \n",
       "8   5.0          3.4         1.5          0.2         Iris-setosa     8  \n",
       "9   4.4          2.9         1.4          0.2         Iris-setosa     9  \n",
       "10  4.9          3.1         1.5          0.1         Iris-setosa    10  \n",
       "11  5.4          3.7         1.5          0.2         Iris-setosa    11  \n",
       "12  4.8          3.4         1.6          0.2         Iris-setosa    12  \n",
       "13  4.8          3.0         1.4          0.1         Iris-setosa    13  \n",
       "14  4.3          3.0         1.1          0.1         Iris-setosa    14  \n",
       "15  5.8          4.0         1.2          0.2         Iris-setosa    15  \n",
       "16  5.7          4.4         1.5          0.4         Iris-setosa    16  \n",
       "17  5.4          3.9         1.3          0.4         Iris-setosa    17  \n",
       "18  5.1          3.5         1.4          0.3         Iris-setosa    18  \n",
       "19  5.7          3.8         1.7          0.3         Iris-setosa    19  \n",
       "20  5.1          3.8         1.5          0.3         Iris-setosa    20  \n",
       "21  5.4          3.4         1.7          0.2         Iris-setosa    21  \n",
       "22  5.1          3.7         1.5          0.4         Iris-setosa    22  \n",
       "23  4.6          3.6         1.0          0.2         Iris-setosa    23  \n",
       "24  5.1          3.3         1.7          0.5         Iris-setosa    24  \n",
       "25  4.8          3.4         1.9          0.2         Iris-setosa    25  \n",
       "26  5.0          3.0         1.6          0.2         Iris-setosa    26  \n",
       "27  5.0          3.4         1.6          0.4         Iris-setosa    27  \n",
       "28  5.2          3.5         1.5          0.2         Iris-setosa    28  \n",
       "29  5.2          3.4         1.4          0.2         Iris-setosa    29  \n",
       "30  4.7          3.2         1.6          0.2         Iris-setosa    30  \n",
       "⋮   ⋮            ⋮           ⋮            ⋮           ⋮              ⋮   \n",
       "121 6.9          3.2         5.7          2.3         Iris-virginica 21  \n",
       "122 5.6          2.8         4.9          2.0         Iris-virginica 22  \n",
       "123 7.7          2.8         6.7          2.0         Iris-virginica 23  \n",
       "124 6.3          2.7         4.9          1.8         Iris-virginica 24  \n",
       "125 6.7          3.3         5.7          2.1         Iris-virginica 25  \n",
       "126 7.2          3.2         6.0          1.8         Iris-virginica 26  \n",
       "127 6.2          2.8         4.8          1.8         Iris-virginica 27  \n",
       "128 6.1          3.0         4.9          1.8         Iris-virginica 28  \n",
       "129 6.4          2.8         5.6          2.1         Iris-virginica 29  \n",
       "130 7.2          3.0         5.8          1.6         Iris-virginica 30  \n",
       "131 7.4          2.8         6.1          1.9         Iris-virginica 31  \n",
       "132 7.9          3.8         6.4          2.0         Iris-virginica 32  \n",
       "133 6.4          2.8         5.6          2.2         Iris-virginica 33  \n",
       "134 6.3          2.8         5.1          1.5         Iris-virginica 34  \n",
       "135 6.1          2.6         5.6          1.4         Iris-virginica 35  \n",
       "136 7.7          3.0         6.1          2.3         Iris-virginica 36  \n",
       "137 6.3          3.4         5.6          2.4         Iris-virginica 37  \n",
       "138 6.4          3.1         5.5          1.8         Iris-virginica 38  \n",
       "139 6.0          3.0         4.8          1.8         Iris-virginica 39  \n",
       "140 6.9          3.1         5.4          2.1         Iris-virginica 40  \n",
       "141 6.7          3.1         5.6          2.4         Iris-virginica 41  \n",
       "142 6.9          3.1         5.1          2.3         Iris-virginica 42  \n",
       "143 5.8          2.7         5.1          1.9         Iris-virginica 43  \n",
       "144 6.8          3.2         5.9          2.3         Iris-virginica 44  \n",
       "145 6.7          3.3         5.7          2.5         Iris-virginica 45  \n",
       "146 6.7          3.0         5.2          2.3         Iris-virginica 46  \n",
       "147 6.3          2.5         5.0          1.9         Iris-virginica 47  \n",
       "148 6.5          3.0         5.2          2.0         Iris-virginica 48  \n",
       "149 6.2          3.4         5.4          2.3         Iris-virginica 49  \n",
       "150 5.9          3.0         5.1          1.8         Iris-virginica 50  "
      ]
     },
     "metadata": {},
     "output_type": "display_data"
    }
   ],
   "source": [
    "df$nova = 1:50\n",
    "df"
   ]
  },
  {
   "cell_type": "markdown",
   "metadata": {},
   "source": [
    "#### Removendo componetentes"
   ]
  },
  {
   "cell_type": "code",
   "execution_count": 67,
   "metadata": {},
   "outputs": [
    {
     "data": {
      "text/html": [
       "<table>\n",
       "<thead><tr><th></th><th scope=col>sepal_length</th><th scope=col>sepal_width</th><th scope=col>petal_length</th><th scope=col>petal_width</th></tr></thead>\n",
       "<tbody>\n",
       "\t<tr><th scope=row>145</th><td>6.7</td><td>3.3</td><td>5.7</td><td>2.5</td></tr>\n",
       "\t<tr><th scope=row>146</th><td>6.7</td><td>3.0</td><td>5.2</td><td>2.3</td></tr>\n",
       "\t<tr><th scope=row>147</th><td>6.3</td><td>2.5</td><td>5.0</td><td>1.9</td></tr>\n",
       "\t<tr><th scope=row>148</th><td>6.5</td><td>3.0</td><td>5.2</td><td>2.0</td></tr>\n",
       "\t<tr><th scope=row>149</th><td>6.2</td><td>3.4</td><td>5.4</td><td>2.3</td></tr>\n",
       "\t<tr><th scope=row>150</th><td>5.9</td><td>3.0</td><td>5.1</td><td>1.8</td></tr>\n",
       "</tbody>\n",
       "</table>\n"
      ],
      "text/latex": [
       "\\begin{tabular}{r|llll}\n",
       "  & sepal\\_length & sepal\\_width & petal\\_length & petal\\_width\\\\\n",
       "\\hline\n",
       "\t145 & 6.7 & 3.3 & 5.7 & 2.5\\\\\n",
       "\t146 & 6.7 & 3.0 & 5.2 & 2.3\\\\\n",
       "\t147 & 6.3 & 2.5 & 5.0 & 1.9\\\\\n",
       "\t148 & 6.5 & 3.0 & 5.2 & 2.0\\\\\n",
       "\t149 & 6.2 & 3.4 & 5.4 & 2.3\\\\\n",
       "\t150 & 5.9 & 3.0 & 5.1 & 1.8\\\\\n",
       "\\end{tabular}\n"
      ],
      "text/markdown": [
       "\n",
       "| <!--/--> | sepal_length | sepal_width | petal_length | petal_width | \n",
       "|---|---|---|---|---|---|\n",
       "| 145 | 6.7 | 3.3 | 5.7 | 2.5 | \n",
       "| 146 | 6.7 | 3.0 | 5.2 | 2.3 | \n",
       "| 147 | 6.3 | 2.5 | 5.0 | 1.9 | \n",
       "| 148 | 6.5 | 3.0 | 5.2 | 2.0 | \n",
       "| 149 | 6.2 | 3.4 | 5.4 | 2.3 | \n",
       "| 150 | 5.9 | 3.0 | 5.1 | 1.8 | \n",
       "\n",
       "\n"
      ],
      "text/plain": [
       "    sepal_length sepal_width petal_length petal_width\n",
       "145 6.7          3.3         5.7          2.5        \n",
       "146 6.7          3.0         5.2          2.3        \n",
       "147 6.3          2.5         5.0          1.9        \n",
       "148 6.5          3.0         5.2          2.0        \n",
       "149 6.2          3.4         5.4          2.3        \n",
       "150 5.9          3.0         5.1          1.8        "
      ]
     },
     "metadata": {},
     "output_type": "display_data"
    }
   ],
   "source": [
    "#df = NULL\n",
    "tail(df)"
   ]
  }
 ],
 "metadata": {
  "kernelspec": {
   "display_name": "R",
   "language": "R",
   "name": "ir"
  },
  "language_info": {
   "codemirror_mode": "r",
   "file_extension": ".r",
   "mimetype": "text/x-r-source",
   "name": "R",
   "pygments_lexer": "r",
   "version": "3.2.3"
  }
 },
 "nbformat": 4,
 "nbformat_minor": 2
}
