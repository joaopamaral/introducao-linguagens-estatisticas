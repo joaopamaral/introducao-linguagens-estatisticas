{
 "cells": [
  {
   "cell_type": "markdown",
   "metadata": {},
   "source": [
    "# Pandas\n",
    "\n",
    "Pandas é uma biblioteca open source do Python para análise de dados. Python sempre foi muito bom para preparação de dados, mas tão bom para análise, geralmente prefeririam R ou usando o banco de dados e manupular via SQL. Pandas torna o Python ótimo para análise de dados.\n",
    "\n",
    "\n",
    "## Series\n",
    "\n",
    "Uma Series é um objeto uni-dimensional similar ao ndarray do numpy, lista, ou uma coluna em uma tabela. Cada elemento é indexidado por um rótulo. Por padrão, cada elemento recebe rótulo de 0 a N, onde N é o comprimento da Series menos um.\n",
    "\n",
    "Tem varias formas de criar uma Series, vamos exemplificar apenas duas:"
   ]
  },
  {
   "cell_type": "code",
   "execution_count": 2,
   "metadata": {
    "collapsed": true
   },
   "outputs": [
    {
     "data": {
      "text/plain": [
       "0                7\n",
       "1       Heisenberg\n",
       "2             3.14\n",
       "3      -1789710578\n",
       "4    Happy Eating!\n",
       "dtype: object"
      ]
     },
     "execution_count": 2,
     "metadata": {},
     "output_type": "execute_result"
    }
   ],
   "source": [
    "# importanto pandas\n",
    "import pandas as pd\n",
    "\n",
    "# criando uma série\n",
    "s = pd.Series([7, 'Heisenberg', 3.14, -1789710578, 'Happy Eating!'])\n",
    "s"
   ]
  },
  {
   "cell_type": "markdown",
   "metadata": {},
   "source": [
    "### Opções de Criação"
   ]
  },
  {
   "cell_type": "code",
   "execution_count": 3,
   "metadata": {
    "collapsed": true
   },
   "outputs": [
    {
     "data": {
      "text/plain": [
       "\u001b[1;31mInit signature:\u001b[0m \u001b[0mpd\u001b[0m\u001b[1;33m.\u001b[0m\u001b[0mSeries\u001b[0m\u001b[1;33m(\u001b[0m\u001b[0mdata\u001b[0m\u001b[1;33m=\u001b[0m\u001b[1;32mNone\u001b[0m\u001b[1;33m,\u001b[0m \u001b[0mindex\u001b[0m\u001b[1;33m=\u001b[0m\u001b[1;32mNone\u001b[0m\u001b[1;33m,\u001b[0m \u001b[0mdtype\u001b[0m\u001b[1;33m=\u001b[0m\u001b[1;32mNone\u001b[0m\u001b[1;33m,\u001b[0m \u001b[0mname\u001b[0m\u001b[1;33m=\u001b[0m\u001b[1;32mNone\u001b[0m\u001b[1;33m,\u001b[0m \u001b[0mcopy\u001b[0m\u001b[1;33m=\u001b[0m\u001b[1;32mFalse\u001b[0m\u001b[1;33m,\u001b[0m \u001b[0mfastpath\u001b[0m\u001b[1;33m=\u001b[0m\u001b[1;32mFalse\u001b[0m\u001b[1;33m)\u001b[0m\u001b[1;33m\u001b[0m\u001b[0m\n",
       "\u001b[1;31mDocstring:\u001b[0m     \n",
       "One-dimensional ndarray with axis labels (including time series).\n",
       "\n",
       "Labels need not be unique but must be a hashable type. The object\n",
       "supports both integer- and label-based indexing and provides a host of\n",
       "methods for performing operations involving the index. Statistical\n",
       "methods from ndarray have been overridden to automatically exclude\n",
       "missing data (currently represented as NaN).\n",
       "\n",
       "Operations between Series (+, -, /, *, **) align values based on their\n",
       "associated index values-- they need not be the same length. The result\n",
       "index will be the sorted union of the two indexes.\n",
       "\n",
       "Parameters\n",
       "----------\n",
       "data : array-like, dict, or scalar value\n",
       "    Contains data stored in Series\n",
       "index : array-like or Index (1d)\n",
       "    Values must be hashable and have the same length as `data`.\n",
       "    Non-unique index values are allowed. Will default to\n",
       "    RangeIndex(len(data)) if not provided. If both a dict and index\n",
       "    sequence are used, the index will override the keys found in the\n",
       "    dict.\n",
       "dtype : numpy.dtype or None\n",
       "    If None, dtype will be inferred\n",
       "copy : boolean, default False\n",
       "    Copy input data\n",
       "\u001b[1;31mFile:\u001b[0m           c:\\users\\joao\\anaconda3\\lib\\site-packages\\pandas\\core\\series.py\n",
       "\u001b[1;31mType:\u001b[0m           type\n"
      ]
     },
     "metadata": {},
     "output_type": "display_data"
    }
   ],
   "source": [
    "pd.Series?"
   ]
  },
  {
   "cell_type": "code",
   "execution_count": 4,
   "metadata": {},
   "outputs": [
    {
     "data": {
      "text/plain": [
       "A                7\n",
       "B       Heisenberg\n",
       "I             3.14\n",
       "I      -1789710578\n",
       "J    Happy Eating!\n",
       "dtype: object"
      ]
     },
     "execution_count": 4,
     "metadata": {},
     "output_type": "execute_result"
    }
   ],
   "source": [
    "s = pd.Series([7, 'Heisenberg', 3.14, -1789710578, 'Happy Eating!'],\n",
    "             index=['A', 'B', 'I', 'I', 'J'])\n",
    "s"
   ]
  },
  {
   "cell_type": "markdown",
   "metadata": {},
   "source": [
    "Você pode utilizar indices para selecionar elementos especificos, similar ao numpy."
   ]
  },
  {
   "cell_type": "code",
   "execution_count": 5,
   "metadata": {},
   "outputs": [
    {
     "data": {
      "text/plain": [
       "I           3.14\n",
       "I    -1789710578\n",
       "dtype: object"
      ]
     },
     "execution_count": 5,
     "metadata": {},
     "output_type": "execute_result"
    }
   ],
   "source": [
    "# utilizando apenas um valor\n",
    "s['I']"
   ]
  },
  {
   "cell_type": "code",
   "execution_count": 6,
   "metadata": {},
   "outputs": [
    {
     "data": {
      "text/plain": [
       "A                7\n",
       "B       Heisenberg\n",
       "J    Happy Eating!\n",
       "dtype: object"
      ]
     },
     "execution_count": 6,
     "metadata": {},
     "output_type": "execute_result"
    }
   ],
   "source": [
    "# utilizando lista\n",
    "s[['A', 'B', 'J']]"
   ]
  },
  {
   "cell_type": "markdown",
   "metadata": {},
   "source": [
    "### Operações aritméticas "
   ]
  },
  {
   "cell_type": "code",
   "execution_count": 7,
   "metadata": {},
   "outputs": [
    {
     "name": "stdout",
     "output_type": "stream",
     "text": [
      "s1 = [1, 2, 3, 4]\n",
      "s2 = [4, 3, 2, 1] \n",
      "\n",
      "s1 + s2 = [5, 5, 5, 5]\n",
      "\n",
      "s1 - s2 = [-3, -1, 1, 3]\n",
      "\n",
      "s1 * s2 = [4, 6, 6, 4]\n",
      "\n",
      "s1 / s2 = [0.25, 0.6666666666666666, 1.5, 4.0]\n",
      "\n",
      "s1 % s2 = [1, 2, 1, 0]\n",
      "\n",
      "s1 ** s2 = [1, 8, 9, 4]\n",
      "\n"
     ]
    }
   ],
   "source": [
    "s1 = pd.Series([1, 2, 3, 4])\n",
    "s2 = pd.Series([4, 3, 2, 1])\n",
    "# descomentar para verificar operação entre series indexadas diferentemente\n",
    "# s2 = pd.Series([4, 3, 2, 1], index=[1, 2, 3, 4])\n",
    "\n",
    "print('s1 =', s1.tolist())\n",
    "print('s2 =', s2.tolist(), '\\n')\n",
    "\n",
    "print(\"s1 + s2 = {}\\n\".format((s1 + s2).tolist()))\n",
    "print(\"s1 - s2 = {}\\n\".format((s1 - s2).tolist()))\n",
    "print(\"s1 * s2 = {}\\n\".format((s1 * s2).tolist()))\n",
    "print(\"s1 / s2 = {}\\n\".format((s1 / s2).tolist()))\n",
    "print(\"s1 % s2 = {}\\n\".format((s1 % s2).tolist()))\n",
    "print(\"s1 ** s2 = {}\\n\".format((s1 ** s2).tolist()))"
   ]
  },
  {
   "cell_type": "markdown",
   "metadata": {},
   "source": [
    "### Operadores Booleanos "
   ]
  },
  {
   "cell_type": "code",
   "execution_count": 8,
   "metadata": {},
   "outputs": [
    {
     "name": "stdout",
     "output_type": "stream",
     "text": [
      "s1 =\n",
      "0    1\n",
      "1    2\n",
      "2    3\n",
      "3    4\n",
      "dtype: int64\n",
      "s2 =\n",
      "0    4\n",
      "1    3\n",
      "2    2\n",
      "3    1\n",
      "dtype: int64\n",
      "\n",
      "s1 < s2 = [True, True, False, False]\n",
      "\n",
      "s1 > s2 = [False, False, True, True]\n",
      "\n",
      "s1 == s2 = [False, False, False, False]\n",
      "\n",
      "s1 != s2 = [True, True, True, True]\n",
      "\n",
      "s1 <= s2 = [True, True, False, False]\n",
      "\n",
      "s1 >= s2 = [False, False, True, True]\n",
      "\n"
     ]
    }
   ],
   "source": [
    "s1 = pd.Series([1, 2, 3, 4])\n",
    "s2 = pd.Series([4, 3, 2, 1])\n",
    "\n",
    "# descomentar para verificar comparação entre series indexadas diferentemente\n",
    "# s2 = pd.Series([4, 3, 2, 1], index=[1, 2, 3, 4])\n",
    "\n",
    "# s1 ou s2 podem ser escalares assim como no numpy\n",
    "# descomente a linha abaixo e rode a célula novamente\n",
    "# s1 = 2\n",
    "# ou\n",
    "# s2 = 6\n",
    "\n",
    "print('s1 =\\n{}'.format(s1))\n",
    "print('s2 =\\n{}\\n'.format(s2))\n",
    "\n",
    "print(\"s1 < s2 = {}\\n\".format((s1 < s2).tolist()))\n",
    "print(\"s1 > s2 = {}\\n\".format((s1 > s2).tolist()))\n",
    "print(\"s1 == s2 = {}\\n\".format((s1 == s2).tolist()))\n",
    "print(\"s1 != s2 = {}\\n\".format((s1 != s2).tolist()))\n",
    "print(\"s1 <= s2 = {}\\n\".format((s1 <= s2).tolist()))\n",
    "print(\"s1 >= s2 = {}\\n\".format((s1 >= s2).tolist()))"
   ]
  },
  {
   "cell_type": "markdown",
   "metadata": {},
   "source": [
    "### Operações numpy"
   ]
  },
  {
   "cell_type": "code",
   "execution_count": 9,
   "metadata": {},
   "outputs": [
    {
     "name": "stdout",
     "output_type": "stream",
     "text": [
      "sum: 10\n",
      "np.log:\n",
      " 0    0.000000\n",
      "1    0.693147\n",
      "2    1.098612\n",
      "3    1.386294\n",
      "dtype: float64\n"
     ]
    }
   ],
   "source": [
    "import numpy as np\n",
    "\n",
    "print(\"sum:\", s1.sum())\n",
    "print(\"np.log:\\n\", np.log(s1))"
   ]
  },
  {
   "cell_type": "code",
   "execution_count": 10,
   "metadata": {},
   "outputs": [
    {
     "data": {
      "text/plain": [
       "'1234'"
      ]
     },
     "execution_count": 10,
     "metadata": {},
     "output_type": "execute_result"
    }
   ],
   "source": [
    "s1 = pd.Series(['1', '2', '3', '4'])\n",
    "s1.sum()"
   ]
  },
  {
   "cell_type": "markdown",
   "metadata": {},
   "source": [
    "### Tratando Valores Faltantes\n",
    "\n",
    "Valores nulos ou faltante, podem ser tratados com método `isnull`"
   ]
  },
  {
   "cell_type": "code",
   "execution_count": 11,
   "metadata": {},
   "outputs": [
    {
     "data": {
      "text/plain": [
       "Austin           False\n",
       "Boston            True\n",
       "Chicago          False\n",
       "New York         False\n",
       "Portland         False\n",
       "San Francisco    False\n",
       "dtype: bool"
      ]
     },
     "execution_count": 11,
     "metadata": {},
     "output_type": "execute_result"
    }
   ],
   "source": [
    "s =pd.Series({'Chicago': 1000, 'New York': 1300, 'Portland': 900, 'San Francisco': 1100,\n",
    "     'Austin': 450, 'Boston': None})\n",
    "\n",
    "s.isnull()"
   ]
  },
  {
   "cell_type": "code",
   "execution_count": 12,
   "metadata": {},
   "outputs": [
    {
     "data": {
      "text/plain": [
       "Austin            450.0\n",
       "Chicago          1000.0\n",
       "New York         1300.0\n",
       "Portland          900.0\n",
       "San Francisco    1100.0\n",
       "dtype: float64"
      ]
     },
     "execution_count": 12,
     "metadata": {},
     "output_type": "execute_result"
    }
   ],
   "source": [
    "s.dropna() # ignorando valores nulos"
   ]
  },
  {
   "cell_type": "code",
   "execution_count": 13,
   "metadata": {},
   "outputs": [
    {
     "data": {
      "text/plain": [
       "True"
      ]
     },
     "execution_count": 13,
     "metadata": {},
     "output_type": "execute_result"
    }
   ],
   "source": [
    "soma = s.sum() # ignora valores nulos\n",
    "\n",
    "soma == s.dropna().sum()"
   ]
  },
  {
   "cell_type": "code",
   "execution_count": null,
   "metadata": {},
   "outputs": [],
   "source": []
  }
 ],
 "metadata": {
  "kernelspec": {
   "display_name": "Python 3",
   "language": "python",
   "name": "python3"
  },
  "language_info": {
   "codemirror_mode": {
    "name": "ipython",
    "version": 3
   },
   "file_extension": ".py",
   "mimetype": "text/x-python",
   "name": "python",
   "nbconvert_exporter": "python",
   "pygments_lexer": "ipython3",
   "version": "3.6.4"
  }
 },
 "nbformat": 4,
 "nbformat_minor": 2
}
